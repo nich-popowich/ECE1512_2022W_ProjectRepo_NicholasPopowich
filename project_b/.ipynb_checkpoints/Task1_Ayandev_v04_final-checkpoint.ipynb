{
  "nbformat": 4,
  "nbformat_minor": 0,
  "metadata": {
    "colab": {
      "name": "New_task1.ipynb",
      "provenance": [],
      "collapsed_sections": [
        "wdAt7wFclFOe",
        "c2OG21iBZ1R0",
        "I41hNSPzZ7GI",
        "ctuPGOUnkKyx",
        "Y6FDQQXgkCa0",
        "5bI0kmgxldzI"
      ],
      "toc_visible": true
    },
    "kernelspec": {
      "name": "python3",
      "display_name": "Python 3"
    },
    "language_info": {
      "name": "python"
    }
  },
  "cells": [
    {
      "cell_type": "markdown",
      "source": [
        "# Project B: Knowledge Distillation for Building Lightweight Deep Learning Models in Visual Classification Tasks"
      ],
      "metadata": {
        "id": "6WYMfvCNPwpm"
      }
    },
    {
      "cell_type": "code",
      "source": [
        "import tensorflow.compat.v2 as tf\n",
        "import tensorflow_datasets as tfds\n",
        "from tensorflow.core.util import event_pb2\n",
        "#import tensorflow\n",
        "import keras\n",
        "from tensorflow.python.lib.io import tf_record\n",
        "from typing import Union\n",
        "import numpy as np\n",
        "import os\n",
        "from google.colab import drive\n",
        "drive.mount('/content/drive')\n",
        "os.chdir(r'/content/drive/My Drive/ECE1512')\n",
        "tf.enable_v2_behavior()\n",
        "\n",
        "builder = tfds.builder('mnist')\n",
        "BATCH_SIZE = 256\n",
        "NUM_EPOCHS = 12\n",
        "NUM_CLASSES = 10  # 10 total classes."
      ],
      "metadata": {
        "id": "vA8ppgB2P0aJ",
        "colab": {
          "base_uri": "https://localhost:8080/"
        },
        "outputId": "e5c00205-834e-492e-ed86-14804b768bcd"
      },
      "execution_count": 1,
      "outputs": [
        {
          "output_type": "stream",
          "name": "stdout",
          "text": [
            "Mounted at /content/drive\n"
          ]
        }
      ]
    },
    {
      "cell_type": "code",
      "source": [
        "from tensorflow import keras\n",
        "from keras.models import load_model\n",
        "from tensorflow.keras import layers\n",
        "#from keras.layers import Dense, Dropout, Activation, Flatten\n",
        "from tensorflow.keras.optimizers import Adam"
      ],
      "metadata": {
        "id": "6gnTDdemHLV0"
      },
      "execution_count": 2,
      "outputs": []
    },
    {
      "cell_type": "markdown",
      "source": [
        "# Data loading"
      ],
      "metadata": {
        "id": "H2EFLQROP2R7"
      }
    },
    {
      "cell_type": "code",
      "source": [
        "# Load train and test splits.\n",
        "def preprocess(x):\n",
        "  image = tf.image.convert_image_dtype(x['image'], tf.float32)\n",
        "  class_labels = tf.one_hot(x['label'], builder.info.features['label'].num_classes)\n",
        "  return image, class_labels\n",
        "\n",
        "\n",
        "mnist_train = tfds.load('mnist', split='train', shuffle_files=False).cache()\n",
        "mnist_train = mnist_train.map(preprocess)\n",
        "mnist_train = mnist_train.shuffle(builder.info.splits['train'].num_examples)\n",
        "mnist_train = mnist_train.batch(BATCH_SIZE, drop_remainder=True)\n",
        "\n",
        "mnist_test = tfds.load('mnist', split='test').cache()\n"
      ],
      "metadata": {
        "id": "ynByMG_UP4A4"
      },
      "execution_count": 44,
      "outputs": []
    },
    {
      "cell_type": "code",
      "source": [
        "mnist_test = mnist_test.map(preprocess).batch(BATCH_SIZE)"
      ],
      "metadata": {
        "id": "hQDh4og3FMAs"
      },
      "execution_count": 45,
      "outputs": []
    },
    {
      "cell_type": "code",
      "source": [
        "mnist_test"
      ],
      "metadata": {
        "colab": {
          "base_uri": "https://localhost:8080/"
        },
        "id": "-yV3LZSMfTtn",
        "outputId": "0a56225c-b8c5-4868-c4c1-53a59d098c5f"
      },
      "execution_count": 26,
      "outputs": [
        {
          "output_type": "execute_result",
          "data": {
            "text/plain": [
              "<BatchDataset element_spec=(TensorSpec(shape=(None, 28, 28, 1), dtype=tf.float32, name=None), TensorSpec(shape=(None, 10), dtype=tf.float32, name=None))>"
            ]
          },
          "metadata": {},
          "execution_count": 26
        }
      ]
    },
    {
      "cell_type": "markdown",
      "source": [
        "# Model creation"
      ],
      "metadata": {
        "id": "kAZwfvW5P63q"
      }
    },
    {
      "cell_type": "markdown",
      "source": [
        "## Model Teacher and student for KD"
      ],
      "metadata": {
        "id": "uOufo7MglQgK"
      }
    },
    {
      "cell_type": "code",
      "source": [
        "# Build CNN teacher.\n",
        "#cnn_model = tf.keras.Sequential()\n",
        "\n",
        "# your code start from here for stpe 2\n",
        "teacher = keras.Sequential(\n",
        "    [\n",
        "        keras.Input(shape=(28, 28, 1)),\n",
        "        layers.Conv2D(32, (3, 3), strides=(1, 1), padding=\"same\"),\n",
        "        layers.ReLU(),\n",
        "        layers.MaxPooling2D(pool_size=(2, 2), strides=(1, 1), padding=\"same\"),\n",
        "        layers.Conv2D(64, (3, 3), strides=(1, 1), padding=\"same\"),\n",
        "        layers.ReLU(),\n",
        "        layers.MaxPooling2D(pool_size=(2, 2), strides=(2, 2), padding=\"same\"),\n",
        "        layers.Flatten(),\n",
        "        layers.Dropout(0.5),\n",
        "        layers.Dense(128, activation=\"relu\"),\n",
        "        layers.Dropout(0.5),\n",
        "        layers.Dense(10)\n",
        "    ],\n",
        "    name=\"teacher\",\n",
        ")\n",
        "\n",
        "\n",
        "# Build fully connected student.\n",
        "#fc_model = tf.keras.Sequential()\n",
        "\n",
        "\n",
        "# your code start from here for step 2\n",
        "\n",
        "student = keras.Sequential(\n",
        "    [\n",
        "        keras.Input(shape=(28, 28, 1)),\n",
        "        layers.Flatten(),\n",
        "        layers.Dense(784, activation=\"relu\"),\n",
        "        layers.Dense(784, activation=\"relu\"),\n",
        "        layers.Dense(10)\n",
        "\n",
        "    ],\n",
        "    name=\"student\",\n",
        ")\n",
        "\n",
        "\n"
      ],
      "metadata": {
        "id": "zINgDkA7P7BP"
      },
      "execution_count": 4,
      "outputs": []
    },
    {
      "cell_type": "code",
      "source": [
        "student = keras.Sequential(\n",
        "    [\n",
        "        keras.Input(shape=(28, 28, 1)),\n",
        "        layers.Flatten(),\n",
        "        layers.Dense(784, activation=\"relu\"),\n",
        "        layers.Dense(784, activation=\"relu\"),\n",
        "        layers.Dense(10)\n",
        "\n",
        "    ],\n",
        "    name=\"student\",\n",
        ")\n",
        "\n"
      ],
      "metadata": {
        "id": "S-xtk1f1MSRg"
      },
      "execution_count": 44,
      "outputs": []
    },
    {
      "cell_type": "code",
      "source": [
        "teacher.summary()"
      ],
      "metadata": {
        "colab": {
          "base_uri": "https://localhost:8080/"
        },
        "id": "IOptRZOtkffK",
        "outputId": "6a682726-fbaf-4e4a-ad38-4cada3b488d0"
      },
      "execution_count": 5,
      "outputs": [
        {
          "output_type": "stream",
          "name": "stdout",
          "text": [
            "Model: \"teacher\"\n",
            "_________________________________________________________________\n",
            " Layer (type)                Output Shape              Param #   \n",
            "=================================================================\n",
            " conv2d (Conv2D)             (None, 28, 28, 32)        320       \n",
            "                                                                 \n",
            " re_lu (ReLU)                (None, 28, 28, 32)        0         \n",
            "                                                                 \n",
            " max_pooling2d (MaxPooling2D  (None, 28, 28, 32)       0         \n",
            " )                                                               \n",
            "                                                                 \n",
            " conv2d_1 (Conv2D)           (None, 28, 28, 64)        18496     \n",
            "                                                                 \n",
            " re_lu_1 (ReLU)              (None, 28, 28, 64)        0         \n",
            "                                                                 \n",
            " max_pooling2d_1 (MaxPooling  (None, 14, 14, 64)       0         \n",
            " 2D)                                                             \n",
            "                                                                 \n",
            " flatten (Flatten)           (None, 12544)             0         \n",
            "                                                                 \n",
            " dropout (Dropout)           (None, 12544)             0         \n",
            "                                                                 \n",
            " dense (Dense)               (None, 128)               1605760   \n",
            "                                                                 \n",
            " dropout_1 (Dropout)         (None, 128)               0         \n",
            "                                                                 \n",
            " dense_1 (Dense)             (None, 10)                1290      \n",
            "                                                                 \n",
            "=================================================================\n",
            "Total params: 1,625,866\n",
            "Trainable params: 1,625,866\n",
            "Non-trainable params: 0\n",
            "_________________________________________________________________\n"
          ]
        }
      ]
    },
    {
      "cell_type": "markdown",
      "source": [
        "## Models for new KD"
      ],
      "metadata": {
        "id": "wdAt7wFclFOe"
      }
    },
    {
      "cell_type": "markdown",
      "source": [
        "### Teacher assistant for new kd loss: 0.0616 - accuracy: 0.9817 - val_loss: 0.0554 - val_accuracy: 0.9835"
      ],
      "metadata": {
        "id": "Q53S5Ohc_smm"
      }
    },
    {
      "cell_type": "code",
      "source": [
        "teacher_ast = keras.Sequential(\n",
        "    [\n",
        "        keras.Input(shape=(28, 28, 1)),\n",
        "        layers.Conv2D(32, (3, 3), strides=(1, 1), padding=\"same\"),\n",
        "        layers.ReLU(),\n",
        "        layers.MaxPooling2D(pool_size=(2, 2), strides=(1, 1), padding=\"same\"),\n",
        "        # layers.Conv2D(64, (3, 3), strides=(1, 1), padding=\"same\"),\n",
        "        # layers.ReLU(),\n",
        "        #layers.MaxPooling2D(pool_size=(2, 2), strides=(2, 2), padding=\"same\"),\n",
        "        layers.Flatten(),\n",
        "        layers.Dropout(0.5),\n",
        "        #layers.Dense(128, activation=\"relu\"),\n",
        "        # layers.Dropout(0.5),\n",
        "        layers.Dense(10, activation='softmax')\n",
        "    ],\n",
        "    name=\"teacher_ast\",\n",
        ")"
      ],
      "metadata": {
        "id": "7yW7HEgbi0U4"
      },
      "execution_count": 7,
      "outputs": []
    },
    {
      "cell_type": "code",
      "source": [
        "teacher_ast.summary()"
      ],
      "metadata": {
        "colab": {
          "base_uri": "https://localhost:8080/"
        },
        "id": "fVLT8SOAjy39",
        "outputId": "1e9f3c4a-47ef-41f5-ac2c-5bc12bb3d078"
      },
      "execution_count": 8,
      "outputs": [
        {
          "output_type": "stream",
          "name": "stdout",
          "text": [
            "Model: \"teacher_ast\"\n",
            "_________________________________________________________________\n",
            " Layer (type)                Output Shape              Param #   \n",
            "=================================================================\n",
            " conv2d_2 (Conv2D)           (None, 28, 28, 32)        320       \n",
            "                                                                 \n",
            " re_lu_2 (ReLU)              (None, 28, 28, 32)        0         \n",
            "                                                                 \n",
            " max_pooling2d_2 (MaxPooling  (None, 28, 28, 32)       0         \n",
            " 2D)                                                             \n",
            "                                                                 \n",
            " flatten_2 (Flatten)         (None, 25088)             0         \n",
            "                                                                 \n",
            " dropout_2 (Dropout)         (None, 25088)             0         \n",
            "                                                                 \n",
            " dense_5 (Dense)             (None, 10)                250890    \n",
            "                                                                 \n",
            "=================================================================\n",
            "Total params: 251,210\n",
            "Trainable params: 251,210\n",
            "Non-trainable params: 0\n",
            "_________________________________________________________________\n"
          ]
        }
      ]
    },
    {
      "cell_type": "code",
      "source": [
        "teacher_ast.compile(loss=tf.keras.losses.CategoricalCrossentropy(), optimizer=tf.keras.optimizers.Adam(learning_rate=0.001), metrics=[\"accuracy\"])"
      ],
      "metadata": {
        "id": "3dCyk_omjDt3"
      },
      "execution_count": 20,
      "outputs": []
    },
    {
      "cell_type": "code",
      "source": [
        "teacher_ast.fit(mnist_train, epochs=5,validation_data=mnist_test)"
      ],
      "metadata": {
        "colab": {
          "base_uri": "https://localhost:8080/"
        },
        "id": "ndHwc3C8kOTV",
        "outputId": "80f4dd66-ee77-43aa-bf92-41aa7a7e48a7"
      },
      "execution_count": 21,
      "outputs": [
        {
          "output_type": "stream",
          "name": "stdout",
          "text": [
            "Epoch 1/5\n",
            "234/234 [==============================] - 63s 259ms/step - loss: 0.3021 - accuracy: 0.9111 - val_loss: 0.1230 - val_accuracy: 0.9666\n",
            "Epoch 2/5\n",
            "234/234 [==============================] - 62s 255ms/step - loss: 0.1101 - accuracy: 0.9682 - val_loss: 0.0787 - val_accuracy: 0.9769\n",
            "Epoch 3/5\n",
            "234/234 [==============================] - 61s 253ms/step - loss: 0.0815 - accuracy: 0.9764 - val_loss: 0.0649 - val_accuracy: 0.9800\n",
            "Epoch 4/5\n",
            "234/234 [==============================] - 61s 253ms/step - loss: 0.0695 - accuracy: 0.9795 - val_loss: 0.0558 - val_accuracy: 0.9827\n",
            "Epoch 5/5\n",
            "234/234 [==============================] - 61s 253ms/step - loss: 0.0616 - accuracy: 0.9817 - val_loss: 0.0554 - val_accuracy: 0.9835\n"
          ]
        },
        {
          "output_type": "execute_result",
          "data": {
            "text/plain": [
              "<keras.callbacks.History at 0x7f13520a8710>"
            ]
          },
          "metadata": {},
          "execution_count": 21
        }
      ]
    },
    {
      "cell_type": "markdown",
      "source": [
        "### Teacher for new kd loss: 0.0500 - accuracy: 0.9848 - val_loss: 0.0267 - val_accuracy: 0.9916"
      ],
      "metadata": {
        "id": "LNLXQP45_m4T"
      }
    },
    {
      "cell_type": "code",
      "source": [
        "teacher_test = keras.Sequential(\n",
        "    [\n",
        "        keras.Input(shape=(28, 28, 1)),\n",
        "        layers.Conv2D(32, (3, 3), strides=(1, 1), padding=\"same\"),\n",
        "        layers.ReLU(),\n",
        "        layers.MaxPooling2D(pool_size=(2, 2), strides=(1, 1), padding=\"same\"),\n",
        "        layers.Conv2D(64, (3, 3), strides=(1, 1), padding=\"same\"),\n",
        "        layers.ReLU(),\n",
        "        layers.MaxPooling2D(pool_size=(2, 2), strides=(2, 2), padding=\"same\"),\n",
        "        layers.Flatten(),\n",
        "        layers.Dropout(0.5),\n",
        "        layers.Dense(128, activation=\"relu\"),\n",
        "        layers.Dropout(0.5),\n",
        "        layers.Dense(10,activation=\"softmax\")\n",
        "    ],\n",
        "    name=\"teacher_test\",\n",
        ")"
      ],
      "metadata": {
        "id": "bp_XB3KjlCz4"
      },
      "execution_count": 47,
      "outputs": []
    },
    {
      "cell_type": "code",
      "source": [
        "teacher_test.summary()"
      ],
      "metadata": {
        "colab": {
          "base_uri": "https://localhost:8080/"
        },
        "id": "BfRXGY5wlroa",
        "outputId": "bb61688f-7c1d-4af7-fd1f-564dfb4b9a63"
      },
      "execution_count": 48,
      "outputs": [
        {
          "output_type": "stream",
          "name": "stdout",
          "text": [
            "Model: \"teacher_test\"\n",
            "_________________________________________________________________\n",
            " Layer (type)                Output Shape              Param #   \n",
            "=================================================================\n",
            " conv2d_5 (Conv2D)           (None, 28, 28, 32)        320       \n",
            "                                                                 \n",
            " re_lu_5 (ReLU)              (None, 28, 28, 32)        0         \n",
            "                                                                 \n",
            " max_pooling2d_3 (MaxPooling  (None, 28, 28, 32)       0         \n",
            " 2D)                                                             \n",
            "                                                                 \n",
            " conv2d_6 (Conv2D)           (None, 28, 28, 64)        18496     \n",
            "                                                                 \n",
            " re_lu_6 (ReLU)              (None, 28, 28, 64)        0         \n",
            "                                                                 \n",
            " max_pooling2d_4 (MaxPooling  (None, 14, 14, 64)       0         \n",
            " 2D)                                                             \n",
            "                                                                 \n",
            " flatten_14 (Flatten)        (None, 12544)             0         \n",
            "                                                                 \n",
            " dropout_2 (Dropout)         (None, 12544)             0         \n",
            "                                                                 \n",
            " dense_27 (Dense)            (None, 128)               1605760   \n",
            "                                                                 \n",
            " dropout_3 (Dropout)         (None, 128)               0         \n",
            "                                                                 \n",
            " dense_28 (Dense)            (None, 10)                1290      \n",
            "                                                                 \n",
            "=================================================================\n",
            "Total params: 1,625,866\n",
            "Trainable params: 1,625,866\n",
            "Non-trainable params: 0\n",
            "_________________________________________________________________\n"
          ]
        }
      ]
    },
    {
      "cell_type": "code",
      "source": [
        "teacher_test.compile(loss=tf.keras.losses.CategoricalCrossentropy(), optimizer=tf.keras.optimizers.Adam(learning_rate=0.001), metrics=[\"accuracy\"])"
      ],
      "metadata": {
        "id": "M2WpV4-rle8a"
      },
      "execution_count": 49,
      "outputs": []
    },
    {
      "cell_type": "code",
      "source": [
        "teacher_test.fit(mnist_train, epochs=5,validation_data=mnist_test)"
      ],
      "metadata": {
        "colab": {
          "base_uri": "https://localhost:8080/"
        },
        "id": "cRy7lPUelhO7",
        "outputId": "e744566d-415b-4247-fbcd-7d544d4d4f1a"
      },
      "execution_count": 50,
      "outputs": [
        {
          "output_type": "stream",
          "name": "stdout",
          "text": [
            "Epoch 1/5\n",
            "234/234 [==============================] - 206s 870ms/step - loss: 0.2944 - accuracy: 0.9092 - val_loss: 0.0554 - val_accuracy: 0.9817\n",
            "Epoch 2/5\n",
            "234/234 [==============================] - 205s 867ms/step - loss: 0.0940 - accuracy: 0.9710 - val_loss: 0.0390 - val_accuracy: 0.9868\n",
            "Epoch 3/5\n",
            "234/234 [==============================] - 205s 868ms/step - loss: 0.0733 - accuracy: 0.9788 - val_loss: 0.0344 - val_accuracy: 0.9885\n",
            "Epoch 4/5\n",
            "234/234 [==============================] - 205s 869ms/step - loss: 0.0588 - accuracy: 0.9823 - val_loss: 0.0297 - val_accuracy: 0.9901\n",
            "Epoch 5/5\n",
            "234/234 [==============================] - 203s 862ms/step - loss: 0.0500 - accuracy: 0.9848 - val_loss: 0.0267 - val_accuracy: 0.9916\n"
          ]
        },
        {
          "output_type": "execute_result",
          "data": {
            "text/plain": [
              "<keras.callbacks.History at 0x7f13497dbd10>"
            ]
          },
          "metadata": {},
          "execution_count": 50
        }
      ]
    },
    {
      "cell_type": "markdown",
      "source": [
        "### Student fro new kd  loss: 0.0243 - accuracy: 0.9921 - val_loss: 0.0673 - val_accuracy: 0.9805"
      ],
      "metadata": {
        "id": "L_N6az0b_gXf"
      }
    },
    {
      "cell_type": "code",
      "source": [
        "student_2_kdd = keras.Sequential(\n",
        "    [\n",
        "        keras.Input(shape=(28, 28, 1)),\n",
        "        layers.Flatten(),\n",
        "        layers.Dense(784, activation=\"relu\"),\n",
        "        layers.Dense(784, activation=\"relu\"),\n",
        "        layers.Dense(10, activation=\"softmax\")\n",
        "\n",
        "    ],\n",
        "    name=\"student_2_kdd\",\n",
        ")\n"
      ],
      "metadata": {
        "id": "-HTRkeyF17Ha"
      },
      "execution_count": 43,
      "outputs": []
    },
    {
      "cell_type": "code",
      "source": [
        "student_2_kdd.summary()"
      ],
      "metadata": {
        "colab": {
          "base_uri": "https://localhost:8080/"
        },
        "id": "ClhQ5ylf2IdA",
        "outputId": "5104885b-4cb4-40c6-b6a3-5441c49af132"
      },
      "execution_count": 44,
      "outputs": [
        {
          "output_type": "stream",
          "name": "stdout",
          "text": [
            "Model: \"student_2_kdd\"\n",
            "_________________________________________________________________\n",
            " Layer (type)                Output Shape              Param #   \n",
            "=================================================================\n",
            " flatten_13 (Flatten)        (None, 784)               0         \n",
            "                                                                 \n",
            " dense_24 (Dense)            (None, 784)               615440    \n",
            "                                                                 \n",
            " dense_25 (Dense)            (None, 784)               615440    \n",
            "                                                                 \n",
            " dense_26 (Dense)            (None, 10)                7850      \n",
            "                                                                 \n",
            "=================================================================\n",
            "Total params: 1,238,730\n",
            "Trainable params: 1,238,730\n",
            "Non-trainable params: 0\n",
            "_________________________________________________________________\n"
          ]
        }
      ]
    },
    {
      "cell_type": "code",
      "source": [
        "student_2_kdd.compile(loss=tf.keras.losses.CategoricalCrossentropy(), optimizer=tf.keras.optimizers.Adam(learning_rate=0.001), metrics=[\"accuracy\"])"
      ],
      "metadata": {
        "id": "H1nAPQTK2GKI"
      },
      "execution_count": 45,
      "outputs": []
    },
    {
      "cell_type": "code",
      "source": [
        "student_2_kdd.fit(mnist_train, epochs=5,validation_data=mnist_test)"
      ],
      "metadata": {
        "colab": {
          "base_uri": "https://localhost:8080/"
        },
        "id": "ALCehbhI2NWN",
        "outputId": "71746ea1-2332-487e-877c-6a8680fbf64b"
      },
      "execution_count": 46,
      "outputs": [
        {
          "output_type": "stream",
          "name": "stdout",
          "text": [
            "Epoch 1/5\n",
            "234/234 [==============================] - 13s 44ms/step - loss: 0.2346 - accuracy: 0.9306 - val_loss: 0.1023 - val_accuracy: 0.9679\n",
            "Epoch 2/5\n",
            "234/234 [==============================] - 12s 43ms/step - loss: 0.0789 - accuracy: 0.9753 - val_loss: 0.0768 - val_accuracy: 0.9758\n",
            "Epoch 3/5\n",
            "234/234 [==============================] - 12s 43ms/step - loss: 0.0476 - accuracy: 0.9852 - val_loss: 0.0754 - val_accuracy: 0.9753\n",
            "Epoch 4/5\n",
            "234/234 [==============================] - 12s 44ms/step - loss: 0.0330 - accuracy: 0.9896 - val_loss: 0.0635 - val_accuracy: 0.9804\n",
            "Epoch 5/5\n",
            "234/234 [==============================] - 12s 43ms/step - loss: 0.0243 - accuracy: 0.9921 - val_loss: 0.0673 - val_accuracy: 0.9805\n"
          ]
        },
        {
          "output_type": "execute_result",
          "data": {
            "text/plain": [
              "<keras.callbacks.History at 0x7f13498a7d90>"
            ]
          },
          "metadata": {},
          "execution_count": 46
        }
      ]
    },
    {
      "cell_type": "markdown",
      "source": [
        "# Teacher loss function"
      ],
      "metadata": {
        "id": "8JWGucyrQGav"
      }
    },
    {
      "cell_type": "code",
      "source": [
        "\n",
        "def compute_teacher_loss(images, labels,temperature,alpha):\n",
        "  \"\"\"Compute class knowledge distillation teacher loss for given images\n",
        "     and labels.\n",
        "\n",
        "  Args:\n",
        "    images: Tensor representing a batch of images.\n",
        "    labels: Tensor representing a batch of labels.\n",
        "\n",
        "  Returns:\n",
        "    Scalar loss Tensor.\n",
        "  \"\"\"\n",
        "  class_logits = teacher(images, training=True)\n",
        "\n",
        "  # Compute cross-entropy loss for classes.\n",
        "\n",
        "  # your code start from here for step 3\n",
        "\n",
        "  cross_entropy_loss_value = tf.reduce_mean(tf.nn.softmax_cross_entropy_with_logits(labels,class_logits))\n",
        "\n",
        "  return cross_entropy_loss_value"
      ],
      "metadata": {
        "id": "DhzBP6ZLQJ57"
      },
      "execution_count": 6,
      "outputs": []
    },
    {
      "cell_type": "markdown",
      "source": [
        "# Student loss function"
      ],
      "metadata": {
        "id": "JS8xkuH0QbOS"
      }
    },
    {
      "cell_type": "code",
      "source": [
        "# Hyperparameters for distillation (need to be tuned).\n",
        "# ALPHA = 0.5 # task balance between cross-entropy and distillation loss\n",
        "# DISTILLATION_TEMPERATURE = 4. #temperature hyperparameter\n",
        "\n",
        "def distillation_loss(teacher_logits: tf.Tensor, student_logits: tf.Tensor,\n",
        "                      temperature: Union[float, tf.Tensor]):\n",
        "  \"\"\"Compute distillation loss.\n",
        "\n",
        "  This function computes cross entropy between softened logits and softened\n",
        "  targets. The resulting loss is scaled by the squared temperature so that\n",
        "  the gradient magnitude remains approximately constant as the temperature is\n",
        "  changed. For reference, see Hinton et al., 2014, \"Distilling the knowledge in\n",
        "  a neural network.\"\n",
        "\n",
        "  Args:\n",
        "    teacher_logits: A Tensor of logits provided by the teacher.\n",
        "    student_logits: A Tensor of logits provided by the student, of the same\n",
        "      shape as `teacher_logits`.\n",
        "    temperature: Temperature to use for distillation.\n",
        "\n",
        "  Returns:\n",
        "    A scalar Tensor containing the distillation loss.\n",
        "  \"\"\"\n",
        " # your code start from here for step 3\n",
        "  soft_targets = teacher_logits / temperature\n",
        "  soft_targets =tf.nn.softmax(soft_targets)\n",
        "  return tf.reduce_mean(\n",
        "      tf.nn.softmax_cross_entropy_with_logits(\n",
        "          soft_targets, student_logits / temperature))*temperature**2\n",
        "  #* temperature ** 2\n",
        "\n",
        "def compute_student_loss(images, labels,temperature,alpha):\n",
        "  \"\"\"Compute class knowledge distillation student loss for given images\n",
        "     and labels.\n",
        "\n",
        "  Args:\n",
        "    images: Tensor representing a batch of images.\n",
        "    labels: Tensor representing a batch of labels.\n",
        "\n",
        "  Returns:\n",
        "    Scalar loss Tensor.\n",
        "  \"\"\"\n",
        "  student_class_logits = student(images, training=True)\n",
        "\n",
        "  # Compute class distillation loss between student class logits and\n",
        "  # softened teacher class targets probabilities.\n",
        "\n",
        "  # your code start from here for step 3\n",
        "\n",
        "  teacher_class_logits = teacher(images, training=False)\n",
        "  distillation_loss_value =distillation_loss(teacher_class_logits,student_class_logits,temperature)\n",
        "\n",
        "  # Compute cross-entropy loss with hard targets.\n",
        "\n",
        "  # your code start from here for step 3\n",
        "\n",
        " \n",
        "  cross_entropy_loss_value = tf.reduce_mean(tf.nn.softmax_cross_entropy_with_logits(labels, student_class_logits))\n",
        "\n",
        "  total_loss =alpha*cross_entropy_loss_value + (1-alpha)*distillation_loss_value\n",
        "\n",
        "  return total_loss"
      ],
      "metadata": {
        "id": "lDKia4gPQMIr"
      },
      "execution_count": 7,
      "outputs": []
    },
    {
      "cell_type": "markdown",
      "source": [
        "# Train and evaluation"
      ],
      "metadata": {
        "id": "RJ1uyvurQ3w4"
      }
    },
    {
      "cell_type": "markdown",
      "source": [
        "### TRAINING and EVALUATE FUNCTION"
      ],
      "metadata": {
        "id": "5m5J7yJe_dK1"
      }
    },
    {
      "cell_type": "code",
      "source": [
        "# your code start from here for step 5 \n",
        "\n",
        "@tf.function\n",
        "def compute_num_correct(model, images, labels):\n",
        "  \"\"\"Compute number of correctly classified images in a batch.\n",
        "\n",
        "  Args:\n",
        "    model: Instance of tf.keras.Model.\n",
        "    images: Tensor representing a batch of images.\n",
        "    labels: Tensor representing a batch of labels.\n",
        "\n",
        "  Returns:\n",
        "    Number of correctly classified images.\n",
        "  \"\"\"\n",
        "  class_logits = model(images, training=False)\n",
        "  return tf.reduce_sum(\n",
        "      tf.cast(tf.math.equal(tf.argmax(class_logits, -1), tf.argmax(labels, -1)),\n",
        "              tf.float32)), tf.argmax(class_logits, -1), tf.argmax(labels, -1)\n",
        "              \n",
        "def train_and_evaluate(model, compute_loss_fn,temperature,learning_rate,alpha):\n",
        "  \"\"\"Perform training and evaluation for a given model.\n",
        "\n",
        "  Args:\n",
        "    model: Instance of tf.keras.Model.\n",
        "    compute_loss_fn: A function that computes the training loss given the\n",
        "      images, and labels.\n",
        "  \"\"\"\n",
        " \n",
        "  # your code start from here for step 4\n",
        "  optimizer = tf.keras.optimizers.Adam(learning_rate=learning_rate)\n",
        "\n",
        "  for epoch in range(1, NUM_EPOCHS + 1):\n",
        "    # Run training.\n",
        "    print('Epoch {}: '.format(epoch), end='')\n",
        "    for images, labels in mnist_train:\n",
        "      with tf.GradientTape() as tape:\n",
        "         # your code start from here for step 4\n",
        "          \n",
        "          loss_value = compute_loss_fn(images,labels,temperature,alpha)\n",
        "\n",
        "      grads = tape.gradient(loss_value, model.trainable_variables)\n",
        "      # grads = [gradient*(1) for gradient in grads]\n",
        "      optimizer.apply_gradients(zip(grads, model.trainable_variables))\n",
        "\n",
        "      \n",
        "    # Run evaluation.\n",
        "    num_correct = 0\n",
        "    num_total = builder.info.splits['test'].num_examples\n",
        "    for images, labels in mnist_test:\n",
        "    #   # your code start from here for step 4\n",
        "\n",
        "      num_correct += compute_num_correct(model,images,labels)[0]\n",
        "      \n",
        "    print(\"Class_accuracy: \" + '{:.2f}%'.format(\n",
        "        num_correct / num_total * 100))\n"
      ],
      "metadata": {
        "id": "-AGHbyABRPz3"
      },
      "execution_count": 48,
      "outputs": []
    },
    {
      "cell_type": "markdown",
      "source": [
        "## **Training models**"
      ],
      "metadata": {
        "id": "hIoAlClYgWsf"
      }
    },
    {
      "cell_type": "code",
      "source": [
        "temp=4"
      ],
      "metadata": {
        "id": "0BNgwuiqxzI3"
      },
      "execution_count": 37,
      "outputs": []
    },
    {
      "cell_type": "code",
      "source": [
        "\n",
        "learning_rate=0.001\n",
        "alpha=0.5\n",
        "print(\"Teacher training\")\n",
        "train_and_evaluate(teacher, compute_teacher_loss,temp,learning_rate,alpha)"
      ],
      "metadata": {
        "colab": {
          "base_uri": "https://localhost:8080/"
        },
        "id": "67za9g4RjQo8",
        "outputId": "e1408579-8987-45c0-dfd5-f74885458902"
      },
      "execution_count": 13,
      "outputs": [
        {
          "output_type": "stream",
          "name": "stdout",
          "text": [
            "Teacher training\n",
            "Epoch 1: Class_accuracy: 98.04%\n",
            "Epoch 2: Class_accuracy: 98.67%\n",
            "Epoch 3: Class_accuracy: 98.82%\n",
            "Epoch 4: Class_accuracy: 99.09%\n",
            "Epoch 5: Class_accuracy: 99.06%\n",
            "Epoch 6: Class_accuracy: 99.00%\n",
            "Epoch 7: Class_accuracy: 99.19%\n",
            "Epoch 8: Class_accuracy: 99.09%\n",
            "Epoch 9: Class_accuracy: 99.02%\n",
            "Epoch 10: Class_accuracy: 99.20%\n",
            "Epoch 11: Class_accuracy: 99.16%\n",
            "Epoch 12: Class_accuracy: 99.29%\n"
          ]
        }
      ]
    },
    {
      "cell_type": "code",
      "source": [
        "teacher.save(\"teacher_model.h5\")\n",
        "teacher.save_weights(\"teacher_model_weight\")"
      ],
      "metadata": {
        "colab": {
          "base_uri": "https://localhost:8080/"
        },
        "id": "xSuGLuFX4B9Y",
        "outputId": "0cce4f44-cd77-4f94-a8a5-9dff9c5147b4"
      },
      "execution_count": 14,
      "outputs": [
        {
          "output_type": "stream",
          "name": "stdout",
          "text": [
            "WARNING:tensorflow:Compiled the loaded model, but the compiled metrics have yet to be built. `model.compile_metrics` will be empty until you train or evaluate the model.\n"
          ]
        },
        {
          "output_type": "stream",
          "name": "stderr",
          "text": [
            "WARNING:tensorflow:Compiled the loaded model, but the compiled metrics have yet to be built. `model.compile_metrics` will be empty until you train or evaluate the model.\n"
          ]
        }
      ]
    },
    {
      "cell_type": "code",
      "source": [
        "learning_rate=0.001\n",
        "alpha=0.5 \n",
        "temp=4\n",
        "print(\"Student distill training\")\n",
        "train_and_evaluate(student, compute_student_loss,temp,learning_rate,alpha)"
      ],
      "metadata": {
        "id": "s585vOOHr0pX",
        "colab": {
          "base_uri": "https://localhost:8080/"
        },
        "outputId": "a5125b3f-cc38-439b-a04f-379acc07b9a7"
      },
      "execution_count": 45,
      "outputs": [
        {
          "output_type": "stream",
          "name": "stdout",
          "text": [
            "Student distill training\n",
            "Epoch 1: Class_accuracy: 96.74%\n",
            "Epoch 2: Class_accuracy: 97.88%\n",
            "Epoch 3: Class_accuracy: 98.07%\n",
            "Epoch 4: Class_accuracy: 98.45%\n",
            "Epoch 5: Class_accuracy: 98.44%\n",
            "Epoch 6: Class_accuracy: 98.65%\n",
            "Epoch 7: Class_accuracy: 98.65%\n",
            "Epoch 8: Class_accuracy: 98.71%\n",
            "Epoch 9: Class_accuracy: 98.78%\n",
            "Epoch 10: Class_accuracy: 98.73%\n",
            "Epoch 11: Class_accuracy: 98.63%\n",
            "Epoch 12: Class_accuracy: 98.73%\n"
          ]
        }
      ]
    },
    {
      "cell_type": "code",
      "source": [
        "student.save('student_kd_temp4.h5')\n",
        "student.save_weights('student_kd_temp4_weight')"
      ],
      "metadata": {
        "colab": {
          "base_uri": "https://localhost:8080/"
        },
        "id": "FtfNLbnkWAsr",
        "outputId": "99ee64c0-9c1b-4727-86c2-bc83a9b9ab0d"
      },
      "execution_count": 39,
      "outputs": [
        {
          "output_type": "stream",
          "name": "stdout",
          "text": [
            "WARNING:tensorflow:Compiled the loaded model, but the compiled metrics have yet to be built. `model.compile_metrics` will be empty until you train or evaluate the model.\n"
          ]
        },
        {
          "output_type": "stream",
          "name": "stderr",
          "text": [
            "WARNING:tensorflow:Compiled the loaded model, but the compiled metrics have yet to be built. `model.compile_metrics` will be empty until you train or evaluate the model.\n"
          ]
        }
      ]
    },
    {
      "cell_type": "markdown",
      "source": [
        "# **Test accuracy vs. tempreture curve**"
      ],
      "metadata": {
        "id": "sj1N38fnRTNB"
      }
    },
    {
      "cell_type": "markdown",
      "source": [
        "## TEMP1 student KD train"
      ],
      "metadata": {
        "id": "ymQ5oz8PDRBT"
      }
    },
    {
      "cell_type": "code",
      "source": [
        "student_temp1 = keras.Sequential(\n",
        "    [\n",
        "        keras.Input(shape=(28, 28, 1)),\n",
        "        layers.Flatten(),\n",
        "        layers.Dense(784, activation=\"relu\"),\n",
        "        layers.Dense(784, activation=\"relu\"),\n",
        "        layers.Dense(10)\n",
        "\n",
        "    ],\n",
        "    name=\"student_temp1\",\n",
        ")\n"
      ],
      "metadata": {
        "id": "5KxSodlGB459"
      },
      "execution_count": 23,
      "outputs": []
    },
    {
      "cell_type": "code",
      "source": [
        "student_temp1.summary()"
      ],
      "metadata": {
        "colab": {
          "base_uri": "https://localhost:8080/"
        },
        "id": "8Yp-PNkCCTu6",
        "outputId": "bec18255-21da-46fc-83b8-5010dff70aff"
      },
      "execution_count": 24,
      "outputs": [
        {
          "output_type": "stream",
          "name": "stdout",
          "text": [
            "Model: \"student_temp1\"\n",
            "_________________________________________________________________\n",
            " Layer (type)                Output Shape              Param #   \n",
            "=================================================================\n",
            " flatten_6 (Flatten)         (None, 784)               0         \n",
            "                                                                 \n",
            " dense_17 (Dense)            (None, 784)               615440    \n",
            "                                                                 \n",
            " dense_18 (Dense)            (None, 784)               615440    \n",
            "                                                                 \n",
            " dense_19 (Dense)            (None, 10)                7850      \n",
            "                                                                 \n",
            "=================================================================\n",
            "Total params: 1,238,730\n",
            "Trainable params: 1,238,730\n",
            "Non-trainable params: 0\n",
            "_________________________________________________________________\n"
          ]
        }
      ]
    },
    {
      "cell_type": "code",
      "source": [
        "teacher=load_model('./teacher_model.h5')\n",
        "teacher.load_weights('./teacher_model_weight')"
      ],
      "metadata": {
        "colab": {
          "base_uri": "https://localhost:8080/"
        },
        "id": "g-G72lneCjaY",
        "outputId": "b497fe77-2c28-40d7-be48-5083aea4c043"
      },
      "execution_count": 25,
      "outputs": [
        {
          "output_type": "stream",
          "name": "stdout",
          "text": [
            "WARNING:tensorflow:No training configuration found in the save file, so the model was *not* compiled. Compile it manually.\n"
          ]
        },
        {
          "output_type": "stream",
          "name": "stderr",
          "text": [
            "WARNING:tensorflow:No training configuration found in the save file, so the model was *not* compiled. Compile it manually.\n"
          ]
        },
        {
          "output_type": "execute_result",
          "data": {
            "text/plain": [
              "<tensorflow.python.training.tracking.util.CheckpointLoadStatus at 0x7fba43caf450>"
            ]
          },
          "metadata": {},
          "execution_count": 25
        }
      ]
    },
    {
      "cell_type": "code",
      "source": [
        "def compute_student_loss_t1(images, labels,temperature,alpha):\n",
        "  \"\"\"Compute class knowledge distillation student loss for given images\n",
        "     and labels.\n",
        "\n",
        "  Args:\n",
        "    images: Tensor representing a batch of images.\n",
        "    labels: Tensor representing a batch of labels.\n",
        "\n",
        "  Returns:\n",
        "    Scalar loss Tensor.\n",
        "  \"\"\"\n",
        "  student_class_logits = student_temp1(images, training=True)\n",
        "\n",
        "  # Compute class distillation loss between student class logits and\n",
        "  # softened teacher class targets probabilities.\n",
        "\n",
        "  # your code start from here for step 3\n",
        "\n",
        "  teacher_class_logits = teacher(images, training=False)\n",
        "  distillation_loss_value =distillation_loss(teacher_class_logits,student_class_logits,temperature)\n",
        "\n",
        "  # Compute cross-entropy loss with hard targets.\n",
        "\n",
        "  # your code start from here for step 3\n",
        "\n",
        " \n",
        "  cross_entropy_loss_value = tf.reduce_mean(tf.nn.softmax_cross_entropy_with_logits(labels, student_class_logits))\n",
        "\n",
        "  total_loss =alpha*cross_entropy_loss_value + (1-alpha)*distillation_loss_value\n",
        "\n",
        "  return total_loss"
      ],
      "metadata": {
        "id": "pv9YxazJDZRn"
      },
      "execution_count": 26,
      "outputs": []
    },
    {
      "cell_type": "code",
      "source": [
        "# your code start from here for step 6\n",
        "temp=1\n",
        "learning_rate=0.001\n",
        "alpha=0.5\n",
        "print(\"Student distill training\")\n",
        "train_and_evaluate(student_temp1,compute_student_loss_t1,temp,learning_rate,alpha)\n",
        "student_temp1.save('student_kd_temp1.h5')\n",
        "student_temp1.save_weights('student_kd_temp1_weight')"
      ],
      "metadata": {
        "id": "gX4dbazrRWIz",
        "colab": {
          "base_uri": "https://localhost:8080/"
        },
        "outputId": "159bf840-1aa7-4136-abf7-aeb95e9215a5"
      },
      "execution_count": 27,
      "outputs": [
        {
          "output_type": "stream",
          "name": "stdout",
          "text": [
            "Student distill training\n",
            "Epoch 1: Class_accuracy: 96.95%\n",
            "Epoch 2: Class_accuracy: 97.83%\n",
            "Epoch 3: Class_accuracy: 97.76%\n",
            "Epoch 4: Class_accuracy: 98.01%\n",
            "Epoch 5: Class_accuracy: 97.73%\n",
            "Epoch 6: Class_accuracy: 98.29%\n",
            "Epoch 7: Class_accuracy: 97.98%\n",
            "Epoch 8: Class_accuracy: 98.34%\n",
            "Epoch 9: Class_accuracy: 98.16%\n",
            "Epoch 10: Class_accuracy: 98.17%\n",
            "Epoch 11: Class_accuracy: 98.31%\n",
            "Epoch 12: Class_accuracy: 98.34%\n",
            "WARNING:tensorflow:Compiled the loaded model, but the compiled metrics have yet to be built. `model.compile_metrics` will be empty until you train or evaluate the model.\n"
          ]
        },
        {
          "output_type": "stream",
          "name": "stderr",
          "text": [
            "WARNING:tensorflow:Compiled the loaded model, but the compiled metrics have yet to be built. `model.compile_metrics` will be empty until you train or evaluate the model.\n"
          ]
        }
      ]
    },
    {
      "cell_type": "markdown",
      "source": [
        "## TEMP2 student KD train"
      ],
      "metadata": {
        "id": "r4vr0Ay0EiQL"
      }
    },
    {
      "cell_type": "code",
      "source": [
        "student_temp2 = keras.Sequential(\n",
        "    [\n",
        "        keras.Input(shape=(28, 28, 1)),\n",
        "        layers.Flatten(),\n",
        "        layers.Dense(784, activation=\"relu\"),\n",
        "        layers.Dense(784, activation=\"relu\"),\n",
        "        layers.Dense(10)\n",
        "\n",
        "    ],\n",
        "    name=\"student_temp2\",\n",
        ")\n"
      ],
      "metadata": {
        "id": "5ehvhqgBCAIO"
      },
      "execution_count": 28,
      "outputs": []
    },
    {
      "cell_type": "code",
      "source": [
        "def compute_student_loss_t2(images, labels,temperature,alpha):\n",
        "  \"\"\"Compute class knowledge distillation student loss for given images\n",
        "     and labels.\n",
        "\n",
        "  Args:\n",
        "    images: Tensor representing a batch of images.\n",
        "    labels: Tensor representing a batch of labels.\n",
        "\n",
        "  Returns:\n",
        "    Scalar loss Tensor.\n",
        "  \"\"\"\n",
        "  student_class_logits = student_temp2(images, training=True)\n",
        "\n",
        "  # Compute class distillation loss between student class logits and\n",
        "  # softened teacher class targets probabilities.\n",
        "\n",
        "  # your code start from here for step 3\n",
        "\n",
        "  teacher_class_logits = teacher(images, training=False)\n",
        "  distillation_loss_value =distillation_loss(teacher_class_logits,student_class_logits,temperature)\n",
        "\n",
        "  # Compute cross-entropy loss with hard targets.\n",
        "\n",
        "  # your code start from here for step 3\n",
        "\n",
        " \n",
        "  cross_entropy_loss_value = tf.reduce_mean(tf.nn.softmax_cross_entropy_with_logits(labels, student_class_logits))\n",
        "\n",
        "  total_loss =alpha*cross_entropy_loss_value + (1-alpha)*distillation_loss_value\n",
        "\n",
        "  return total_loss"
      ],
      "metadata": {
        "id": "dPBUQJVZD2Iy"
      },
      "execution_count": 29,
      "outputs": []
    },
    {
      "cell_type": "code",
      "source": [
        "temp=2\n",
        "learning_rate=0.001\n",
        "alpha=0.5\n",
        "print(\"Student distill training\")\n",
        "train_and_evaluate(student_temp2, compute_student_loss_t2,temp,learning_rate,alpha)\n",
        "student_temp2.save('student_kd_temp2.h5')\n",
        "student_temp2.save_weights('student_kd_temp2_weight')"
      ],
      "metadata": {
        "colab": {
          "base_uri": "https://localhost:8080/"
        },
        "id": "-NaASSYLWDgj",
        "outputId": "e5e7b847-60ab-4216-fd00-4c3844071a09"
      },
      "execution_count": 30,
      "outputs": [
        {
          "output_type": "stream",
          "name": "stdout",
          "text": [
            "Student distill training\n",
            "Epoch 1: Class_accuracy: 96.64%\n",
            "Epoch 2: Class_accuracy: 97.59%\n",
            "Epoch 3: Class_accuracy: 97.83%\n",
            "Epoch 4: Class_accuracy: 98.29%\n",
            "Epoch 5: Class_accuracy: 98.44%\n",
            "Epoch 6: Class_accuracy: 98.48%\n",
            "Epoch 7: Class_accuracy: 98.52%\n",
            "Epoch 8: Class_accuracy: 98.53%\n",
            "Epoch 9: Class_accuracy: 98.47%\n",
            "Epoch 10: Class_accuracy: 98.55%\n",
            "Epoch 11: Class_accuracy: 98.60%\n",
            "Epoch 12: Class_accuracy: 98.42%\n",
            "WARNING:tensorflow:Compiled the loaded model, but the compiled metrics have yet to be built. `model.compile_metrics` will be empty until you train or evaluate the model.\n"
          ]
        },
        {
          "output_type": "stream",
          "name": "stderr",
          "text": [
            "WARNING:tensorflow:Compiled the loaded model, but the compiled metrics have yet to be built. `model.compile_metrics` will be empty until you train or evaluate the model.\n"
          ]
        }
      ]
    },
    {
      "cell_type": "markdown",
      "source": [
        "## TEMP16 student KD train"
      ],
      "metadata": {
        "id": "QPaEeL7KEqxD"
      }
    },
    {
      "cell_type": "code",
      "source": [
        "student_temp16 = keras.Sequential(\n",
        "    [\n",
        "        keras.Input(shape=(28, 28, 1)),\n",
        "        layers.Flatten(),\n",
        "        layers.Dense(784, activation=\"relu\"),\n",
        "        layers.Dense(784, activation=\"relu\"),\n",
        "        layers.Dense(10)\n",
        "\n",
        "    ],\n",
        "    name=\"student_temp16\",\n",
        ")"
      ],
      "metadata": {
        "id": "zVfExGGiELJf"
      },
      "execution_count": 31,
      "outputs": []
    },
    {
      "cell_type": "code",
      "source": [
        "def compute_student_loss_t16(images, labels,temperature,alpha):\n",
        "  \"\"\"Compute class knowledge distillation student loss for given images\n",
        "     and labels.\n",
        "\n",
        "  Args:\n",
        "    images: Tensor representing a batch of images.\n",
        "    labels: Tensor representing a batch of labels.\n",
        "\n",
        "  Returns:\n",
        "    Scalar loss Tensor.\n",
        "  \"\"\"\n",
        "  student_class_logits = student_temp16(images, training=True)\n",
        "\n",
        "  # Compute class distillation loss between student class logits and\n",
        "  # softened teacher class targets probabilities.\n",
        "\n",
        "  # your code start from here for step 3\n",
        "\n",
        "  teacher_class_logits = teacher(images, training=False)\n",
        "  distillation_loss_value =distillation_loss(teacher_class_logits,student_class_logits,temperature)\n",
        "\n",
        "  # Compute cross-entropy loss with hard targets.\n",
        "\n",
        "  # your code start from here for step 3\n",
        "\n",
        " \n",
        "  cross_entropy_loss_value = tf.reduce_mean(tf.nn.softmax_cross_entropy_with_logits(labels, student_class_logits))\n",
        "\n",
        "  total_loss =alpha*cross_entropy_loss_value + (1-alpha)*distillation_loss_value\n",
        "\n",
        "  return total_loss"
      ],
      "metadata": {
        "id": "2UEcQf54ENEE"
      },
      "execution_count": 32,
      "outputs": []
    },
    {
      "cell_type": "code",
      "source": [
        "temp=16\n",
        "learning_rate=0.001\n",
        "alpha=0.5\n",
        "print(\"Student distill training\")\n",
        "train_and_evaluate(student_temp16, compute_student_loss_t16,temp,learning_rate,alpha)\n",
        "student_temp16.save('student_kd_temp16.h5')\n",
        "student_temp16.save_weights('student_kd_temp16_weight')"
      ],
      "metadata": {
        "colab": {
          "base_uri": "https://localhost:8080/"
        },
        "id": "9lqNygfgWHeJ",
        "outputId": "a7c5232e-4208-49f4-b783-c5032a1d4c8e"
      },
      "execution_count": 33,
      "outputs": [
        {
          "output_type": "stream",
          "name": "stdout",
          "text": [
            "Student distill training\n",
            "Epoch 1: Class_accuracy: 96.60%\n",
            "Epoch 2: Class_accuracy: 97.71%\n",
            "Epoch 3: Class_accuracy: 98.39%\n",
            "Epoch 4: Class_accuracy: 98.49%\n",
            "Epoch 5: Class_accuracy: 98.49%\n",
            "Epoch 6: Class_accuracy: 98.61%\n",
            "Epoch 7: Class_accuracy: 98.68%\n",
            "Epoch 8: Class_accuracy: 98.71%\n",
            "Epoch 9: Class_accuracy: 98.77%\n",
            "Epoch 10: Class_accuracy: 98.71%\n",
            "Epoch 11: Class_accuracy: 98.85%\n",
            "Epoch 12: Class_accuracy: 98.76%\n",
            "WARNING:tensorflow:Compiled the loaded model, but the compiled metrics have yet to be built. `model.compile_metrics` will be empty until you train or evaluate the model.\n"
          ]
        },
        {
          "output_type": "stream",
          "name": "stderr",
          "text": [
            "WARNING:tensorflow:Compiled the loaded model, but the compiled metrics have yet to be built. `model.compile_metrics` will be empty until you train or evaluate the model.\n"
          ]
        }
      ]
    },
    {
      "cell_type": "markdown",
      "source": [
        "## TEMP32 student KD train"
      ],
      "metadata": {
        "id": "j34SPdhzEuVb"
      }
    },
    {
      "cell_type": "code",
      "source": [
        "student_temp32 = keras.Sequential(\n",
        "    [\n",
        "        keras.Input(shape=(28, 28, 1)),\n",
        "        layers.Flatten(),\n",
        "        layers.Dense(784, activation=\"relu\"),\n",
        "        layers.Dense(784, activation=\"relu\"),\n",
        "        layers.Dense(10)\n",
        "\n",
        "    ],\n",
        "    name=\"student_temp32\",\n",
        ")"
      ],
      "metadata": {
        "id": "RnSUtu6oEgg8"
      },
      "execution_count": 34,
      "outputs": []
    },
    {
      "cell_type": "code",
      "source": [
        "def compute_student_loss_t32(images, labels,temperature,alpha):\n",
        "  \"\"\"Compute class knowledge distillation student loss for given images\n",
        "     and labels.\n",
        "\n",
        "  Args:\n",
        "    images: Tensor representing a batch of images.\n",
        "    labels: Tensor representing a batch of labels.\n",
        "\n",
        "  Returns:\n",
        "    Scalar loss Tensor.\n",
        "  \"\"\"\n",
        "  student_class_logits = student_temp32(images, training=True)\n",
        "\n",
        "  # Compute class distillation loss between student class logits and\n",
        "  # softened teacher class targets probabilities.\n",
        "\n",
        "  # your code start from here for step 3\n",
        "\n",
        "  teacher_class_logits = teacher(images, training=False)\n",
        "  distillation_loss_value =distillation_loss(teacher_class_logits,student_class_logits,temperature)\n",
        "\n",
        "  # Compute cross-entropy loss with hard targets.\n",
        "\n",
        "  # your code start from here for step 3\n",
        "\n",
        " \n",
        "  cross_entropy_loss_value = tf.reduce_mean(tf.nn.softmax_cross_entropy_with_logits(labels, student_class_logits))\n",
        "\n",
        "  total_loss =alpha*cross_entropy_loss_value + (1-alpha)*distillation_loss_value\n",
        "\n",
        "  return total_loss"
      ],
      "metadata": {
        "id": "1OMKXfPME-Ed"
      },
      "execution_count": 35,
      "outputs": []
    },
    {
      "cell_type": "code",
      "source": [
        "temp=32\n",
        "learning_rate=0.001\n",
        "alpha=0.5\n",
        "print(\"Student distill training\")\n",
        "train_and_evaluate(student_temp32, compute_student_loss_t32,temp,learning_rate,alpha)\n",
        "student_temp32.save('student_kd_temp32.h5')\n",
        "student_temp32.save_weights('student_kd_temp32_weight')"
      ],
      "metadata": {
        "colab": {
          "base_uri": "https://localhost:8080/"
        },
        "id": "T6pmMtulWNXa",
        "outputId": "b698e2be-3566-47f3-88e8-7d0083c0ee1f"
      },
      "execution_count": 36,
      "outputs": [
        {
          "output_type": "stream",
          "name": "stdout",
          "text": [
            "Student distill training\n",
            "Epoch 1: Class_accuracy: 96.85%\n",
            "Epoch 2: Class_accuracy: 98.00%\n",
            "Epoch 3: Class_accuracy: 98.34%\n",
            "Epoch 4: Class_accuracy: 98.47%\n",
            "Epoch 5: Class_accuracy: 98.60%\n",
            "Epoch 6: Class_accuracy: 98.66%\n",
            "Epoch 7: Class_accuracy: 98.74%\n",
            "Epoch 8: Class_accuracy: 98.77%\n",
            "Epoch 9: Class_accuracy: 98.83%\n",
            "Epoch 10: Class_accuracy: 98.82%\n",
            "Epoch 11: Class_accuracy: 98.94%\n",
            "Epoch 12: Class_accuracy: 98.91%\n",
            "WARNING:tensorflow:Compiled the loaded model, but the compiled metrics have yet to be built. `model.compile_metrics` will be empty until you train or evaluate the model.\n"
          ]
        },
        {
          "output_type": "stream",
          "name": "stderr",
          "text": [
            "WARNING:tensorflow:Compiled the loaded model, but the compiled metrics have yet to be built. `model.compile_metrics` will be empty until you train or evaluate the model.\n"
          ]
        }
      ]
    },
    {
      "cell_type": "markdown",
      "source": [
        "# Train student from scratch"
      ],
      "metadata": {
        "id": "WNrH_1emRbGA"
      }
    },
    {
      "cell_type": "code",
      "source": [
        "# Build fully connected student.\n",
        "# fc_model_no_distillation = tf.keras.Sequential()\n",
        "student_no_distil = tf.keras.Sequential(\n",
        "    [\n",
        "        keras.Input(shape=(28, 28, 1)),\n",
        "        layers.Flatten(),\n",
        "        layers.Dense(784, activation=\"relu\"),\n",
        "        layers.Dense(784, activation=\"relu\"),\n",
        "        layers.Dense(10)\n",
        "\n",
        "    ],\n",
        "    name=\"student_no_distil\",\n",
        ")"
      ],
      "metadata": {
        "id": "F_YBaZKNwRAf"
      },
      "execution_count": 40,
      "outputs": []
    },
    {
      "cell_type": "code",
      "source": [
        "student_no_distil.summary()"
      ],
      "metadata": {
        "id": "rpFBJ_bCwSDP",
        "colab": {
          "base_uri": "https://localhost:8080/"
        },
        "outputId": "2dbfc354-5e64-4471-be95-12469741df80"
      },
      "execution_count": 41,
      "outputs": [
        {
          "output_type": "stream",
          "name": "stdout",
          "text": [
            "Model: \"student_no_distil\"\n",
            "_________________________________________________________________\n",
            " Layer (type)                Output Shape              Param #   \n",
            "=================================================================\n",
            " flatten_10 (Flatten)        (None, 784)               0         \n",
            "                                                                 \n",
            " dense_29 (Dense)            (None, 784)               615440    \n",
            "                                                                 \n",
            " dense_30 (Dense)            (None, 784)               615440    \n",
            "                                                                 \n",
            " dense_31 (Dense)            (None, 10)                7850      \n",
            "                                                                 \n",
            "=================================================================\n",
            "Total params: 1,238,730\n",
            "Trainable params: 1,238,730\n",
            "Non-trainable params: 0\n",
            "_________________________________________________________________\n"
          ]
        }
      ]
    },
    {
      "cell_type": "code",
      "source": [
        "\n",
        "# your code start from here for step 7\n",
        "def compute_plain_cross_entropy_loss(images, labels, temperature,alpha):\n",
        "  \"\"\"Compute plain loss for given images and labels.\n",
        "\n",
        "  For fair comparison and convenience, this function also performs a\n",
        "  LogSumExp over classes, but does not perform class distillation.\n",
        "\n",
        "  Args:\n",
        "    images: Tensor representing a batch of images.\n",
        "    labels: Tensor representing a batch of labels.\n",
        "\n",
        "  Returns:\n",
        "    Scalar loss Tensor.\n",
        "  \"\"\"\n",
        "  # your code start from here for step 7\n",
        "  \n",
        "  student_class_logits = student_no_distil(images, training=True)\n",
        "  cross_entropy_loss =tf.reduce_mean(tf.nn.softmax_cross_entropy_with_logits(labels, student_class_logits/temperature))*temperature**2\n",
        "\n",
        "  return cross_entropy_loss\n",
        "\n",
        "\n"
      ],
      "metadata": {
        "id": "HjospsxIRbQ6"
      },
      "execution_count": 42,
      "outputs": []
    },
    {
      "cell_type": "markdown",
      "source": [
        "## TRAIN **STUDENT_NO_DISTILL** FROM SCRATCH"
      ],
      "metadata": {
        "id": "aK09q42HPEh1"
      }
    },
    {
      "cell_type": "code",
      "source": [
        "learning_rate=0.001\n",
        "alpha=0.5\n",
        "temp=4\n",
        "print(\"Student without distill training\")\n",
        "train_and_evaluate(student_no_distil, compute_plain_cross_entropy_loss,temp,learning_rate,alpha)"
      ],
      "metadata": {
        "colab": {
          "base_uri": "https://localhost:8080/"
        },
        "id": "C9NePu2QPDW-",
        "outputId": "b4b1cda2-2597-4fd0-8261-1b4c287cf24e"
      },
      "execution_count": 43,
      "outputs": [
        {
          "output_type": "stream",
          "name": "stdout",
          "text": [
            "Student without distill training\n",
            "Epoch 1: Class_accuracy: 95.88%\n",
            "Epoch 2: Class_accuracy: 97.10%\n",
            "Epoch 3: Class_accuracy: 97.82%\n",
            "Epoch 4: Class_accuracy: 97.82%\n",
            "Epoch 5: Class_accuracy: 97.96%\n",
            "Epoch 6: Class_accuracy: 98.07%\n",
            "Epoch 7: Class_accuracy: 97.90%\n",
            "Epoch 8: Class_accuracy: 98.09%\n",
            "Epoch 9: Class_accuracy: 98.15%\n",
            "Epoch 10: Class_accuracy: 98.00%\n",
            "Epoch 11: Class_accuracy: 97.86%\n",
            "Epoch 12: Class_accuracy: 97.99%\n"
          ]
        }
      ]
    },
    {
      "cell_type": "code",
      "source": [
        "student_no_distil.save('student_wo_kd_temp4.h5')\n",
        "student_no_distil.save_weights('student_wo_kd_temp4_weight')"
      ],
      "metadata": {
        "id": "GkGB0VNh4OA7"
      },
      "execution_count": null,
      "outputs": []
    },
    {
      "cell_type": "code",
      "source": [
        "#train_and_evaluate(student, compute_plain_cross_entropy_loss)"
      ],
      "metadata": {
        "id": "wNPtS9BmQsRY"
      },
      "execution_count": null,
      "outputs": []
    },
    {
      "cell_type": "markdown",
      "source": [
        "# Comparing the teacher and student model (number of of parameters and FLOPs) "
      ],
      "metadata": {
        "id": "yq3JTpQ4RuhR"
      }
    },
    {
      "cell_type": "code",
      "source": [
        "!pip install keras-flops"
      ],
      "metadata": {
        "id": "PCJ-uPVZboAH",
        "colab": {
          "base_uri": "https://localhost:8080/"
        },
        "outputId": "6d027816-ddf9-494b-c3ae-5a46df94734d"
      },
      "execution_count": 5,
      "outputs": [
        {
          "output_type": "stream",
          "name": "stdout",
          "text": [
            "Collecting keras-flops\n",
            "  Downloading keras_flops-0.1.2-py3-none-any.whl (5.3 kB)\n",
            "Requirement already satisfied: tensorflow<3.0,>=2.2 in /usr/local/lib/python3.7/dist-packages (from keras-flops) (2.8.0)\n",
            "Requirement already satisfied: wrapt>=1.11.0 in /usr/local/lib/python3.7/dist-packages (from tensorflow<3.0,>=2.2->keras-flops) (1.14.0)\n",
            "Requirement already satisfied: setuptools in /usr/local/lib/python3.7/dist-packages (from tensorflow<3.0,>=2.2->keras-flops) (57.4.0)\n",
            "Requirement already satisfied: termcolor>=1.1.0 in /usr/local/lib/python3.7/dist-packages (from tensorflow<3.0,>=2.2->keras-flops) (1.1.0)\n",
            "Requirement already satisfied: tensorflow-io-gcs-filesystem>=0.23.1 in /usr/local/lib/python3.7/dist-packages (from tensorflow<3.0,>=2.2->keras-flops) (0.24.0)\n",
            "Requirement already satisfied: libclang>=9.0.1 in /usr/local/lib/python3.7/dist-packages (from tensorflow<3.0,>=2.2->keras-flops) (13.0.0)\n",
            "Requirement already satisfied: tensorboard<2.9,>=2.8 in /usr/local/lib/python3.7/dist-packages (from tensorflow<3.0,>=2.2->keras-flops) (2.8.0)\n",
            "Requirement already satisfied: keras-preprocessing>=1.1.1 in /usr/local/lib/python3.7/dist-packages (from tensorflow<3.0,>=2.2->keras-flops) (1.1.2)\n",
            "Requirement already satisfied: google-pasta>=0.1.1 in /usr/local/lib/python3.7/dist-packages (from tensorflow<3.0,>=2.2->keras-flops) (0.2.0)\n",
            "Requirement already satisfied: astunparse>=1.6.0 in /usr/local/lib/python3.7/dist-packages (from tensorflow<3.0,>=2.2->keras-flops) (1.6.3)\n",
            "Requirement already satisfied: absl-py>=0.4.0 in /usr/local/lib/python3.7/dist-packages (from tensorflow<3.0,>=2.2->keras-flops) (1.0.0)\n",
            "Collecting tf-estimator-nightly==2.8.0.dev2021122109\n",
            "  Downloading tf_estimator_nightly-2.8.0.dev2021122109-py2.py3-none-any.whl (462 kB)\n",
            "\u001b[K     |████████████████████████████████| 462 kB 5.2 MB/s \n",
            "\u001b[?25hRequirement already satisfied: six>=1.12.0 in /usr/local/lib/python3.7/dist-packages (from tensorflow<3.0,>=2.2->keras-flops) (1.15.0)\n",
            "Requirement already satisfied: gast>=0.2.1 in /usr/local/lib/python3.7/dist-packages (from tensorflow<3.0,>=2.2->keras-flops) (0.5.3)\n",
            "Requirement already satisfied: typing-extensions>=3.6.6 in /usr/local/lib/python3.7/dist-packages (from tensorflow<3.0,>=2.2->keras-flops) (3.10.0.2)\n",
            "Requirement already satisfied: flatbuffers>=1.12 in /usr/local/lib/python3.7/dist-packages (from tensorflow<3.0,>=2.2->keras-flops) (2.0)\n",
            "Requirement already satisfied: protobuf>=3.9.2 in /usr/local/lib/python3.7/dist-packages (from tensorflow<3.0,>=2.2->keras-flops) (3.17.3)\n",
            "Requirement already satisfied: h5py>=2.9.0 in /usr/local/lib/python3.7/dist-packages (from tensorflow<3.0,>=2.2->keras-flops) (3.1.0)\n",
            "Requirement already satisfied: opt-einsum>=2.3.2 in /usr/local/lib/python3.7/dist-packages (from tensorflow<3.0,>=2.2->keras-flops) (3.3.0)\n",
            "Requirement already satisfied: grpcio<2.0,>=1.24.3 in /usr/local/lib/python3.7/dist-packages (from tensorflow<3.0,>=2.2->keras-flops) (1.44.0)\n",
            "Requirement already satisfied: keras<2.9,>=2.8.0rc0 in /usr/local/lib/python3.7/dist-packages (from tensorflow<3.0,>=2.2->keras-flops) (2.8.0)\n",
            "Requirement already satisfied: numpy>=1.20 in /usr/local/lib/python3.7/dist-packages (from tensorflow<3.0,>=2.2->keras-flops) (1.21.5)\n",
            "Requirement already satisfied: wheel<1.0,>=0.23.0 in /usr/local/lib/python3.7/dist-packages (from astunparse>=1.6.0->tensorflow<3.0,>=2.2->keras-flops) (0.37.1)\n",
            "Requirement already satisfied: cached-property in /usr/local/lib/python3.7/dist-packages (from h5py>=2.9.0->tensorflow<3.0,>=2.2->keras-flops) (1.5.2)\n",
            "Requirement already satisfied: tensorboard-data-server<0.7.0,>=0.6.0 in /usr/local/lib/python3.7/dist-packages (from tensorboard<2.9,>=2.8->tensorflow<3.0,>=2.2->keras-flops) (0.6.1)\n",
            "Requirement already satisfied: tensorboard-plugin-wit>=1.6.0 in /usr/local/lib/python3.7/dist-packages (from tensorboard<2.9,>=2.8->tensorflow<3.0,>=2.2->keras-flops) (1.8.1)\n",
            "Requirement already satisfied: google-auth-oauthlib<0.5,>=0.4.1 in /usr/local/lib/python3.7/dist-packages (from tensorboard<2.9,>=2.8->tensorflow<3.0,>=2.2->keras-flops) (0.4.6)\n",
            "Requirement already satisfied: requests<3,>=2.21.0 in /usr/local/lib/python3.7/dist-packages (from tensorboard<2.9,>=2.8->tensorflow<3.0,>=2.2->keras-flops) (2.23.0)\n",
            "Requirement already satisfied: werkzeug>=0.11.15 in /usr/local/lib/python3.7/dist-packages (from tensorboard<2.9,>=2.8->tensorflow<3.0,>=2.2->keras-flops) (1.0.1)\n",
            "Requirement already satisfied: markdown>=2.6.8 in /usr/local/lib/python3.7/dist-packages (from tensorboard<2.9,>=2.8->tensorflow<3.0,>=2.2->keras-flops) (3.3.6)\n",
            "Requirement already satisfied: google-auth<3,>=1.6.3 in /usr/local/lib/python3.7/dist-packages (from tensorboard<2.9,>=2.8->tensorflow<3.0,>=2.2->keras-flops) (1.35.0)\n",
            "Requirement already satisfied: rsa<5,>=3.1.4 in /usr/local/lib/python3.7/dist-packages (from google-auth<3,>=1.6.3->tensorboard<2.9,>=2.8->tensorflow<3.0,>=2.2->keras-flops) (4.8)\n",
            "Requirement already satisfied: pyasn1-modules>=0.2.1 in /usr/local/lib/python3.7/dist-packages (from google-auth<3,>=1.6.3->tensorboard<2.9,>=2.8->tensorflow<3.0,>=2.2->keras-flops) (0.2.8)\n",
            "Requirement already satisfied: cachetools<5.0,>=2.0.0 in /usr/local/lib/python3.7/dist-packages (from google-auth<3,>=1.6.3->tensorboard<2.9,>=2.8->tensorflow<3.0,>=2.2->keras-flops) (4.2.4)\n",
            "Requirement already satisfied: requests-oauthlib>=0.7.0 in /usr/local/lib/python3.7/dist-packages (from google-auth-oauthlib<0.5,>=0.4.1->tensorboard<2.9,>=2.8->tensorflow<3.0,>=2.2->keras-flops) (1.3.1)\n",
            "Requirement already satisfied: importlib-metadata>=4.4 in /usr/local/lib/python3.7/dist-packages (from markdown>=2.6.8->tensorboard<2.9,>=2.8->tensorflow<3.0,>=2.2->keras-flops) (4.11.3)\n",
            "Requirement already satisfied: zipp>=0.5 in /usr/local/lib/python3.7/dist-packages (from importlib-metadata>=4.4->markdown>=2.6.8->tensorboard<2.9,>=2.8->tensorflow<3.0,>=2.2->keras-flops) (3.7.0)\n",
            "Requirement already satisfied: pyasn1<0.5.0,>=0.4.6 in /usr/local/lib/python3.7/dist-packages (from pyasn1-modules>=0.2.1->google-auth<3,>=1.6.3->tensorboard<2.9,>=2.8->tensorflow<3.0,>=2.2->keras-flops) (0.4.8)\n",
            "Requirement already satisfied: urllib3!=1.25.0,!=1.25.1,<1.26,>=1.21.1 in /usr/local/lib/python3.7/dist-packages (from requests<3,>=2.21.0->tensorboard<2.9,>=2.8->tensorflow<3.0,>=2.2->keras-flops) (1.24.3)\n",
            "Requirement already satisfied: certifi>=2017.4.17 in /usr/local/lib/python3.7/dist-packages (from requests<3,>=2.21.0->tensorboard<2.9,>=2.8->tensorflow<3.0,>=2.2->keras-flops) (2021.10.8)\n",
            "Requirement already satisfied: idna<3,>=2.5 in /usr/local/lib/python3.7/dist-packages (from requests<3,>=2.21.0->tensorboard<2.9,>=2.8->tensorflow<3.0,>=2.2->keras-flops) (2.10)\n",
            "Requirement already satisfied: chardet<4,>=3.0.2 in /usr/local/lib/python3.7/dist-packages (from requests<3,>=2.21.0->tensorboard<2.9,>=2.8->tensorflow<3.0,>=2.2->keras-flops) (3.0.4)\n",
            "Requirement already satisfied: oauthlib>=3.0.0 in /usr/local/lib/python3.7/dist-packages (from requests-oauthlib>=0.7.0->google-auth-oauthlib<0.5,>=0.4.1->tensorboard<2.9,>=2.8->tensorflow<3.0,>=2.2->keras-flops) (3.2.0)\n",
            "Installing collected packages: tf-estimator-nightly, keras-flops\n",
            "Successfully installed keras-flops-0.1.2 tf-estimator-nightly-2.8.0.dev2021122109\n"
          ]
        }
      ]
    },
    {
      "cell_type": "markdown",
      "source": [
        "### LOAD Teacher model and weights during it's training"
      ],
      "metadata": {
        "id": "waKpXmCfdud3"
      }
    },
    {
      "cell_type": "code",
      "source": [
        "#accuracy Class_accuracy: 99.22%\n",
        "teacher_load=load_model('./teacher_model.h5')\n",
        "teacher_load.load_weights('./teacher_model_weight')"
      ],
      "metadata": {
        "colab": {
          "base_uri": "https://localhost:8080/"
        },
        "id": "R2V6XvclcMSt",
        "outputId": "d7f17cd0-43ce-40b2-ecec-c81a4bf35aca"
      },
      "execution_count": 6,
      "outputs": [
        {
          "output_type": "stream",
          "name": "stdout",
          "text": [
            "WARNING:tensorflow:No training configuration found in the save file, so the model was *not* compiled. Compile it manually.\n"
          ]
        },
        {
          "output_type": "stream",
          "name": "stderr",
          "text": [
            "WARNING:tensorflow:No training configuration found in the save file, so the model was *not* compiled. Compile it manually.\n"
          ]
        },
        {
          "output_type": "execute_result",
          "data": {
            "text/plain": [
              "<tensorflow.python.training.tracking.util.CheckpointLoadStatus at 0x7f730fc70ad0>"
            ]
          },
          "metadata": {},
          "execution_count": 6
        }
      ]
    },
    {
      "cell_type": "markdown",
      "source": [
        "### Teacher model FLOPS"
      ],
      "metadata": {
        "id": "Yd925BxZg6UE"
      }
    },
    {
      "cell_type": "code",
      "source": [
        "# your code start from here for step 8\n",
        "# Calculae FLOPS\n",
        "####  Referred : https://pypi.org/project/keras-flops/ \n",
        "from keras_flops import get_flops\n",
        "flops = get_flops(teacher_load, batch_size=1)\n",
        "print(f\"FLOPS: {flops / 10 ** 9:.03} G\")"
      ],
      "metadata": {
        "id": "4V8GB2yRRuxF",
        "colab": {
          "base_uri": "https://localhost:8080/"
        },
        "outputId": "7498b9a2-01be-4443-b381-f3e60d47e5e2"
      },
      "execution_count": 7,
      "outputs": [
        {
          "output_type": "stream",
          "name": "stdout",
          "text": [
            "WARNING:tensorflow:From /usr/local/lib/python3.7/dist-packages/tensorflow/python/ops/nn_ops.py:5214: tensor_shape_from_node_def_name (from tensorflow.python.framework.graph_util_impl) is deprecated and will be removed in a future version.\n",
            "Instructions for updating:\n",
            "Use `tf.compat.v1.graph_util.tensor_shape_from_node_def_name`\n"
          ]
        },
        {
          "output_type": "stream",
          "name": "stderr",
          "text": [
            "WARNING:tensorflow:From /usr/local/lib/python3.7/dist-packages/tensorflow/python/ops/nn_ops.py:5214: tensor_shape_from_node_def_name (from tensorflow.python.framework.graph_util_impl) is deprecated and will be removed in a future version.\n",
            "Instructions for updating:\n",
            "Use `tf.compat.v1.graph_util.tensor_shape_from_node_def_name`\n"
          ]
        },
        {
          "output_type": "stream",
          "name": "stdout",
          "text": [
            "FLOPS: 0.0328 G\n"
          ]
        }
      ]
    },
    {
      "cell_type": "markdown",
      "source": [
        "### Student model FLOPS"
      ],
      "metadata": {
        "id": "j_t8WuL0g_7t"
      }
    },
    {
      "cell_type": "code",
      "source": [
        "# accuracy Class_accuracy: 98.85%\n",
        "student_kd_load=load_model('./student_kd_temp4.h5')\n",
        "student_kd_load.load_weights('./student_kd_temp4_weight')"
      ],
      "metadata": {
        "colab": {
          "base_uri": "https://localhost:8080/"
        },
        "id": "GfXnIvEgd4GQ",
        "outputId": "4dfbac17-188c-4157-d603-bc24f71f1378"
      },
      "execution_count": 8,
      "outputs": [
        {
          "output_type": "stream",
          "name": "stdout",
          "text": [
            "WARNING:tensorflow:No training configuration found in the save file, so the model was *not* compiled. Compile it manually.\n"
          ]
        },
        {
          "output_type": "stream",
          "name": "stderr",
          "text": [
            "WARNING:tensorflow:No training configuration found in the save file, so the model was *not* compiled. Compile it manually.\n"
          ]
        },
        {
          "output_type": "execute_result",
          "data": {
            "text/plain": [
              "<tensorflow.python.training.tracking.util.CheckpointLoadStatus at 0x7f730f3d8ed0>"
            ]
          },
          "metadata": {},
          "execution_count": 8
        }
      ]
    },
    {
      "cell_type": "code",
      "source": [
        "flops = get_flops(student_kd_load, batch_size=1)\n",
        "print(f\"FLOPS: {flops / 10 ** 9:.03} G\")"
      ],
      "metadata": {
        "colab": {
          "base_uri": "https://localhost:8080/"
        },
        "id": "GuuqvPm1d9kn",
        "outputId": "fca93a40-dadc-4876-88a5-019389fd07bd"
      },
      "execution_count": 9,
      "outputs": [
        {
          "output_type": "stream",
          "name": "stdout",
          "text": [
            "FLOPS: 0.00248 G\n"
          ]
        }
      ]
    },
    {
      "cell_type": "markdown",
      "source": [
        "### Student without KD model FLOPS"
      ],
      "metadata": {
        "id": "gECAbLtnhC5a"
      }
    },
    {
      "cell_type": "code",
      "source": [
        "# Accuracy Class_accuracy: 97.88%\n",
        "student_wo_kd_load=load_model('./student_wo_kd_temp4.h5')\n",
        "student_wo_kd_load.load_weights('./student_wo_kd_temp4_weight')\n",
        "#student_wo_kd_load.load_weights('/content/drive/MyDrive/ECE1512/student_wo_kd_temp4_weight.index')"
      ],
      "metadata": {
        "colab": {
          "base_uri": "https://localhost:8080/"
        },
        "id": "kCvgGK1MeXA_",
        "outputId": "dc039b70-3574-4042-be63-e2336671aab7"
      },
      "execution_count": 113,
      "outputs": [
        {
          "output_type": "stream",
          "name": "stdout",
          "text": [
            "WARNING:tensorflow:No training configuration found in the save file, so the model was *not* compiled. Compile it manually.\n"
          ]
        },
        {
          "output_type": "stream",
          "name": "stderr",
          "text": [
            "WARNING:tensorflow:No training configuration found in the save file, so the model was *not* compiled. Compile it manually.\n"
          ]
        },
        {
          "output_type": "execute_result",
          "data": {
            "text/plain": [
              "<tensorflow.python.training.tracking.util.CheckpointLoadStatus at 0x7f72f883c5d0>"
            ]
          },
          "metadata": {},
          "execution_count": 113
        }
      ]
    },
    {
      "cell_type": "code",
      "source": [
        "flops = get_flops(student_wo_kd_load, batch_size=1)\n",
        "print(f\"FLOPS: {flops / 10 ** 9:.03} G\")"
      ],
      "metadata": {
        "colab": {
          "base_uri": "https://localhost:8080/"
        },
        "id": "5ZKW2-xbehNh",
        "outputId": "68284172-e072-4992-a64d-d8f483096490"
      },
      "execution_count": 11,
      "outputs": [
        {
          "output_type": "stream",
          "name": "stdout",
          "text": [
            "FLOPS: 0.00248 G\n"
          ]
        }
      ]
    },
    {
      "cell_type": "markdown",
      "source": [
        "# XAI method to explain models"
      ],
      "metadata": {
        "id": "8b5yNhJfRu-7"
      }
    },
    {
      "cell_type": "markdown",
      "source": [
        "## PLOT DATASET"
      ],
      "metadata": {
        "id": "niAdq3G3hH5-"
      }
    },
    {
      "cell_type": "code",
      "source": [
        "import matplotlib.pyplot as plt"
      ],
      "metadata": {
        "id": "zRaYS_cFF7OO"
      },
      "execution_count": 14,
      "outputs": []
    },
    {
      "cell_type": "code",
      "source": [
        "mnist_xai = tfds.load('mnist', split='test')\n",
        "# mnist_xai_procesd = mnist_xai.map(preprocess).batch(BATCH_SIZE)\n",
        "mnist_xai_procesd = mnist_test\n",
        "mnist_xai_1,ABC,=mnist_xai_procesd.take(2)\n",
        "x, y = mnist_xai_1"
      ],
      "metadata": {
        "id": "0JHmWKziF7OO"
      },
      "execution_count": 46,
      "outputs": []
    },
    {
      "cell_type": "code",
      "source": [
        "x[0].shape"
      ],
      "metadata": {
        "colab": {
          "base_uri": "https://localhost:8080/"
        },
        "id": "H3m9y1WKM5-f",
        "outputId": "96e56af7-d401-46b6-fa93-905996ea2e9a"
      },
      "execution_count": null,
      "outputs": [
        {
          "output_type": "execute_result",
          "data": {
            "text/plain": [
              "TensorShape([28, 28, 1])"
            ]
          },
          "metadata": {},
          "execution_count": 43
        }
      ]
    },
    {
      "cell_type": "code",
      "source": [
        "plt.imshow(tf.squeeze(x[10])) # squeeze removes dimension of size 1 like (28,28,1) -> (28,28)"
      ],
      "metadata": {
        "colab": {
          "base_uri": "https://localhost:8080/",
          "height": 283
        },
        "id": "Et9-ES9sQAQ3",
        "outputId": "b13242d3-6432-44e7-88ec-5084b625a470"
      },
      "execution_count": null,
      "outputs": [
        {
          "output_type": "execute_result",
          "data": {
            "text/plain": [
              "<matplotlib.image.AxesImage at 0x7f1302c1ae50>"
            ]
          },
          "metadata": {},
          "execution_count": 17
        },
        {
          "output_type": "display_data",
          "data": {
            "text/plain": [
              "<Figure size 432x288 with 1 Axes>"
            ],
            "image/png": "[encoded data removed]"
          },
          "metadata": {
            "needs_background": "light"
          }
        }
      ]
    },
    {
      "cell_type": "markdown",
      "source": [
        "## GET PREDICTION from TEACHER model for particular INPUT"
      ],
      "metadata": {
        "id": "7fQvzdBQV2ww"
      }
    },
    {
      "cell_type": "code",
      "source": [
        "pred=teacher_load(tf.expand_dims(x[10], axis=0)) # expand dimension to add a dimension like (1,28,28,1) as Hidden layers in model expecting such iamge dimension"
      ],
      "metadata": {
        "id": "fhO9wu8yQFNU"
      },
      "execution_count": null,
      "outputs": []
    },
    {
      "cell_type": "code",
      "source": [
        "tf.nn.softmax(pred)"
      ],
      "metadata": {
        "colab": {
          "base_uri": "https://localhost:8080/"
        },
        "id": "vEQnlf_aUT4_",
        "outputId": "c76a8ea0-a907-4590-f890-0ffa7b4d6361"
      },
      "execution_count": null,
      "outputs": [
        {
          "output_type": "execute_result",
          "data": {
            "text/plain": [
              "<tf.Tensor: shape=(1, 10), dtype=float32, numpy=\n",
              "array([[1.5840317e-15, 5.8273717e-16, 9.6660402e-11, 2.5453294e-12,\n",
              "        3.5349616e-14, 6.2031831e-06, 4.7944656e-07, 4.5804319e-17,\n",
              "        9.9999332e-01, 1.1883043e-13]], dtype=float32)>"
            ]
          },
          "metadata": {},
          "execution_count": 54
        }
      ]
    },
    {
      "cell_type": "markdown",
      "source": [
        "## GET PREDICTION from STUDENT with KD model for particular INPUT"
      ],
      "metadata": {
        "id": "c2OG21iBZ1R0"
      }
    },
    {
      "cell_type": "code",
      "source": [
        "pred_stud=student_kd_load(tf.expand_dims(x[10], axis=0))\n",
        "tf.nn.softmax(pred_stud)"
      ],
      "metadata": {
        "colab": {
          "base_uri": "https://localhost:8080/"
        },
        "id": "89cLCaMFZbsQ",
        "outputId": "80e8bfde-c3d0-4870-86d1-71a4cb3481d7"
      },
      "execution_count": null,
      "outputs": [
        {
          "output_type": "execute_result",
          "data": {
            "text/plain": [
              "<tf.Tensor: shape=(1, 10), dtype=float32, numpy=\n",
              "array([[5.4173426e-11, 3.2843146e-13, 3.0727740e-08, 5.7113897e-10,\n",
              "        1.3864884e-11, 1.8106535e-05, 1.0972422e-05, 4.8239594e-14,\n",
              "        9.9997091e-01, 2.6448049e-10]], dtype=float32)>"
            ]
          },
          "metadata": {},
          "execution_count": 21
        }
      ]
    },
    {
      "cell_type": "markdown",
      "source": [
        "## GET PREDICTION from STUDENT without KD model for particular INPUT"
      ],
      "metadata": {
        "id": "I41hNSPzZ7GI"
      }
    },
    {
      "cell_type": "code",
      "source": [
        "pred_stud_no_kd=student_wo_kd_load(tf.expand_dims(x[10], axis=0))\n",
        "tf.nn.softmax(pred_stud_no_kd)"
      ],
      "metadata": {
        "colab": {
          "base_uri": "https://localhost:8080/"
        },
        "id": "6kVnD06rZqBc",
        "outputId": "efe439a9-4a8e-4425-ba6c-19a9ca98fdb6"
      },
      "execution_count": 57,
      "outputs": [
        {
          "output_type": "execute_result",
          "data": {
            "text/plain": [
              "<tf.Tensor: shape=(1, 10), dtype=float32, numpy=\n",
              "array([[0.08537059, 0.08537059, 0.08537208, 0.08537062, 0.08537059,\n",
              "        0.0855987 , 0.08537276, 0.08537059, 0.23143291, 0.0853706 ]],\n",
              "      dtype=float32)>"
            ]
          },
          "metadata": {},
          "execution_count": 57
        }
      ]
    },
    {
      "cell_type": "markdown",
      "source": [
        "### experiment for new KD algo"
      ],
      "metadata": {
        "id": "CGnF2ELVAjtt"
      }
    },
    {
      "cell_type": "code",
      "source": [
        "pred_TA_new_kd=teacher_ast(tf.expand_dims(x[121], axis=0))\n",
        "pred_TA_new_kd"
      ],
      "metadata": {
        "colab": {
          "base_uri": "https://localhost:8080/"
        },
        "id": "P6KW6vTXAmf4",
        "outputId": "2ee6313a-0720-4cb8-9998-e0c19f36552f"
      },
      "execution_count": 70,
      "outputs": [
        {
          "output_type": "execute_result",
          "data": {
            "text/plain": [
              "<tf.Tensor: shape=(1, 10), dtype=float32, numpy=\n",
              "array([[2.3455229e-06, 5.4232383e-09, 1.2715701e-04, 1.4000888e-07,\n",
              "        4.3723307e-07, 3.4421989e-06, 9.9983501e-01, 8.9060301e-11,\n",
              "        3.1458199e-05, 4.2948280e-08]], dtype=float32)>"
            ]
          },
          "metadata": {},
          "execution_count": 70
        }
      ]
    },
    {
      "cell_type": "code",
      "source": [
        "pred_T_new_kd=teacher_test(tf.expand_dims(x[121], axis=0))\n",
        "pred_T_new_kd"
      ],
      "metadata": {
        "colab": {
          "base_uri": "https://localhost:8080/"
        },
        "id": "mFdp5GwnAoJc",
        "outputId": "fc7e46d1-a62d-4eb4-db74-62cc734be3f7"
      },
      "execution_count": 71,
      "outputs": [
        {
          "output_type": "execute_result",
          "data": {
            "text/plain": [
              "<tf.Tensor: shape=(1, 10), dtype=float32, numpy=\n",
              "array([[2.5209340e-07, 2.4002370e-11, 8.2260233e-11, 1.5573476e-12,\n",
              "        1.0507798e-08, 1.8939144e-06, 9.9999702e-01, 4.5038748e-13,\n",
              "        8.3604112e-07, 1.5623920e-10]], dtype=float32)>"
            ]
          },
          "metadata": {},
          "execution_count": 71
        }
      ]
    },
    {
      "cell_type": "code",
      "source": [
        "pred_stud_new_kd=student_2_kdd(tf.expand_dims(x[121], axis=0))\n",
        "pred_stud_new_kd"
      ],
      "metadata": {
        "colab": {
          "base_uri": "https://localhost:8080/"
        },
        "id": "GWk2NVrJA72F",
        "outputId": "25350eee-73a8-4a61-e26e-fe956511b87c"
      },
      "execution_count": 72,
      "outputs": [
        {
          "output_type": "execute_result",
          "data": {
            "text/plain": [
              "<tf.Tensor: shape=(1, 10), dtype=float32, numpy=\n",
              "array([[5.58025988e-07, 8.45970030e-11, 8.24307904e-07, 4.93703922e-08,\n",
              "        6.84622208e-08, 1.83246016e-07, 9.99970078e-01, 1.06028345e-13,\n",
              "        2.82654146e-05, 7.48049089e-09]], dtype=float32)>"
            ]
          },
          "metadata": {},
          "execution_count": 72
        }
      ]
    },
    {
      "cell_type": "markdown",
      "source": [
        "## SHAP"
      ],
      "metadata": {
        "id": "hSa6yM6wWbzM"
      }
    },
    {
      "cell_type": "code",
      "source": [
        "!pip install shap"
      ],
      "metadata": {
        "colab": {
          "base_uri": "https://localhost:8080/"
        },
        "id": "fbemhC7dWo1T",
        "outputId": "06268c26-0bad-444f-b34f-fddfb0b1ed86"
      },
      "execution_count": 12,
      "outputs": [
        {
          "output_type": "stream",
          "name": "stdout",
          "text": [
            "Collecting shap\n",
            "  Downloading shap-0.40.0-cp37-cp37m-manylinux2010_x86_64.whl (564 kB)\n",
            "\u001b[?25l\r\u001b[K     |▋                               | 10 kB 8.6 MB/s eta 0:00:01\r\u001b[K     |█▏                              | 20 kB 7.9 MB/s eta 0:00:01\r\u001b[K     |█▊                              | 30 kB 6.1 MB/s eta 0:00:01\r\u001b[K     |██▎                             | 40 kB 6.5 MB/s eta 0:00:01\r\u001b[K     |███                             | 51 kB 3.9 MB/s eta 0:00:01\r\u001b[K     |███▌                            | 61 kB 4.6 MB/s eta 0:00:01\r\u001b[K     |████                            | 71 kB 5.1 MB/s eta 0:00:01\r\u001b[K     |████▋                           | 81 kB 5.7 MB/s eta 0:00:01\r\u001b[K     |█████▏                          | 92 kB 5.9 MB/s eta 0:00:01\r\u001b[K     |█████▉                          | 102 kB 5.0 MB/s eta 0:00:01\r\u001b[K     |██████▍                         | 112 kB 5.0 MB/s eta 0:00:01\r\u001b[K     |███████                         | 122 kB 5.0 MB/s eta 0:00:01\r\u001b[K     |███████▌                        | 133 kB 5.0 MB/s eta 0:00:01\r\u001b[K     |████████▏                       | 143 kB 5.0 MB/s eta 0:00:01\r\u001b[K     |████████▊                       | 153 kB 5.0 MB/s eta 0:00:01\r\u001b[K     |█████████▎                      | 163 kB 5.0 MB/s eta 0:00:01\r\u001b[K     |█████████▉                      | 174 kB 5.0 MB/s eta 0:00:01\r\u001b[K     |██████████▍                     | 184 kB 5.0 MB/s eta 0:00:01\r\u001b[K     |███████████                     | 194 kB 5.0 MB/s eta 0:00:01\r\u001b[K     |███████████▋                    | 204 kB 5.0 MB/s eta 0:00:01\r\u001b[K     |████████████▏                   | 215 kB 5.0 MB/s eta 0:00:01\r\u001b[K     |████████████▊                   | 225 kB 5.0 MB/s eta 0:00:01\r\u001b[K     |█████████████▍                  | 235 kB 5.0 MB/s eta 0:00:01\r\u001b[K     |██████████████                  | 245 kB 5.0 MB/s eta 0:00:01\r\u001b[K     |██████████████▌                 | 256 kB 5.0 MB/s eta 0:00:01\r\u001b[K     |███████████████                 | 266 kB 5.0 MB/s eta 0:00:01\r\u001b[K     |███████████████▋                | 276 kB 5.0 MB/s eta 0:00:01\r\u001b[K     |████████████████▎               | 286 kB 5.0 MB/s eta 0:00:01\r\u001b[K     |████████████████▉               | 296 kB 5.0 MB/s eta 0:00:01\r\u001b[K     |█████████████████▍              | 307 kB 5.0 MB/s eta 0:00:01\r\u001b[K     |██████████████████              | 317 kB 5.0 MB/s eta 0:00:01\r\u001b[K     |██████████████████▋             | 327 kB 5.0 MB/s eta 0:00:01\r\u001b[K     |███████████████████▏            | 337 kB 5.0 MB/s eta 0:00:01\r\u001b[K     |███████████████████▊            | 348 kB 5.0 MB/s eta 0:00:01\r\u001b[K     |████████████████████▎           | 358 kB 5.0 MB/s eta 0:00:01\r\u001b[K     |████████████████████▉           | 368 kB 5.0 MB/s eta 0:00:01\r\u001b[K     |█████████████████████▌          | 378 kB 5.0 MB/s eta 0:00:01\r\u001b[K     |██████████████████████          | 389 kB 5.0 MB/s eta 0:00:01\r\u001b[K     |██████████████████████▋         | 399 kB 5.0 MB/s eta 0:00:01\r\u001b[K     |███████████████████████▏        | 409 kB 5.0 MB/s eta 0:00:01\r\u001b[K     |███████████████████████▉        | 419 kB 5.0 MB/s eta 0:00:01\r\u001b[K     |████████████████████████▍       | 430 kB 5.0 MB/s eta 0:00:01\r\u001b[K     |█████████████████████████       | 440 kB 5.0 MB/s eta 0:00:01\r\u001b[K     |█████████████████████████▌      | 450 kB 5.0 MB/s eta 0:00:01\r\u001b[K     |██████████████████████████      | 460 kB 5.0 MB/s eta 0:00:01\r\u001b[K     |██████████████████████████▊     | 471 kB 5.0 MB/s eta 0:00:01\r\u001b[K     |███████████████████████████▎    | 481 kB 5.0 MB/s eta 0:00:01\r\u001b[K     |███████████████████████████▉    | 491 kB 5.0 MB/s eta 0:00:01\r\u001b[K     |████████████████████████████▍   | 501 kB 5.0 MB/s eta 0:00:01\r\u001b[K     |█████████████████████████████   | 512 kB 5.0 MB/s eta 0:00:01\r\u001b[K     |█████████████████████████████▋  | 522 kB 5.0 MB/s eta 0:00:01\r\u001b[K     |██████████████████████████████▏ | 532 kB 5.0 MB/s eta 0:00:01\r\u001b[K     |██████████████████████████████▊ | 542 kB 5.0 MB/s eta 0:00:01\r\u001b[K     |███████████████████████████████▎| 552 kB 5.0 MB/s eta 0:00:01\r\u001b[K     |████████████████████████████████| 563 kB 5.0 MB/s eta 0:00:01\r\u001b[K     |████████████████████████████████| 564 kB 5.0 MB/s \n",
            "\u001b[?25hCollecting slicer==0.0.7\n",
            "  Downloading slicer-0.0.7-py3-none-any.whl (14 kB)\n",
            "Requirement already satisfied: packaging>20.9 in /usr/local/lib/python3.7/dist-packages (from shap) (21.3)\n",
            "Requirement already satisfied: cloudpickle in /usr/local/lib/python3.7/dist-packages (from shap) (1.3.0)\n",
            "Requirement already satisfied: numpy in /usr/local/lib/python3.7/dist-packages (from shap) (1.21.5)\n",
            "Requirement already satisfied: scipy in /usr/local/lib/python3.7/dist-packages (from shap) (1.4.1)\n",
            "Requirement already satisfied: scikit-learn in /usr/local/lib/python3.7/dist-packages (from shap) (1.0.2)\n",
            "Requirement already satisfied: tqdm>4.25.0 in /usr/local/lib/python3.7/dist-packages (from shap) (4.63.0)\n",
            "Requirement already satisfied: numba in /usr/local/lib/python3.7/dist-packages (from shap) (0.51.2)\n",
            "Requirement already satisfied: pandas in /usr/local/lib/python3.7/dist-packages (from shap) (1.3.5)\n",
            "Requirement already satisfied: pyparsing!=3.0.5,>=2.0.2 in /usr/local/lib/python3.7/dist-packages (from packaging>20.9->shap) (3.0.7)\n",
            "Requirement already satisfied: llvmlite<0.35,>=0.34.0.dev0 in /usr/local/lib/python3.7/dist-packages (from numba->shap) (0.34.0)\n",
            "Requirement already satisfied: setuptools in /usr/local/lib/python3.7/dist-packages (from numba->shap) (57.4.0)\n",
            "Requirement already satisfied: pytz>=2017.3 in /usr/local/lib/python3.7/dist-packages (from pandas->shap) (2018.9)\n",
            "Requirement already satisfied: python-dateutil>=2.7.3 in /usr/local/lib/python3.7/dist-packages (from pandas->shap) (2.8.2)\n",
            "Requirement already satisfied: six>=1.5 in /usr/local/lib/python3.7/dist-packages (from python-dateutil>=2.7.3->pandas->shap) (1.15.0)\n",
            "Requirement already satisfied: joblib>=0.11 in /usr/local/lib/python3.7/dist-packages (from scikit-learn->shap) (1.1.0)\n",
            "Requirement already satisfied: threadpoolctl>=2.0.0 in /usr/local/lib/python3.7/dist-packages (from scikit-learn->shap) (3.1.0)\n",
            "Installing collected packages: slicer, shap\n",
            "Successfully installed shap-0.40.0 slicer-0.0.7\n"
          ]
        }
      ]
    },
    {
      "cell_type": "code",
      "source": [
        "import numpy as np\n",
        "\n",
        "import shap"
      ],
      "metadata": {
        "id": "7Dz6LxOPXrOF"
      },
      "execution_count": 13,
      "outputs": []
    },
    {
      "cell_type": "code",
      "source": [
        "tf.expand_dims(x, axis=0)"
      ],
      "metadata": {
        "id": "-eOJ1A0UeFDe"
      },
      "execution_count": null,
      "outputs": []
    },
    {
      "cell_type": "code",
      "source": [
        "#https://shap-lrjball.readthedocs.io/en/latest/example_notebooks/gradient_explainer/Multi-input%20Gradient%20Explainer%20MNIST%20Example.html\n"
      ],
      "metadata": {
        "id": "amUtJkLBWrd8"
      },
      "execution_count": 56,
      "outputs": []
    },
    {
      "cell_type": "code",
      "source": [
        "from tensorflow.python.ops.numpy_ops import np_config\n",
        "np_config.enable_numpy_behavior()"
      ],
      "metadata": {
        "id": "lSCmWmwxwLQ1"
      },
      "execution_count": 59,
      "outputs": []
    },
    {
      "cell_type": "markdown",
      "source": [
        "# More SHAP references:"
      ],
      "metadata": {
        "id": "XX7ZU-vWE_xP"
      }
    },
    {
      "cell_type": "code",
      "source": [
        "# https://www.kaggle.com/code/dansbecker/shap-values/tutorial\n",
        "\n"
      ],
      "metadata": {
        "id": "iCypTislFht_"
      },
      "execution_count": null,
      "outputs": []
    },
    {
      "cell_type": "code",
      "source": [
        "# https://analyticsindiamag.com/hands-on-guide-to-interpret-machine-learning-with-shap/\n"
      ],
      "metadata": {
        "id": "Pb4ajp4FELg2"
      },
      "execution_count": null,
      "outputs": []
    },
    {
      "cell_type": "code",
      "source": [
        "# https://dev.to/mage_ai/how-to-interpret-machine-learning-models-with-shap-values-54jf\n"
      ],
      "metadata": {
        "id": "wiRRdLGRFjMB"
      },
      "execution_count": null,
      "outputs": []
    },
    {
      "cell_type": "markdown",
      "source": [
        "## TEACHER explanation"
      ],
      "metadata": {
        "id": "gjcyyZfcUs_H"
      }
    },
    {
      "cell_type": "markdown",
      "source": [
        "### Teacher for Digit 0"
      ],
      "metadata": {
        "id": "ReTHnfEXkNT2"
      }
    },
    {
      "cell_type": "code",
      "source": [
        "teacher_load=load_model('./teacher_model.h5')\n",
        "teacher_load.load_weights('./teacher_model_weight')"
      ],
      "metadata": {
        "colab": {
          "base_uri": "https://localhost:8080/"
        },
        "id": "-ELZQTxSj7es",
        "outputId": "b02d3b34-46d2-4723-9e19-996db154c718"
      },
      "execution_count": 196,
      "outputs": [
        {
          "output_type": "stream",
          "name": "stdout",
          "text": [
            "WARNING:tensorflow:No training configuration found in the save file, so the model was *not* compiled. Compile it manually.\n"
          ]
        },
        {
          "output_type": "stream",
          "name": "stderr",
          "text": [
            "WARNING:tensorflow:No training configuration found in the save file, so the model was *not* compiled. Compile it manually.\n"
          ]
        },
        {
          "output_type": "execute_result",
          "data": {
            "text/plain": [
              "<tensorflow.python.training.tracking.util.CheckpointLoadStatus at 0x7f72f98af9d0>"
            ]
          },
          "metadata": {},
          "execution_count": 196
        }
      ]
    },
    {
      "cell_type": "code",
      "source": [
        "explainer_teacher=shap.GradientExplainer(teacher_load,x)\n",
        "image0 = tf.expand_dims(x[11], axis=0)\n",
        "explainables_teacher0 = explainer_teacher.shap_values(image0,200)"
      ],
      "metadata": {
        "colab": {
          "base_uri": "https://localhost:8080/"
        },
        "id": "IOspNPtyVDZr",
        "outputId": "96b8e3c8-f118-4234-92b1-3a5205da17e0"
      },
      "execution_count": 197,
      "outputs": [
        {
          "output_type": "stream",
          "name": "stderr",
          "text": [
            "`tf.keras.backend.set_learning_phase` is deprecated and will be removed after 2020-10-11. To update it, simply pass a True/False value to the `training` argument of the `__call__` method of your layer or model.\n"
          ]
        }
      ]
    },
    {
      "cell_type": "code",
      "source": [
        "\n",
        "shap.image_plot([np.array(explainables_teacher0[i]) for i in range(10) ],np.array(tf.expand_dims(x[11], axis=0)),width=400, labelpad=float)"
      ],
      "metadata": {
        "colab": {
          "base_uri": "https://localhost:8080/",
          "height": 255
        },
        "id": "pEX7s9WIunx-",
        "outputId": "59e66d17-bb41-4afe-b92a-9727c84ce000"
      },
      "execution_count": 270,
      "outputs": [
        {
          "output_type": "display_data",
          "data": {
            "text/plain": [
              "<Figure size 2376x360 with 12 Axes>"
            ],
            "image/png": "[encoded data removed]"
          },
          "metadata": {
            "needs_background": "light"
          }
        }
      ]
    },
    {
      "cell_type": "code",
      "source": [
        "pred_teach0=teacher_load(image0,training=False)\n",
        "tf.nn.softmax(pred_teach0)"
      ],
      "metadata": {
        "colab": {
          "base_uri": "https://localhost:8080/"
        },
        "id": "BNW0fxPsdtXS",
        "outputId": "ebf7db3a-bb9c-4d6f-ba05-260c85b6f5ac"
      },
      "execution_count": 198,
      "outputs": [
        {
          "output_type": "execute_result",
          "data": {
            "text/plain": [
              "<tf.Tensor: shape=(1, 10), dtype=float32, numpy=\n",
              "array([[9.9999833e-01, 2.6526728e-10, 4.9149094e-07, 5.0761578e-10,\n",
              "        3.7596973e-07, 6.8374945e-10, 4.5435365e-07, 8.5595037e-10,\n",
              "        7.7023863e-09, 3.8589042e-07]], dtype=float32)>"
            ]
          },
          "metadata": {},
          "execution_count": 198
        }
      ]
    },
    {
      "cell_type": "code",
      "source": [
        "fig1 = plt.figure(figsize=(40,40))\n",
        "plt.subplot(1,11,1)\n",
        "plt.imshow(tf.squeeze(x[11]),cmap='gray')\n",
        "plt.title('Ground truth Class: %d '% np.array(tf.argmax(y[11])))\n",
        "for a in range(10):\n",
        "  plt.subplot(1,11,a+2)\n",
        "  plt.imshow(tf.squeeze(explainables_teacher0[a]),cmap='jet')\n",
        "  plt.title('Predicted Class attributes: %d '% a)\n"
      ],
      "metadata": {
        "colab": {
          "base_uri": "https://localhost:8080/",
          "height": 236
        },
        "id": "PDRMV4EhG7TG",
        "outputId": "dae51c00-5bbc-4dde-cff7-4f20b73c33d9"
      },
      "execution_count": 199,
      "outputs": [
        {
          "output_type": "display_data",
          "data": {
            "text/plain": [
              "<Figure size 2880x2880 with 11 Axes>"
            ],
            "image/png": "[encoded data removed]"
          },
          "metadata": {
            "needs_background": "light"
          }
        }
      ]
    },
    {
      "cell_type": "markdown",
      "source": [
        "### Teacher for Digit 2"
      ],
      "metadata": {
        "id": "DcT8fJpFkRqi"
      }
    },
    {
      "cell_type": "code",
      "source": [
        "image9 = tf.expand_dims(x[43], axis=0)\n",
        "explainables_teacher9 = explainer_teacher.shap_values(image9,200)"
      ],
      "metadata": {
        "id": "8c4dW7n7aCRz"
      },
      "execution_count": 200,
      "outputs": []
    },
    {
      "cell_type": "code",
      "source": [
        "pred_teach9=teacher_load(image9,training=False)\n",
        "tf.nn.softmax(pred_teach9)"
      ],
      "metadata": {
        "colab": {
          "base_uri": "https://localhost:8080/"
        },
        "id": "aYOPGJQKeAop",
        "outputId": "5f83fe10-3f5d-4586-c039-cfddc97b0f94"
      },
      "execution_count": 201,
      "outputs": [
        {
          "output_type": "execute_result",
          "data": {
            "text/plain": [
              "<tf.Tensor: shape=(1, 10), dtype=float32, numpy=\n",
              "array([[5.1760674e-10, 2.7420941e-12, 1.0000000e+00, 1.0179581e-09,\n",
              "        1.1753436e-14, 1.4225048e-18, 6.2098283e-16, 2.0884133e-11,\n",
              "        8.9067351e-11, 1.6741811e-14]], dtype=float32)>"
            ]
          },
          "metadata": {},
          "execution_count": 201
        }
      ]
    },
    {
      "cell_type": "code",
      "source": [
        "fig1 = plt.figure(figsize=(40,40))\n",
        "plt.subplot(1,11,1)\n",
        "plt.imshow(tf.squeeze(x[43]),cmap='gray')\n",
        "plt.title('truth: %d ' % np.array(tf.argmax(y[43])))\n",
        "for a in range(10):\n",
        "  plt.subplot(1,11,a+2)\n",
        "  plt.imshow(tf.squeeze(explainables_teacher9[a]),cmap='jet')\n",
        "  plt.title('Predicted Class attributes: %d '% a)"
      ],
      "metadata": {
        "colab": {
          "base_uri": "https://localhost:8080/",
          "height": 236
        },
        "id": "tAFXwYnVXJm1",
        "outputId": "e1b7bacd-108d-43ea-9d91-5de7c18db2e0"
      },
      "execution_count": 202,
      "outputs": [
        {
          "output_type": "display_data",
          "data": {
            "text/plain": [
              "<Figure size 2880x2880 with 11 Axes>"
            ],
            "image/png": "[encoded data removed]"
          },
          "metadata": {
            "needs_background": "light"
          }
        }
      ]
    },
    {
      "cell_type": "code",
      "source": [
        "shap.image_plot([np.array(explainables_teacher9[i]) for i in range(10) ],np.array(tf.expand_dims(x[43], axis=0)),width=400, labelpad=float)"
      ],
      "metadata": {
        "colab": {
          "base_uri": "https://localhost:8080/",
          "height": 255
        },
        "id": "ABNDpL4Ys_51",
        "outputId": "9d566ba3-2f28-4858-8175-2811137c106d"
      },
      "execution_count": 272,
      "outputs": [
        {
          "output_type": "display_data",
          "data": {
            "text/plain": [
              "<Figure size 2376x360 with 12 Axes>"
            ],
            "image/png": "[encoded data removed]"
          },
          "metadata": {
            "needs_background": "light"
          }
        }
      ]
    },
    {
      "cell_type": "markdown",
      "source": [
        "## STUDENT explanation"
      ],
      "metadata": {
        "id": "N4VAbwT3UyXS"
      }
    },
    {
      "cell_type": "markdown",
      "source": [
        "### Student Distill for Digit 0"
      ],
      "metadata": {
        "id": "ctuPGOUnkKyx"
      }
    },
    {
      "cell_type": "code",
      "source": [
        "student_kd_load=load_model('./student_kd_temp4.h5')\n",
        "student_kd_load.load_weights('./student_kd_temp4_weight')"
      ],
      "metadata": {
        "colab": {
          "base_uri": "https://localhost:8080/"
        },
        "id": "6YocsdnXcOwH",
        "outputId": "c548a341-3bb3-4312-f973-3bbc4a2dd801"
      },
      "execution_count": 210,
      "outputs": [
        {
          "output_type": "stream",
          "name": "stdout",
          "text": [
            "WARNING:tensorflow:No training configuration found in the save file, so the model was *not* compiled. Compile it manually.\n"
          ]
        },
        {
          "output_type": "stream",
          "name": "stderr",
          "text": [
            "WARNING:tensorflow:No training configuration found in the save file, so the model was *not* compiled. Compile it manually.\n"
          ]
        },
        {
          "output_type": "execute_result",
          "data": {
            "text/plain": [
              "<tensorflow.python.training.tracking.util.CheckpointLoadStatus at 0x7f72fa440a50>"
            ]
          },
          "metadata": {},
          "execution_count": 210
        }
      ]
    },
    {
      "cell_type": "code",
      "source": [
        "explainer_student=shap.GradientExplainer(student_kd_load,x)\n",
        "explainables_student0 = explainer_student.shap_values(image0,200)"
      ],
      "metadata": {
        "colab": {
          "base_uri": "https://localhost:8080/"
        },
        "id": "Xa89dPowU4Ci",
        "outputId": "0844b5c9-95ec-40bb-f774-7d4a61798399"
      },
      "execution_count": 212,
      "outputs": [
        {
          "output_type": "stream",
          "name": "stderr",
          "text": [
            "`tf.keras.backend.set_learning_phase` is deprecated and will be removed after 2020-10-11. To update it, simply pass a True/False value to the `training` argument of the `__call__` method of your layer or model.\n"
          ]
        }
      ]
    },
    {
      "cell_type": "code",
      "source": [
        "pred_stud0=student_kd_load(image0,training=False)\n",
        "tf.nn.softmax(pred_stud0)"
      ],
      "metadata": {
        "colab": {
          "base_uri": "https://localhost:8080/"
        },
        "id": "MkuTpFozba4o",
        "outputId": "8c5c101e-2599-482c-85d3-ac2c7f84f173"
      },
      "execution_count": 213,
      "outputs": [
        {
          "output_type": "execute_result",
          "data": {
            "text/plain": [
              "<tf.Tensor: shape=(1, 10), dtype=float32, numpy=\n",
              "array([[9.99999404e-01, 2.54524891e-11, 5.50067760e-08, 1.50502163e-11,\n",
              "        2.39315966e-07, 1.09613596e-10, 1.45580429e-07, 5.58226416e-11,\n",
              "        6.22636442e-10, 6.13204989e-08]], dtype=float32)>"
            ]
          },
          "metadata": {},
          "execution_count": 213
        }
      ]
    },
    {
      "cell_type": "code",
      "source": [
        "fig1 = plt.figure(figsize=(40,40))\n",
        "plt.subplot(1,11,1)\n",
        "plt.imshow(tf.squeeze(x[11]),cmap='gray')\n",
        "plt.title('Ground truth Class: %d '% np.array(tf.argmax(y[11])))\n",
        "for a in range(10):\n",
        "  plt.subplot(1,11,a+2)\n",
        "  plt.imshow(tf.squeeze(explainables_student0[a]),cmap='jet')\n",
        "  plt.title('Predicted Class attributes: %d '% a)\n"
      ],
      "metadata": {
        "colab": {
          "base_uri": "https://localhost:8080/",
          "height": 0
        },
        "id": "bnhmceNya9n0",
        "outputId": "0ebe917f-d1fc-43ae-fd1d-615e2841b5b3"
      },
      "execution_count": 214,
      "outputs": [
        {
          "output_type": "display_data",
          "data": {
            "text/plain": [
              "<Figure size 2880x2880 with 11 Axes>"
            ],
            "image/png": "[encoded data removed]"
          },
          "metadata": {
            "needs_background": "light"
          }
        }
      ]
    },
    {
      "cell_type": "code",
      "source": [
        "shap.image_plot([np.array(explainables_student0[i]) for i in range(10) ],np.array(tf.expand_dims(x[11], axis=0)),width=400, labelpad=float)"
      ],
      "metadata": {
        "colab": {
          "base_uri": "https://localhost:8080/",
          "height": 0
        },
        "id": "Gn-oHCj5yfbl",
        "outputId": "fad3884d-b248-45b6-f7ea-ef38cb764e83"
      },
      "execution_count": 273,
      "outputs": [
        {
          "output_type": "display_data",
          "data": {
            "text/plain": [
              "<Figure size 2376x360 with 12 Axes>"
            ],
            "image/png": "[encoded data removed]"
          },
          "metadata": {
            "needs_background": "light"
          }
        }
      ]
    },
    {
      "cell_type": "markdown",
      "source": [
        "### Student Distill for Digit 2"
      ],
      "metadata": {
        "id": "Y6FDQQXgkCa0"
      }
    },
    {
      "cell_type": "code",
      "source": [
        "explainables_student9 = explainer_student.shap_values(image9,200)"
      ],
      "metadata": {
        "id": "YEf3khf7elNB"
      },
      "execution_count": 188,
      "outputs": []
    },
    {
      "cell_type": "code",
      "source": [
        "pred_stud9=student_kd_load(image9,training=False)\n",
        "tf.nn.softmax(pred_stud9)"
      ],
      "metadata": {
        "colab": {
          "base_uri": "https://localhost:8080/"
        },
        "id": "XkRvbhOHe8cz",
        "outputId": "e117c1d1-741e-41e3-9474-4c37edcc2a02"
      },
      "execution_count": 190,
      "outputs": [
        {
          "output_type": "execute_result",
          "data": {
            "text/plain": [
              "<tf.Tensor: shape=(1, 10), dtype=float32, numpy=\n",
              "array([[5.8953897e-10, 1.5330183e-11, 1.0000000e+00, 3.3068577e-09,\n",
              "        2.7121941e-13, 4.9095843e-17, 5.7373082e-15, 5.8839052e-11,\n",
              "        7.5886623e-11, 3.8248925e-14]], dtype=float32)>"
            ]
          },
          "metadata": {},
          "execution_count": 190
        }
      ]
    },
    {
      "cell_type": "code",
      "source": [
        "fig1 = plt.figure(figsize=(40,40))\n",
        "plt.subplot(1,11,1)\n",
        "plt.imshow(tf.squeeze(x[43]),cmap='gray')\n",
        "plt.title('Ground truth Class: %d '% np.array(tf.argmax(y[43])))\n",
        "for a in range(10):\n",
        "  plt.subplot(1,11,a+2)\n",
        "  plt.imshow(tf.squeeze(explainables_student9[a]),cmap='jet')\n",
        "  plt.title('Predicted Class attributes: %d '% a)\n"
      ],
      "metadata": {
        "colab": {
          "base_uri": "https://localhost:8080/",
          "height": 0
        },
        "id": "tkx5pA_RfDtT",
        "outputId": "345a5f1d-ed56-4869-f128-78ffbca01900"
      },
      "execution_count": 191,
      "outputs": [
        {
          "output_type": "display_data",
          "data": {
            "text/plain": [
              "<Figure size 2880x2880 with 11 Axes>"
            ],
            "image/png": "[encoded data removed]"
          },
          "metadata": {
            "needs_background": "light"
          }
        }
      ]
    },
    {
      "cell_type": "code",
      "source": [
        "shap.image_plot([np.array(explainables_student9[i]) for i in range(10) ],np.array(tf.expand_dims(x[43], axis=0)),width=400, labelpad=float)"
      ],
      "metadata": {
        "colab": {
          "base_uri": "https://localhost:8080/",
          "height": 0
        },
        "id": "8z0XwoiOyksI",
        "outputId": "dede493e-be1b-4c9d-f0e7-b2667ac3970c"
      },
      "execution_count": 274,
      "outputs": [
        {
          "output_type": "display_data",
          "data": {
            "text/plain": [
              "<Figure size 2376x360 with 12 Axes>"
            ],
            "image/png": "[encoded data removed]"
          },
          "metadata": {
            "needs_background": "light"
          }
        }
      ]
    },
    {
      "cell_type": "code",
      "source": [
        ""
      ],
      "metadata": {
        "id": "-NR-p4KJkZdi"
      },
      "execution_count": null,
      "outputs": []
    },
    {
      "cell_type": "markdown",
      "source": [
        "## Student without Distillation Explanation"
      ],
      "metadata": {
        "id": "SbvHIky4khIS"
      }
    },
    {
      "cell_type": "markdown",
      "source": [
        "### Student WO KD Digit 0"
      ],
      "metadata": {
        "id": "5bI0kmgxldzI"
      }
    },
    {
      "cell_type": "code",
      "source": [
        "student_wo_kd_load=load_model('./student_wo_kd_temp4.h5')\n",
        "student_wo_kd_load.load_weights('./student_wo_kd_temp4_weight')"
      ],
      "metadata": {
        "colab": {
          "base_uri": "https://localhost:8080/"
        },
        "outputId": "544e4bab-5c51-43c4-b95d-acf7fb4d4f08",
        "id": "EoBH8MhZkZ1z"
      },
      "execution_count": 203,
      "outputs": [
        {
          "output_type": "stream",
          "name": "stdout",
          "text": [
            "WARNING:tensorflow:No training configuration found in the save file, so the model was *not* compiled. Compile it manually.\n"
          ]
        },
        {
          "output_type": "stream",
          "name": "stderr",
          "text": [
            "WARNING:tensorflow:No training configuration found in the save file, so the model was *not* compiled. Compile it manually.\n"
          ]
        },
        {
          "output_type": "execute_result",
          "data": {
            "text/plain": [
              "<tensorflow.python.training.tracking.util.CheckpointLoadStatus at 0x7f72f8604810>"
            ]
          },
          "metadata": {},
          "execution_count": 203
        }
      ]
    },
    {
      "cell_type": "code",
      "source": [
        "explainer_student=shap.GradientExplainer(student_wo_kd_load,x)\n",
        "explainables_student0_wokd = explainer_student.shap_values(image0,200)"
      ],
      "metadata": {
        "colab": {
          "base_uri": "https://localhost:8080/"
        },
        "outputId": "dccf3b97-fea8-456d-eeec-f94a0c9f13e0",
        "id": "RUzW2gdNkZ1z"
      },
      "execution_count": 218,
      "outputs": [
        {
          "output_type": "stream",
          "name": "stderr",
          "text": [
            "`tf.keras.backend.set_learning_phase` is deprecated and will be removed after 2020-10-11. To update it, simply pass a True/False value to the `training` argument of the `__call__` method of your layer or model.\n"
          ]
        }
      ]
    },
    {
      "cell_type": "code",
      "source": [
        "pred_stud0_wokd=student_wo_kd_load(image0,training=False)\n",
        "tf.nn.softmax(pred_stud0_wokd)"
      ],
      "metadata": {
        "colab": {
          "base_uri": "https://localhost:8080/"
        },
        "outputId": "6bc94b91-acfa-4611-e39f-85c49e81753c",
        "id": "mO1iPD4-kZ1z"
      },
      "execution_count": 205,
      "outputs": [
        {
          "output_type": "execute_result",
          "data": {
            "text/plain": [
              "<tf.Tensor: shape=(1, 10), dtype=float32, numpy=\n",
              "array([[1.0000000e+00, 3.7817562e-38, 2.0397676e-25, 0.0000000e+00,\n",
              "        0.0000000e+00, 0.0000000e+00, 1.3579641e-26, 1.2371417e-36,\n",
              "        1.9775327e-31, 6.5773864e-28]], dtype=float32)>"
            ]
          },
          "metadata": {},
          "execution_count": 205
        }
      ]
    },
    {
      "cell_type": "code",
      "source": [
        "fig1 = plt.figure(figsize=(40,40))\n",
        "plt.subplot(1,11,1)\n",
        "plt.imshow(tf.squeeze(x[11]),cmap='gray')\n",
        "plt.title('Ground truth Class: %d '% np.array(tf.argmax(y[11])))\n",
        "for a in range(10):\n",
        "  plt.subplot(1,11,a+2)\n",
        "  plt.imshow(tf.squeeze(explainables_student0_wokd[a]),cmap='jet')\n",
        "  plt.title('Predicted Class attributes: %d '% a)\n"
      ],
      "metadata": {
        "colab": {
          "base_uri": "https://localhost:8080/",
          "height": 0
        },
        "outputId": "a72cfc9e-5a06-4779-ca1b-704dc5c70c65",
        "id": "jsyA_7GJkZ1z"
      },
      "execution_count": 206,
      "outputs": [
        {
          "output_type": "display_data",
          "data": {
            "text/plain": [
              "<Figure size 2880x2880 with 11 Axes>"
            ],
            "image/png": "[encoded data removed]"
          },
          "metadata": {
            "needs_background": "light"
          }
        }
      ]
    },
    {
      "cell_type": "code",
      "source": [
        "shap.image_plot([np.array(explainables_student0_wokd[i]) for i in range(10) ],np.array(tf.expand_dims(x[11], axis=0)),width=400, labelpad=float)"
      ],
      "metadata": {
        "colab": {
          "base_uri": "https://localhost:8080/",
          "height": 0
        },
        "id": "TrEf3yLryu7m",
        "outputId": "c3e0d8d9-7852-4e7c-d86d-612227767d29"
      },
      "execution_count": 275,
      "outputs": [
        {
          "output_type": "display_data",
          "data": {
            "text/plain": [
              "<Figure size 2376x360 with 12 Axes>"
            ],
            "image/png": "[encoded data removed]"
          },
          "metadata": {
            "needs_background": "light"
          }
        }
      ]
    },
    {
      "cell_type": "markdown",
      "source": [
        "### Student WO KD Digit 2"
      ],
      "metadata": {
        "id": "eYl6p4WFlYRg"
      }
    },
    {
      "cell_type": "code",
      "source": [
        "explainables_student9_wokd = explainer_student.shap_values(image9,200)"
      ],
      "metadata": {
        "id": "Xw_ztgP7kZ1z"
      },
      "execution_count": 208,
      "outputs": []
    },
    {
      "cell_type": "code",
      "source": [
        "pred_stud2_wokd=student_wo_kd_load(image9,training=False)\n",
        "tf.nn.softmax(pred_stud2_wokd)"
      ],
      "metadata": {
        "colab": {
          "base_uri": "https://localhost:8080/"
        },
        "outputId": "ed405395-4869-44c7-d7aa-e87f02e1b6f9",
        "id": "hRmpNEi_kZ1z"
      },
      "execution_count": 207,
      "outputs": [
        {
          "output_type": "execute_result",
          "data": {
            "text/plain": [
              "<tf.Tensor: shape=(1, 10), dtype=float32, numpy=\n",
              "array([[7.2600856e-37, 0.0000000e+00, 1.0000000e+00, 0.0000000e+00,\n",
              "        0.0000000e+00, 0.0000000e+00, 0.0000000e+00, 0.0000000e+00,\n",
              "        0.0000000e+00, 0.0000000e+00]], dtype=float32)>"
            ]
          },
          "metadata": {},
          "execution_count": 207
        }
      ]
    },
    {
      "cell_type": "code",
      "source": [
        "fig1 = plt.figure(figsize=(40,40))\n",
        "plt.subplot(1,11,1)\n",
        "plt.imshow(tf.squeeze(x[43]),cmap='gray')\n",
        "plt.title('Ground truth Class: %d '% np.array(tf.argmax(y[43])))\n",
        "for a in range(10):\n",
        "  plt.subplot(1,11,a+2)\n",
        "  plt.imshow(tf.squeeze(explainables_student9_wokd[a]),cmap='jet')\n",
        "  plt.title('Predicted Class attributes: %d '% a)\n"
      ],
      "metadata": {
        "colab": {
          "base_uri": "https://localhost:8080/",
          "height": 236
        },
        "outputId": "7bf9482b-79b4-4c38-d419-7f19c910f549",
        "id": "FTZPa7CukZ10"
      },
      "execution_count": 209,
      "outputs": [
        {
          "output_type": "display_data",
          "data": {
            "text/plain": [
              "<Figure size 2880x2880 with 11 Axes>"
            ],
            "image/png": "[encoded data removed]"
          },
          "metadata": {
            "needs_background": "light"
          }
        }
      ]
    },
    {
      "cell_type": "code",
      "source": [
        "shap.image_plot([np.array(explainables_student9_wokd[i]) for i in range(10) ],np.array(tf.expand_dims(x[43], axis=0)),width=400, labelpad=float)"
      ],
      "metadata": {
        "colab": {
          "base_uri": "https://localhost:8080/",
          "height": 255
        },
        "id": "VGYAF6n9y3OT",
        "outputId": "71e041a3-2847-490b-b338-860c7a83dbc3"
      },
      "execution_count": 276,
      "outputs": [
        {
          "output_type": "display_data",
          "data": {
            "text/plain": [
              "<Figure size 2376x360 with 12 Axes>"
            ],
            "image/png": "[encoded data removed]"
          },
          "metadata": {
            "needs_background": "light"
          }
        }
      ]
    },
    {
      "cell_type": "markdown",
      "source": [
        "# Implementing TAKD"
      ],
      "metadata": {
        "id": "KjwJ5oziRvRn"
      }
    },
    {
      "cell_type": "code",
      "source": [
        ""
      ],
      "metadata": {
        "id": "uuN-IlZufDIc"
      },
      "execution_count": null,
      "outputs": []
    },
    {
      "cell_type": "code",
      "source": [
        "# your code start from here for step 13\n"
      ],
      "metadata": {
        "id": "q10lybAFRvZt"
      },
      "execution_count": null,
      "outputs": []
    },
    {
      "cell_type": "code",
      "source": [
        ""
      ],
      "metadata": {
        "id": "SpkTZzPJHTdR"
      },
      "execution_count": null,
      "outputs": []
    },
    {
      "cell_type": "markdown",
      "source": [
        "## Models for new KD"
      ],
      "metadata": {
        "id": "kQ53e-bpHTzp"
      }
    },
    {
      "cell_type": "markdown",
      "source": [
        "### Teacher assistant for new kd loss: 0.0616 - accuracy: 0.9817 - val_loss: 0.0554 - val_accuracy: 0.9835"
      ],
      "metadata": {
        "id": "tmytgsm3HTzq"
      }
    },
    {
      "cell_type": "code",
      "source": [
        "teacher_ast = keras.Sequential(\n",
        "    [\n",
        "        keras.Input(shape=(28, 28, 1)),\n",
        "        layers.Conv2D(32, (3, 3), strides=(1, 1), padding=\"same\"),\n",
        "        layers.ReLU(),\n",
        "        layers.MaxPooling2D(pool_size=(2, 2), strides=(1, 1), padding=\"same\"),\n",
        "        # layers.Conv2D(64, (3, 3), strides=(1, 1), padding=\"same\"),\n",
        "        # layers.ReLU(),\n",
        "        #layers.MaxPooling2D(pool_size=(2, 2), strides=(2, 2), padding=\"same\"),\n",
        "        layers.Flatten(),\n",
        "        layers.Dropout(0.5),\n",
        "        layers.Dense(64, activation=\"relu\"),\n",
        "        # layers.Dropout(0.5),\n",
        "        layers.Dense(10)\n",
        "    ],\n",
        "    name=\"teacher_ast\",\n",
        ")"
      ],
      "metadata": {
        "id": "ceMiGdofHTzq"
      },
      "execution_count": null,
      "outputs": []
    },
    {
      "cell_type": "code",
      "source": [
        "teacher_ast.summary()"
      ],
      "metadata": {
        "colab": {
          "base_uri": "https://localhost:8080/"
        },
        "outputId": "6fcc574d-a42d-4a9a-8f29-9891d51d0873",
        "id": "YZgTS93fHTzq"
      },
      "execution_count": null,
      "outputs": [
        {
          "output_type": "stream",
          "name": "stdout",
          "text": [
            "Model: \"teacher_ast\"\n",
            "_________________________________________________________________\n",
            " Layer (type)                Output Shape              Param #   \n",
            "=================================================================\n",
            " conv2d (Conv2D)             (None, 28, 28, 32)        320       \n",
            "                                                                 \n",
            " re_lu (ReLU)                (None, 28, 28, 32)        0         \n",
            "                                                                 \n",
            " max_pooling2d (MaxPooling2D  (None, 28, 28, 32)       0         \n",
            " )                                                               \n",
            "                                                                 \n",
            " flatten (Flatten)           (None, 25088)             0         \n",
            "                                                                 \n",
            " dropout (Dropout)           (None, 25088)             0         \n",
            "                                                                 \n",
            " dense (Dense)               (None, 64)                1605696   \n",
            "                                                                 \n",
            " dense_1 (Dense)             (None, 10)                650       \n",
            "                                                                 \n",
            "=================================================================\n",
            "Total params: 1,606,666\n",
            "Trainable params: 1,606,666\n",
            "Non-trainable params: 0\n",
            "_________________________________________________________________\n"
          ]
        }
      ]
    },
    {
      "cell_type": "markdown",
      "source": [
        "### Teacher for new kd loss: 0.0500 - accuracy: 0.9848 - val_loss: 0.0267 - val_accuracy: 0.9916"
      ],
      "metadata": {
        "id": "woBTxUuaHTzq"
      }
    },
    {
      "cell_type": "code",
      "source": [
        "teacher_new_kd = keras.Sequential(\n",
        "    [\n",
        "        keras.Input(shape=(28, 28, 1)),\n",
        "        layers.Conv2D(32, (3, 3), strides=(1, 1), padding=\"same\"),\n",
        "        layers.ReLU(),\n",
        "        layers.MaxPooling2D(pool_size=(2, 2), strides=(1, 1), padding=\"same\"),\n",
        "        layers.Conv2D(64, (3, 3), strides=(1, 1), padding=\"same\"),\n",
        "        layers.ReLU(),\n",
        "        layers.MaxPooling2D(pool_size=(2, 2), strides=(2, 2), padding=\"same\"),\n",
        "        layers.Flatten(),\n",
        "        layers.Dropout(0.5),\n",
        "        layers.Dense(128, activation=\"relu\"),\n",
        "        layers.Dropout(0.5),\n",
        "        layers.Dense(10,activation=\"softmax\")\n",
        "    ],\n",
        "    name=\"teacher_new_kd\",\n",
        ")"
      ],
      "metadata": {
        "id": "3Vql1q_UHTzq"
      },
      "execution_count": null,
      "outputs": []
    },
    {
      "cell_type": "code",
      "source": [
        "teacher_new_kd.summary()"
      ],
      "metadata": {
        "colab": {
          "base_uri": "https://localhost:8080/"
        },
        "outputId": "95fe343d-dcd7-4b2e-90a8-e681ddbeabe0",
        "id": "RpsxRF3kHTzq"
      },
      "execution_count": null,
      "outputs": [
        {
          "output_type": "stream",
          "name": "stdout",
          "text": [
            "Model: \"teacher_new_kd\"\n",
            "_________________________________________________________________\n",
            " Layer (type)                Output Shape              Param #   \n",
            "=================================================================\n",
            " conv2d_4 (Conv2D)           (None, 28, 28, 32)        320       \n",
            "                                                                 \n",
            " re_lu_4 (ReLU)              (None, 28, 28, 32)        0         \n",
            "                                                                 \n",
            " max_pooling2d_4 (MaxPooling  (None, 28, 28, 32)       0         \n",
            " 2D)                                                             \n",
            "                                                                 \n",
            " conv2d_5 (Conv2D)           (None, 28, 28, 64)        18496     \n",
            "                                                                 \n",
            " re_lu_5 (ReLU)              (None, 28, 28, 64)        0         \n",
            "                                                                 \n",
            " max_pooling2d_5 (MaxPooling  (None, 14, 14, 64)       0         \n",
            " 2D)                                                             \n",
            "                                                                 \n",
            " flatten_4 (Flatten)         (None, 12544)             0         \n",
            "                                                                 \n",
            " dropout_4 (Dropout)         (None, 12544)             0         \n",
            "                                                                 \n",
            " dense_7 (Dense)             (None, 128)               1605760   \n",
            "                                                                 \n",
            " dropout_5 (Dropout)         (None, 128)               0         \n",
            "                                                                 \n",
            " dense_8 (Dense)             (None, 10)                1290      \n",
            "                                                                 \n",
            "=================================================================\n",
            "Total params: 1,625,866\n",
            "Trainable params: 1,625,866\n",
            "Non-trainable params: 0\n",
            "_________________________________________________________________\n"
          ]
        }
      ]
    },
    {
      "cell_type": "markdown",
      "source": [
        "### Student fro new kd  loss: 0.0243 - accuracy: 0.9921 - val_loss: 0.0673 - val_accuracy: 0.9805"
      ],
      "metadata": {
        "id": "4vN8nMO0HbPt"
      }
    },
    {
      "cell_type": "code",
      "source": [
        "student_new_kd = keras.Sequential(\n",
        "    [\n",
        "        keras.Input(shape=(28, 28, 1)),\n",
        "        layers.Flatten(),\n",
        "        layers.Dense(784, activation=\"relu\"),\n",
        "        layers.Dense(784, activation=\"relu\"),\n",
        "        layers.Dense(10, activation=\"softmax\")\n",
        "\n",
        "    ],\n",
        "    name=\"student_new_kd\",\n",
        ")\n"
      ],
      "metadata": {
        "id": "mu870trWHTzq"
      },
      "execution_count": null,
      "outputs": []
    },
    {
      "cell_type": "code",
      "source": [
        "student_new_kd.summary()"
      ],
      "metadata": {
        "colab": {
          "base_uri": "https://localhost:8080/"
        },
        "outputId": "f83137a3-5fcb-47f3-cc76-2012fe4513da",
        "id": "kUKoXieyHTzr"
      },
      "execution_count": null,
      "outputs": [
        {
          "output_type": "stream",
          "name": "stdout",
          "text": [
            "Model: \"student_new_kd\"\n",
            "_________________________________________________________________\n",
            " Layer (type)                Output Shape              Param #   \n",
            "=================================================================\n",
            " flatten_1 (Flatten)         (None, 784)               0         \n",
            "                                                                 \n",
            " dense_2 (Dense)             (None, 784)               615440    \n",
            "                                                                 \n",
            " dense_3 (Dense)             (None, 784)               615440    \n",
            "                                                                 \n",
            " dense_4 (Dense)             (None, 10)                7850      \n",
            "                                                                 \n",
            "=================================================================\n",
            "Total params: 1,238,730\n",
            "Trainable params: 1,238,730\n",
            "Non-trainable params: 0\n",
            "_________________________________________________________________\n"
          ]
        }
      ]
    },
    {
      "cell_type": "code",
      "source": [
        "\n",
        "def compute_teacher_loss_new_kd(images, labels,temperature,alpha):\n",
        "  \"\"\"Compute class knowledge distillation teacher loss for given images\n",
        "     and labels.\n",
        "\n",
        "  Args:\n",
        "    images: Tensor representing a batch of images.\n",
        "    labels: Tensor representing a batch of labels.\n",
        "\n",
        "  Returns:\n",
        "    Scalar loss Tensor.\n",
        "  \"\"\"\n",
        "  \n",
        "\n",
        "  # Compute cross-entropy loss for classes.\n",
        "\n",
        "  # your code start from here for step 3\n",
        "  class_logits_new_kd = teacher_new_kd(images, training=True)\n",
        "  cross_entropy_loss_value = tf.reduce_mean(tf.nn.softmax_cross_entropy_with_logits(labels,class_logits_new_kd))\n",
        "\n",
        "  return cross_entropy_loss_value"
      ],
      "metadata": {
        "id": "lPJxfno07doF"
      },
      "execution_count": null,
      "outputs": []
    },
    {
      "cell_type": "code",
      "source": [
        "def distillation_loss_new_kd(teacher_logits: tf.Tensor, student_logits: tf.Tensor,\n",
        "                      temperature: Union[float, tf.Tensor]):\n",
        "  \"\"\"Compute distillation loss.\n",
        "\n",
        "  This function computes cross entropy between softened logits and softened\n",
        "  targets. The resulting loss is scaled by the squared temperature so that\n",
        "  the gradient magnitude remains approximately constant as the temperature is\n",
        "  changed. For reference, see Hinton et al., 2014, \"Distilling the knowledge in\n",
        "  a neural network.\"\n",
        "\n",
        "  Args:\n",
        "    teacher_logits: A Tensor of logits provided by the teacher.\n",
        "    student_logits: A Tensor of logits provided by the student, of the same\n",
        "      shape as `teacher_logits`.\n",
        "    temperature: Temperature to use for distillation.\n",
        "\n",
        "  Returns:\n",
        "    A scalar Tensor containing the distillation loss.\n",
        "  \"\"\"\n",
        " # your code start from here for step 3\n",
        "  soft_targets_2 = teacher_logits / temperature\n",
        "  soft_targets_2 =tf.nn.softmax(soft_targets_2)\n",
        "  return tf.reduce_mean(\n",
        "      tf.nn.softmax_cross_entropy_with_logits(\n",
        "          soft_targets_2, student_logits / temperature))*temperature**2\n",
        "  #* temperature ** 2\n",
        "\n",
        "def compute_TA_loss_new_kd(images, labels,temperature,alpha):\n",
        "  \"\"\"Compute class knowledge distillation student loss for given images\n",
        "     and labels.\n",
        "\n",
        "  Args:\n",
        "    images: Tensor representing a batch of images.\n",
        "    labels: Tensor representing a batch of labels.\n",
        "\n",
        "  Returns:\n",
        "    Scalar loss Tensor.\n",
        "  \"\"\"\n",
        "  ta_class_logits_2 = teacher_ast(images, training=True)\n",
        "\n",
        "  # Compute class distillation loss between student class logits and\n",
        "  # softened teacher class targets probabilities.\n",
        "\n",
        "  # your code start from here for step 3\n",
        "\n",
        "  # teacher_class_logits_2 = teacher_new_kd(images, training=False)\n",
        "  \n",
        "\n",
        "  # Compute cross-entropy loss with hard targets.\n",
        "\n",
        "  # your code start from here for step 3\n",
        "\n",
        "  teacher_class_logits_2 = teacher_new_kd_load(images, training=False)\n",
        "  distillation_loss_value_2 =distillation_loss_new_kd(teacher_class_logits_2,ta_class_logits_2,temperature)\n",
        "  cross_entropy_loss_value_2 = tf.reduce_mean(tf.nn.softmax_cross_entropy_with_logits(labels, ta_class_logits_2))\n",
        "\n",
        "  total_loss_2 =alpha*cross_entropy_loss_value_2 + (1-alpha)*distillation_loss_value_2\n",
        "\n",
        "  return total_loss_2"
      ],
      "metadata": {
        "id": "ASpUkYDC7zos"
      },
      "execution_count": null,
      "outputs": []
    },
    {
      "cell_type": "code",
      "source": [
        "\n",
        "def compute_student_loss_new_kd(images, labels,temperature,alpha):\n",
        "  \"\"\"Compute class knowledge distillation student loss for given images\n",
        "     and labels.\n",
        "\n",
        "  Args:\n",
        "    images: Tensor representing a batch of images.\n",
        "    labels: Tensor representing a batch of labels.\n",
        "\n",
        "  Returns:\n",
        "    Scalar loss Tensor.\n",
        "  \"\"\"\n",
        "  \n",
        "\n",
        "  # Compute class distillation loss between student class logits and\n",
        "  # softened teacher class targets probabilities.\n",
        "\n",
        "  # your code start from here for step 3\n",
        "\n",
        "\n",
        "  # Compute cross-entropy loss with hard targets.\n",
        "\n",
        "  # your code start from here for step 3\n",
        "  student_class_logits_2 = student_new_kd(images, training=True)\n",
        "  ta_class_logits_3 = teacher_ast(images, training=False)\n",
        "  distillation_loss_value_3 =distillation_loss_new_kd(ta_class_logits_3,student_class_logits_2,temperature)\n",
        " \n",
        "  cross_entropy_loss_value_3 = tf.reduce_mean(tf.nn.softmax_cross_entropy_with_logits(labels, ta_class_logits_3))\n",
        "\n",
        "  total_loss_3 =alpha*cross_entropy_loss_value_3 + (1-alpha)*distillation_loss_value_3\n",
        "\n",
        "  return total_loss_3"
      ],
      "metadata": {
        "id": "M55rNCHw83VI"
      },
      "execution_count": null,
      "outputs": []
    },
    {
      "cell_type": "markdown",
      "source": [
        "## New KD training sequence"
      ],
      "metadata": {
        "id": "8KU0sCe7-iNQ"
      }
    },
    {
      "cell_type": "markdown",
      "source": [
        "### Teacher train"
      ],
      "metadata": {
        "id": "8ZoTv9CS_Bii"
      }
    },
    {
      "cell_type": "code",
      "source": [
        "temp2=4\n",
        "learning_rate=0.001\n",
        "alpha=0.5\n",
        "print(\"Teacher New KD training\")\n",
        "train_and_evaluate(teacher_new_kd, compute_teacher_loss_new_kd,temp2,learning_rate,alpha)\n",
        "# teacher.save(\"teacher_model_new_kd.h5\")\n",
        "# teacher.save_weights(\"teacher_model_new_kd_weight\")"
      ],
      "metadata": {
        "colab": {
          "base_uri": "https://localhost:8080/"
        },
        "id": "MUBJ9Zu_-nn8",
        "outputId": "d47d4b92-a6c7-4d3e-980b-5c1c18f0496a"
      },
      "execution_count": null,
      "outputs": [
        {
          "output_type": "stream",
          "name": "stdout",
          "text": [
            "Teacher New KD training\n",
            "Epoch 1: Class_accuracy: 99.15%\n",
            "Epoch 2: Class_accuracy: 98.93%\n",
            "Epoch 3: Class_accuracy: 99.00%\n",
            "Epoch 4: Class_accuracy: 99.10%\n",
            "Epoch 5: Class_accuracy: 99.06%\n",
            "Epoch 6: Class_accuracy: 99.17%\n",
            "Epoch 7: Class_accuracy: 99.12%\n",
            "Epoch 8: Class_accuracy: 99.14%\n",
            "Epoch 9: Class_accuracy: 99.18%\n",
            "Epoch 10: Class_accuracy: 99.21%\n",
            "Epoch 11: Class_accuracy: 99.24%\n",
            "Epoch 12: Class_accuracy: 99.13%\n"
          ]
        }
      ]
    },
    {
      "cell_type": "code",
      "source": [
        "teacher_new_kd.save(\"teacher_model_new_kd.h5\")\n",
        "teacher_new_kd.save_weights(\"teacher_model_new_kd_weight\")"
      ],
      "metadata": {
        "colab": {
          "base_uri": "https://localhost:8080/"
        },
        "id": "eXX8ebilQdkO",
        "outputId": "ce7e2543-d145-452c-b3f4-d0dace8f36bd"
      },
      "execution_count": null,
      "outputs": [
        {
          "output_type": "stream",
          "name": "stdout",
          "text": [
            "WARNING:tensorflow:Compiled the loaded model, but the compiled metrics have yet to be built. `model.compile_metrics` will be empty until you train or evaluate the model.\n"
          ]
        },
        {
          "output_type": "stream",
          "name": "stderr",
          "text": [
            "WARNING:tensorflow:Compiled the loaded model, but the compiled metrics have yet to be built. `model.compile_metrics` will be empty until you train or evaluate the model.\n"
          ]
        }
      ]
    },
    {
      "cell_type": "markdown",
      "source": [
        "### TA train"
      ],
      "metadata": {
        "id": "MpGeVeTe_FHa"
      }
    },
    {
      "cell_type": "code",
      "source": [
        "teacher_new_kd_load=load_model('./teacher_model_new_kd.h5')\n",
        "teacher_new_kd_load.load_weights('./teacher_model_new_kd_weight')"
      ],
      "metadata": {
        "colab": {
          "base_uri": "https://localhost:8080/"
        },
        "id": "8mFZx_odVVcX",
        "outputId": "85327b6f-31e4-4005-dd28-317999dfb550"
      },
      "execution_count": null,
      "outputs": [
        {
          "output_type": "stream",
          "name": "stdout",
          "text": [
            "WARNING:tensorflow:No training configuration found in the save file, so the model was *not* compiled. Compile it manually.\n"
          ]
        },
        {
          "output_type": "stream",
          "name": "stderr",
          "text": [
            "WARNING:tensorflow:No training configuration found in the save file, so the model was *not* compiled. Compile it manually.\n"
          ]
        },
        {
          "output_type": "execute_result",
          "data": {
            "text/plain": [
              "<tensorflow.python.training.tracking.util.CheckpointLoadStatus at 0x7fa43be91910>"
            ]
          },
          "metadata": {},
          "execution_count": 7
        }
      ]
    },
    {
      "cell_type": "code",
      "source": [
        "temp2=4\n",
        "learning_rate=0.001\n",
        "alpha=0.5\n",
        "print(\"TA distill training\")\n",
        "train_and_evaluate(teacher_ast, compute_TA_loss_new_kd,temp2,learning_rate,alpha)\n",
        "teacher_ast.save(\"TA_model_new_kd.h5\")\n",
        "teacher_ast.save_weights(\"TA_model_new_kd_weight\")"
      ],
      "metadata": {
        "colab": {
          "base_uri": "https://localhost:8080/"
        },
        "id": "JBKuEJVs_HfD",
        "outputId": "5d8f36a3-9c51-4be9-e75a-d0ef275e623c"
      },
      "execution_count": null,
      "outputs": [
        {
          "output_type": "stream",
          "name": "stdout",
          "text": [
            "TA distill training\n",
            "Epoch 1: Class_accuracy: 97.76%\n",
            "Epoch 2: Class_accuracy: 98.42%\n",
            "Epoch 3: Class_accuracy: 98.53%\n",
            "Epoch 4: Class_accuracy: 98.74%\n",
            "Epoch 5: Class_accuracy: 98.78%\n",
            "Epoch 6: Class_accuracy: 98.86%\n",
            "Epoch 7: Class_accuracy: 98.84%\n",
            "Epoch 8: Class_accuracy: 98.93%\n",
            "Epoch 9: Class_accuracy: 98.92%\n",
            "Epoch 10: Class_accuracy: 98.95%\n",
            "Epoch 11: Class_accuracy: 98.96%\n",
            "Epoch 12: Class_accuracy: 98.94%\n",
            "WARNING:tensorflow:Compiled the loaded model, but the compiled metrics have yet to be built. `model.compile_metrics` will be empty until you train or evaluate the model.\n"
          ]
        },
        {
          "output_type": "stream",
          "name": "stderr",
          "text": [
            "WARNING:tensorflow:Compiled the loaded model, but the compiled metrics have yet to be built. `model.compile_metrics` will be empty until you train or evaluate the model.\n"
          ]
        }
      ]
    },
    {
      "cell_type": "markdown",
      "source": [
        "### Student train"
      ],
      "metadata": {
        "id": "efN9peGo_ZeC"
      }
    },
    {
      "cell_type": "code",
      "source": [
        "temp2=4\n",
        "learning_rate=0.001\n",
        "alpha=0.5\n",
        "print(\"Student distill training\")\n",
        "train_and_evaluate(student_new_kd, compute_student_loss_new_kd,temp2,learning_rate,alpha)\n",
        "student_new_kd.save(\"student_model_new_kd.h5\")\n",
        "student_new_kd.save_weights(\"student_model_new_kd_weight\")"
      ],
      "metadata": {
        "colab": {
          "base_uri": "https://localhost:8080/"
        },
        "id": "x3RL6ZYO_cO9",
        "outputId": "93484420-8d1b-44c0-a087-4323c75a931e"
      },
      "execution_count": null,
      "outputs": [
        {
          "output_type": "stream",
          "name": "stdout",
          "text": [
            "Student distill training\n",
            "Epoch 1: Class_accuracy: 97.55%\n",
            "Epoch 2: Class_accuracy: 97.71%\n",
            "Epoch 3: Class_accuracy: 98.02%\n",
            "Epoch 4: Class_accuracy: 97.63%\n",
            "Epoch 5: Class_accuracy: 97.96%\n",
            "Epoch 6: Class_accuracy: 97.78%\n",
            "Epoch 7: Class_accuracy: 98.12%\n",
            "Epoch 8: Class_accuracy: 97.76%\n",
            "Epoch 9: Class_accuracy: 97.93%\n",
            "Epoch 10: Class_accuracy: 97.74%\n",
            "Epoch 11: Class_accuracy: 97.86%\n",
            "Epoch 12: Class_accuracy: 98.03%\n",
            "WARNING:tensorflow:Compiled the loaded model, but the compiled metrics have yet to be built. `model.compile_metrics` will be empty until you train or evaluate the model.\n"
          ]
        },
        {
          "output_type": "stream",
          "name": "stderr",
          "text": [
            "WARNING:tensorflow:Compiled the loaded model, but the compiled metrics have yet to be built. `model.compile_metrics` will be empty until you train or evaluate the model.\n"
          ]
        }
      ]
    },
    {
      "cell_type": "markdown",
      "source": [
        "## SHAP on TAKD"
      ],
      "metadata": {
        "id": "_kE_JQsBY8w0"
      }
    },
    {
      "cell_type": "markdown",
      "source": [
        "### LOAD TAKD models"
      ],
      "metadata": {
        "id": "mfJkJQP_ZZY9"
      }
    },
    {
      "cell_type": "code",
      "source": [
        "teacher_new_kd_load=load_model('./teacher_model_new_kd.h5')\n",
        "teacher_new_kd_load.load_weights('./teacher_model_new_kd_weight')\n",
        "TA_new_kd_load=load_model('./TA_model_new_kd.h5')\n",
        "TA_new_kd_load.load_weights('./TA_model_new_kd_weight')\n",
        "student_new_kd_load=load_model('./student_model_new_kd.h5')\n",
        "student_new_kd_load.load_weights('./student_model_new_kd_weight')"
      ],
      "metadata": {
        "colab": {
          "base_uri": "https://localhost:8080/"
        },
        "id": "vVuO-WXRY8Z-",
        "outputId": "208fbcaf-0b69-4a93-90d4-977348a1c83a"
      },
      "execution_count": 277,
      "outputs": [
        {
          "output_type": "stream",
          "name": "stdout",
          "text": [
            "WARNING:tensorflow:No training configuration found in the save file, so the model was *not* compiled. Compile it manually.\n"
          ]
        },
        {
          "output_type": "stream",
          "name": "stderr",
          "text": [
            "WARNING:tensorflow:No training configuration found in the save file, so the model was *not* compiled. Compile it manually.\n"
          ]
        },
        {
          "output_type": "stream",
          "name": "stdout",
          "text": [
            "WARNING:tensorflow:No training configuration found in the save file, so the model was *not* compiled. Compile it manually.\n"
          ]
        },
        {
          "output_type": "stream",
          "name": "stderr",
          "text": [
            "WARNING:tensorflow:No training configuration found in the save file, so the model was *not* compiled. Compile it manually.\n"
          ]
        },
        {
          "output_type": "stream",
          "name": "stdout",
          "text": [
            "WARNING:tensorflow:No training configuration found in the save file, so the model was *not* compiled. Compile it manually.\n"
          ]
        },
        {
          "output_type": "stream",
          "name": "stderr",
          "text": [
            "WARNING:tensorflow:No training configuration found in the save file, so the model was *not* compiled. Compile it manually.\n"
          ]
        },
        {
          "output_type": "execute_result",
          "data": {
            "text/plain": [
              "<tensorflow.python.training.tracking.util.CheckpointLoadStatus at 0x7f72fa5bf910>"
            ]
          },
          "metadata": {},
          "execution_count": 277
        }
      ]
    },
    {
      "cell_type": "markdown",
      "source": [
        "### Teacher Digit 2 classification"
      ],
      "metadata": {
        "id": "p1X0W4gfbRUF"
      }
    },
    {
      "cell_type": "code",
      "source": [
        "explainer_teacher_new_kd=shap.GradientExplainer(teacher_new_kd_load,x)\n",
        "image2 = tf.expand_dims(x[43], axis=0)\n",
        "explainables_teacher2_new_kd = explainer_teacher_new_kd.shap_values(image2,200)"
      ],
      "metadata": {
        "colab": {
          "base_uri": "https://localhost:8080/"
        },
        "id": "wHoTYBTcaE7j",
        "outputId": "dab80dee-279f-4c27-d064-99fd5e94d075"
      },
      "execution_count": 278,
      "outputs": [
        {
          "output_type": "stream",
          "name": "stderr",
          "text": [
            "`tf.keras.backend.set_learning_phase` is deprecated and will be removed after 2020-10-11. To update it, simply pass a True/False value to the `training` argument of the `__call__` method of your layer or model.\n"
          ]
        }
      ]
    },
    {
      "cell_type": "code",
      "source": [
        "pred_teach2=teacher_new_kd_load(image2,training=False)\n",
        "tf.nn.softmax(pred_teach2)"
      ],
      "metadata": {
        "colab": {
          "base_uri": "https://localhost:8080/"
        },
        "outputId": "66f238c1-3b76-4fe2-a26f-bfbe43ba5a73",
        "id": "dlCV3sowaFUg"
      },
      "execution_count": 281,
      "outputs": [
        {
          "output_type": "execute_result",
          "data": {
            "text/plain": [
              "<tf.Tensor: shape=(1, 10), dtype=float32, numpy=\n",
              "array([[0.08533674, 0.08533674, 0.23196931, 0.08533674, 0.08533674,\n",
              "        0.08533674, 0.08533674, 0.08533674, 0.08533674, 0.08533674]],\n",
              "      dtype=float32)>"
            ]
          },
          "metadata": {},
          "execution_count": 281
        }
      ]
    },
    {
      "cell_type": "code",
      "source": [
        "shap.image_plot([np.array(explainables_teacher2_new_kd[i]) for i in range(10) ],np.array(tf.expand_dims(x[43], axis=0)),width=400, labelpad=float)"
      ],
      "metadata": {
        "colab": {
          "base_uri": "https://localhost:8080/",
          "height": 255
        },
        "outputId": "742b5af7-c643-4eed-94eb-64a3ec4f5363",
        "id": "FKu9lbfJbYnx"
      },
      "execution_count": null,
      "outputs": [
        {
          "output_type": "display_data",
          "data": {
            "text/plain": [
              "<Figure size 2376x360 with 12 Axes>"
            ],
            "image/png": "[encoded data removed]"
          },
          "metadata": {
            "needs_background": "light"
          }
        }
      ]
    },
    {
      "cell_type": "code",
      "source": [
        ""
      ],
      "metadata": {
        "id": "gXuh7dOHbj82"
      },
      "execution_count": null,
      "outputs": []
    },
    {
      "cell_type": "markdown",
      "source": [
        "### TA Digit 2 classification"
      ],
      "metadata": {
        "id": "_xnO91Spbm2Q"
      }
    },
    {
      "cell_type": "code",
      "source": [
        "explainer_TA_new_kd=shap.GradientExplainer(TA_new_kd_load,x)\n",
        "image2 = tf.expand_dims(x[43], axis=0)\n",
        "explainables_TA2_new_kd = explainer_TA_new_kd.shap_values(image2,200)"
      ],
      "metadata": {
        "colab": {
          "base_uri": "https://localhost:8080/"
        },
        "outputId": "ade796c0-871f-4213-87ef-a8b5aa1853ee",
        "id": "PaZlH5sublxR"
      },
      "execution_count": 283,
      "outputs": [
        {
          "output_type": "stream",
          "name": "stderr",
          "text": [
            "`tf.keras.backend.set_learning_phase` is deprecated and will be removed after 2020-10-11. To update it, simply pass a True/False value to the `training` argument of the `__call__` method of your layer or model.\n"
          ]
        }
      ]
    },
    {
      "cell_type": "code",
      "source": [
        "pred_TA2=TA_new_kd_load(image2,training=False)\n",
        "tf.nn.softmax(pred_teach2)"
      ],
      "metadata": {
        "colab": {
          "base_uri": "https://localhost:8080/"
        },
        "outputId": "b84c33d8-db68-4ed7-e020-4d3b3d19c1da",
        "id": "JHGiimqXblxR"
      },
      "execution_count": 284,
      "outputs": [
        {
          "output_type": "execute_result",
          "data": {
            "text/plain": [
              "<tf.Tensor: shape=(1, 10), dtype=float32, numpy=\n",
              "array([[0.08533674, 0.08533674, 0.23196931, 0.08533674, 0.08533674,\n",
              "        0.08533674, 0.08533674, 0.08533674, 0.08533674, 0.08533674]],\n",
              "      dtype=float32)>"
            ]
          },
          "metadata": {},
          "execution_count": 284
        }
      ]
    },
    {
      "cell_type": "code",
      "source": [
        "shap.image_plot([np.array(explainables_TA2_new_kd[i]) for i in range(10) ],np.array(tf.expand_dims(x[43], axis=0)),width=400, labelpad=float)"
      ],
      "metadata": {
        "colab": {
          "base_uri": "https://localhost:8080/",
          "height": 255
        },
        "outputId": "2ecceb2d-1456-4c2d-ce43-c9a081c349d9",
        "id": "c0QQ72CMblxR"
      },
      "execution_count": 285,
      "outputs": [
        {
          "output_type": "display_data",
          "data": {
            "text/plain": [
              "<Figure size 2376x360 with 12 Axes>"
            ],
            "image/png": "[encoded data removed]"
          },
          "metadata": {
            "needs_background": "light"
          }
        }
      ]
    },
    {
      "cell_type": "markdown",
      "source": [
        "### Student Digit 2 classification"
      ],
      "metadata": {
        "id": "2v3UKN4scDtY"
      }
    },
    {
      "cell_type": "code",
      "source": [
        "explainer_student_new_kd=shap.GradientExplainer(student_new_kd_load,x)\n",
        "image2 = tf.expand_dims(x[43], axis=0)\n",
        "explainables_student2_new_kd = explainer_student_new_kd.shap_values(image2,200)"
      ],
      "metadata": {
        "colab": {
          "base_uri": "https://localhost:8080/"
        },
        "outputId": "41f3873f-d9d6-4c36-adc9-db14617b2d9d",
        "id": "_HRiqy1JcLpj"
      },
      "execution_count": 286,
      "outputs": [
        {
          "output_type": "stream",
          "name": "stderr",
          "text": [
            "`tf.keras.backend.set_learning_phase` is deprecated and will be removed after 2020-10-11. To update it, simply pass a True/False value to the `training` argument of the `__call__` method of your layer or model.\n"
          ]
        }
      ]
    },
    {
      "cell_type": "code",
      "source": [
        "pred_student2_new=student_new_kd_load(image2)\n",
        "tf.nn.softmax(pred_student2_new)"
      ],
      "metadata": {
        "colab": {
          "base_uri": "https://localhost:8080/"
        },
        "outputId": "d2af7777-4a75-421a-d8e3-3e874c094d0d",
        "id": "RZrMD3MIcLpj"
      },
      "execution_count": 289,
      "outputs": [
        {
          "output_type": "execute_result",
          "data": {
            "text/plain": [
              "<tf.Tensor: shape=(1, 10), dtype=float32, numpy=\n",
              "array([[0.08533674, 0.08533674, 0.23196931, 0.08533674, 0.08533674,\n",
              "        0.08533674, 0.08533674, 0.08533674, 0.08533674, 0.08533674]],\n",
              "      dtype=float32)>"
            ]
          },
          "metadata": {},
          "execution_count": 289
        }
      ]
    },
    {
      "cell_type": "code",
      "source": [
        "shap.image_plot([np.array(explainables_student2_new_kd[i]) for i in range(10) ],np.array(tf.expand_dims(x[43], axis=0)),width=400, labelpad=float)"
      ],
      "metadata": {
        "colab": {
          "base_uri": "https://localhost:8080/",
          "height": 255
        },
        "outputId": "c0351266-7d6c-415f-f8fc-a1a6a729f009",
        "id": "SqeoCdVUcLpj"
      },
      "execution_count": 288,
      "outputs": [
        {
          "output_type": "display_data",
          "data": {
            "text/plain": [
              "<Figure size 2376x360 with 12 Axes>"
            ],
            "image/png": "[encoded data removed]"
          },
          "metadata": {
            "needs_background": "light"
          }
        }
      ]
    }
  ]
}