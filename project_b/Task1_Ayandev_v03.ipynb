{
  "nbformat": 4,
  "nbformat_minor": 0,
  "metadata": {
    "colab": {
      "name": "New_task1.ipynb",
      "provenance": [],
      "collapsed_sections": [],
      "toc_visible": true
    },
    "kernelspec": {
      "name": "python3",
      "display_name": "Python 3"
    },
    "language_info": {
      "name": "python"
    },
    "widgets": {
      "application/vnd.jupyter.widget-state+json": {
        "4b1f6e4cddef457d89058e908da19a68": {
          "model_module": "@jupyter-widgets/controls",
          "model_name": "HBoxModel",
          "model_module_version": "1.5.0",
          "state": {
            "_dom_classes": [],
            "_model_module": "@jupyter-widgets/controls",
            "_model_module_version": "1.5.0",
            "_model_name": "HBoxModel",
            "_view_count": null,
            "_view_module": "@jupyter-widgets/controls",
            "_view_module_version": "1.5.0",
            "_view_name": "HBoxView",
            "box_style": "",
            "children": [
              "IPY_MODEL_0d58a929ad164209adb0a89f29b40174",
              "IPY_MODEL_7ee4a78bd40c4fc4bd303fb00547f9b0",
              "IPY_MODEL_3bad765a5b8b428ab4659e09a5dee0b1"
            ],
            "layout": "IPY_MODEL_bc2f8400cace44efbf04b5fd49692fdd"
          }
        },
        "0d58a929ad164209adb0a89f29b40174": {
          "model_module": "@jupyter-widgets/controls",
          "model_name": "HTMLModel",
          "model_module_version": "1.5.0",
          "state": {
            "_dom_classes": [],
            "_model_module": "@jupyter-widgets/controls",
            "_model_module_version": "1.5.0",
            "_model_name": "HTMLModel",
            "_view_count": null,
            "_view_module": "@jupyter-widgets/controls",
            "_view_module_version": "1.5.0",
            "_view_name": "HTMLView",
            "description": "",
            "description_tooltip": null,
            "layout": "IPY_MODEL_098ccbea04354726bd5fadb71f1869dd",
            "placeholder": "​",
            "style": "IPY_MODEL_89d7d0fb3e1b4dbba3bb8e96b2fd7f19",
            "value": "Dl Completed...: 100%"
          }
        },
        "7ee4a78bd40c4fc4bd303fb00547f9b0": {
          "model_module": "@jupyter-widgets/controls",
          "model_name": "FloatProgressModel",
          "model_module_version": "1.5.0",
          "state": {
            "_dom_classes": [],
            "_model_module": "@jupyter-widgets/controls",
            "_model_module_version": "1.5.0",
            "_model_name": "FloatProgressModel",
            "_view_count": null,
            "_view_module": "@jupyter-widgets/controls",
            "_view_module_version": "1.5.0",
            "_view_name": "ProgressView",
            "bar_style": "success",
            "description": "",
            "description_tooltip": null,
            "layout": "IPY_MODEL_ccd1b75eed5a4833aa9b3e8ce6423c85",
            "max": 4,
            "min": 0,
            "orientation": "horizontal",
            "style": "IPY_MODEL_090b7b2a63c848138908888fa87577ba",
            "value": 4
          }
        },
        "3bad765a5b8b428ab4659e09a5dee0b1": {
          "model_module": "@jupyter-widgets/controls",
          "model_name": "HTMLModel",
          "model_module_version": "1.5.0",
          "state": {
            "_dom_classes": [],
            "_model_module": "@jupyter-widgets/controls",
            "_model_module_version": "1.5.0",
            "_model_name": "HTMLModel",
            "_view_count": null,
            "_view_module": "@jupyter-widgets/controls",
            "_view_module_version": "1.5.0",
            "_view_name": "HTMLView",
            "description": "",
            "description_tooltip": null,
            "layout": "IPY_MODEL_efa1726171124806aed5339e59037615",
            "placeholder": "​",
            "style": "IPY_MODEL_56e5abdf90ad469eb9b89ba68ab31614",
            "value": " 4/4 [00:00&lt;00:00,  8.97 file/s]"
          }
        },
        "bc2f8400cace44efbf04b5fd49692fdd": {
          "model_module": "@jupyter-widgets/base",
          "model_name": "LayoutModel",
          "model_module_version": "1.2.0",
          "state": {
            "_model_module": "@jupyter-widgets/base",
            "_model_module_version": "1.2.0",
            "_model_name": "LayoutModel",
            "_view_count": null,
            "_view_module": "@jupyter-widgets/base",
            "_view_module_version": "1.2.0",
            "_view_name": "LayoutView",
            "align_content": null,
            "align_items": null,
            "align_self": null,
            "border": null,
            "bottom": null,
            "display": null,
            "flex": null,
            "flex_flow": null,
            "grid_area": null,
            "grid_auto_columns": null,
            "grid_auto_flow": null,
            "grid_auto_rows": null,
            "grid_column": null,
            "grid_gap": null,
            "grid_row": null,
            "grid_template_areas": null,
            "grid_template_columns": null,
            "grid_template_rows": null,
            "height": null,
            "justify_content": null,
            "justify_items": null,
            "left": null,
            "margin": null,
            "max_height": null,
            "max_width": null,
            "min_height": null,
            "min_width": null,
            "object_fit": null,
            "object_position": null,
            "order": null,
            "overflow": null,
            "overflow_x": null,
            "overflow_y": null,
            "padding": null,
            "right": null,
            "top": null,
            "visibility": null,
            "width": null
          }
        },
        "098ccbea04354726bd5fadb71f1869dd": {
          "model_module": "@jupyter-widgets/base",
          "model_name": "LayoutModel",
          "model_module_version": "1.2.0",
          "state": {
            "_model_module": "@jupyter-widgets/base",
            "_model_module_version": "1.2.0",
            "_model_name": "LayoutModel",
            "_view_count": null,
            "_view_module": "@jupyter-widgets/base",
            "_view_module_version": "1.2.0",
            "_view_name": "LayoutView",
            "align_content": null,
            "align_items": null,
            "align_self": null,
            "border": null,
            "bottom": null,
            "display": null,
            "flex": null,
            "flex_flow": null,
            "grid_area": null,
            "grid_auto_columns": null,
            "grid_auto_flow": null,
            "grid_auto_rows": null,
            "grid_column": null,
            "grid_gap": null,
            "grid_row": null,
            "grid_template_areas": null,
            "grid_template_columns": null,
            "grid_template_rows": null,
            "height": null,
            "justify_content": null,
            "justify_items": null,
            "left": null,
            "margin": null,
            "max_height": null,
            "max_width": null,
            "min_height": null,
            "min_width": null,
            "object_fit": null,
            "object_position": null,
            "order": null,
            "overflow": null,
            "overflow_x": null,
            "overflow_y": null,
            "padding": null,
            "right": null,
            "top": null,
            "visibility": null,
            "width": null
          }
        },
        "89d7d0fb3e1b4dbba3bb8e96b2fd7f19": {
          "model_module": "@jupyter-widgets/controls",
          "model_name": "DescriptionStyleModel",
          "model_module_version": "1.5.0",
          "state": {
            "_model_module": "@jupyter-widgets/controls",
            "_model_module_version": "1.5.0",
            "_model_name": "DescriptionStyleModel",
            "_view_count": null,
            "_view_module": "@jupyter-widgets/base",
            "_view_module_version": "1.2.0",
            "_view_name": "StyleView",
            "description_width": ""
          }
        },
        "ccd1b75eed5a4833aa9b3e8ce6423c85": {
          "model_module": "@jupyter-widgets/base",
          "model_name": "LayoutModel",
          "model_module_version": "1.2.0",
          "state": {
            "_model_module": "@jupyter-widgets/base",
            "_model_module_version": "1.2.0",
            "_model_name": "LayoutModel",
            "_view_count": null,
            "_view_module": "@jupyter-widgets/base",
            "_view_module_version": "1.2.0",
            "_view_name": "LayoutView",
            "align_content": null,
            "align_items": null,
            "align_self": null,
            "border": null,
            "bottom": null,
            "display": null,
            "flex": null,
            "flex_flow": null,
            "grid_area": null,
            "grid_auto_columns": null,
            "grid_auto_flow": null,
            "grid_auto_rows": null,
            "grid_column": null,
            "grid_gap": null,
            "grid_row": null,
            "grid_template_areas": null,
            "grid_template_columns": null,
            "grid_template_rows": null,
            "height": null,
            "justify_content": null,
            "justify_items": null,
            "left": null,
            "margin": null,
            "max_height": null,
            "max_width": null,
            "min_height": null,
            "min_width": null,
            "object_fit": null,
            "object_position": null,
            "order": null,
            "overflow": null,
            "overflow_x": null,
            "overflow_y": null,
            "padding": null,
            "right": null,
            "top": null,
            "visibility": null,
            "width": null
          }
        },
        "090b7b2a63c848138908888fa87577ba": {
          "model_module": "@jupyter-widgets/controls",
          "model_name": "ProgressStyleModel",
          "model_module_version": "1.5.0",
          "state": {
            "_model_module": "@jupyter-widgets/controls",
            "_model_module_version": "1.5.0",
            "_model_name": "ProgressStyleModel",
            "_view_count": null,
            "_view_module": "@jupyter-widgets/base",
            "_view_module_version": "1.2.0",
            "_view_name": "StyleView",
            "bar_color": null,
            "description_width": ""
          }
        },
        "efa1726171124806aed5339e59037615": {
          "model_module": "@jupyter-widgets/base",
          "model_name": "LayoutModel",
          "model_module_version": "1.2.0",
          "state": {
            "_model_module": "@jupyter-widgets/base",
            "_model_module_version": "1.2.0",
            "_model_name": "LayoutModel",
            "_view_count": null,
            "_view_module": "@jupyter-widgets/base",
            "_view_module_version": "1.2.0",
            "_view_name": "LayoutView",
            "align_content": null,
            "align_items": null,
            "align_self": null,
            "border": null,
            "bottom": null,
            "display": null,
            "flex": null,
            "flex_flow": null,
            "grid_area": null,
            "grid_auto_columns": null,
            "grid_auto_flow": null,
            "grid_auto_rows": null,
            "grid_column": null,
            "grid_gap": null,
            "grid_row": null,
            "grid_template_areas": null,
            "grid_template_columns": null,
            "grid_template_rows": null,
            "height": null,
            "justify_content": null,
            "justify_items": null,
            "left": null,
            "margin": null,
            "max_height": null,
            "max_width": null,
            "min_height": null,
            "min_width": null,
            "object_fit": null,
            "object_position": null,
            "order": null,
            "overflow": null,
            "overflow_x": null,
            "overflow_y": null,
            "padding": null,
            "right": null,
            "top": null,
            "visibility": null,
            "width": null
          }
        },
        "56e5abdf90ad469eb9b89ba68ab31614": {
          "model_module": "@jupyter-widgets/controls",
          "model_name": "DescriptionStyleModel",
          "model_module_version": "1.5.0",
          "state": {
            "_model_module": "@jupyter-widgets/controls",
            "_model_module_version": "1.5.0",
            "_model_name": "DescriptionStyleModel",
            "_view_count": null,
            "_view_module": "@jupyter-widgets/base",
            "_view_module_version": "1.2.0",
            "_view_name": "StyleView",
            "description_width": ""
          }
        }
      }
    }
  },
  "cells": [
    {
      "cell_type": "markdown",
      "source": [
        "# Project B: Knowledge Distillation for Building Lightweight Deep Learning Models in Visual Classification Tasks"
      ],
      "metadata": {
        "id": "6WYMfvCNPwpm"
      }
    },
    {
      "cell_type": "code",
      "source": [
        "import tensorflow.compat.v2 as tf\n",
        "import tensorflow_datasets as tfds\n",
        "from typing import Union\n",
        "import os\n",
        "from google.colab import drive\n",
        "drive.mount('/content/drive')\n",
        "os.chdir(r'/content/drive/My Drive/ECE1512')\n",
        "tf.enable_v2_behavior()\n",
        "\n",
        "builder = tfds.builder('mnist')\n",
        "BATCH_SIZE = 256\n",
        "NUM_EPOCHS = 12\n",
        "NUM_CLASSES = 10  # 10 total classes."
      ],
      "metadata": {
        "id": "vA8ppgB2P0aJ",
        "colab": {
          "base_uri": "https://localhost:8080/"
        },
        "outputId": "0540c42c-fac1-40e3-fe53-569dc7363644"
      },
      "execution_count": 1,
      "outputs": [
        {
          "output_type": "stream",
          "name": "stdout",
          "text": [
            "Mounted at /content/drive\n"
          ]
        }
      ]
    },
    {
      "cell_type": "code",
      "source": [
        "from tensorflow import keras\n",
        "from keras.models import load_model\n",
        "from tensorflow.keras import layers\n",
        "#from keras.layers import Dense, Dropout, Activation, Flatten\n",
        "from tensorflow.keras.optimizers import Adam"
      ],
      "metadata": {
        "id": "6gnTDdemHLV0"
      },
      "execution_count": 10,
      "outputs": []
    },
    {
      "cell_type": "markdown",
      "source": [
        "# Data loading"
      ],
      "metadata": {
        "id": "H2EFLQROP2R7"
      }
    },
    {
      "cell_type": "code",
      "source": [
        "# Load train and test splits.\n",
        "def preprocess(x):\n",
        "  image = tf.image.convert_image_dtype(x['image'], tf.float32)\n",
        "  class_labels = tf.one_hot(x['label'], builder.info.features['label'].num_classes)\n",
        "  return image, class_labels\n",
        "\n",
        "\n",
        "mnist_train = tfds.load('mnist', split='train', shuffle_files=False).cache()\n",
        "mnist_train = mnist_train.map(preprocess)\n",
        "mnist_train = mnist_train.shuffle(builder.info.splits['train'].num_examples)\n",
        "mnist_train = mnist_train.batch(BATCH_SIZE, drop_remainder=True)\n",
        "\n",
        "mnist_test = tfds.load('mnist', split='test').cache()\n",
        "mnist_test = mnist_test.map(preprocess).batch(BATCH_SIZE)"
      ],
      "metadata": {
        "id": "ynByMG_UP4A4",
        "colab": {
          "base_uri": "https://localhost:8080/",
          "height": 193,
          "referenced_widgets": [
            "4b1f6e4cddef457d89058e908da19a68",
            "0d58a929ad164209adb0a89f29b40174",
            "7ee4a78bd40c4fc4bd303fb00547f9b0",
            "3bad765a5b8b428ab4659e09a5dee0b1",
            "bc2f8400cace44efbf04b5fd49692fdd",
            "098ccbea04354726bd5fadb71f1869dd",
            "89d7d0fb3e1b4dbba3bb8e96b2fd7f19",
            "ccd1b75eed5a4833aa9b3e8ce6423c85",
            "090b7b2a63c848138908888fa87577ba",
            "efa1726171124806aed5339e59037615",
            "56e5abdf90ad469eb9b89ba68ab31614"
          ]
        },
        "outputId": "2f21b6d9-3af9-45c3-e057-93fdb50ec339"
      },
      "execution_count": 3,
      "outputs": [
        {
          "output_type": "stream",
          "name": "stdout",
          "text": [
            "\u001b[1mDownloading and preparing dataset mnist/3.0.1 (download: 11.06 MiB, generated: 21.00 MiB, total: 32.06 MiB) to /root/tensorflow_datasets/mnist/3.0.1...\u001b[0m\n"
          ]
        },
        {
          "output_type": "stream",
          "name": "stderr",
          "text": [
            "WARNING:absl:Dataset mnist is hosted on GCS. It will automatically be downloaded to your\n",
            "local data directory. If you'd instead prefer to read directly from our public\n",
            "GCS bucket (recommended if you're running on GCP), you can instead pass\n",
            "`try_gcs=True` to `tfds.load` or set `data_dir=gs://tfds-data/datasets`.\n",
            "\n"
          ]
        },
        {
          "output_type": "display_data",
          "data": {
            "text/plain": [
              "Dl Completed...:   0%|          | 0/4 [00:00<?, ? file/s]"
            ],
            "application/vnd.jupyter.widget-view+json": {
              "version_major": 2,
              "version_minor": 0,
              "model_id": "4b1f6e4cddef457d89058e908da19a68"
            }
          },
          "metadata": {}
        },
        {
          "output_type": "stream",
          "name": "stdout",
          "text": [
            "\n",
            "\u001b[1mDataset mnist downloaded and prepared to /root/tensorflow_datasets/mnist/3.0.1. Subsequent calls will reuse this data.\u001b[0m\n"
          ]
        }
      ]
    },
    {
      "cell_type": "code",
      "source": [
        "mnist_train"
      ],
      "metadata": {
        "colab": {
          "base_uri": "https://localhost:8080/"
        },
        "id": "-yV3LZSMfTtn",
        "outputId": "72daa67c-5532-426e-b4ca-ab1918c54d39"
      },
      "execution_count": 5,
      "outputs": [
        {
          "output_type": "execute_result",
          "data": {
            "text/plain": [
              "<BatchDataset element_spec=(TensorSpec(shape=(256, 28, 28, 1), dtype=tf.float32, name=None), TensorSpec(shape=(256, 10), dtype=tf.float32, name=None))>"
            ]
          },
          "metadata": {},
          "execution_count": 5
        }
      ]
    },
    {
      "cell_type": "markdown",
      "source": [
        "# Model creation"
      ],
      "metadata": {
        "id": "kAZwfvW5P63q"
      }
    },
    {
      "cell_type": "code",
      "source": [
        "# Build CNN teacher.\n",
        "#cnn_model = tf.keras.Sequential()\n",
        "\n",
        "# your code start from here for stpe 2\n",
        "teacher = keras.Sequential(\n",
        "    [\n",
        "        keras.Input(shape=(28, 28, 1)),\n",
        "        layers.Conv2D(32, (3, 3), strides=(1, 1), padding=\"same\"),\n",
        "        layers.ReLU(),\n",
        "        layers.MaxPooling2D(pool_size=(2, 2), strides=(1, 1), padding=\"same\"),\n",
        "        layers.Conv2D(64, (3, 3), strides=(1, 1), padding=\"same\"),\n",
        "        layers.ReLU(),\n",
        "        layers.MaxPooling2D(pool_size=(2, 2), strides=(2, 2), padding=\"same\"),\n",
        "        layers.Flatten(),\n",
        "        layers.Dropout(0.5),\n",
        "        layers.Dense(128, activation=\"relu\"),\n",
        "        layers.Dropout(0.5),\n",
        "        layers.Dense(10)\n",
        "    ],\n",
        "    name=\"teacher\",\n",
        ")\n",
        "\n",
        "\n",
        "# Build fully connected student.\n",
        "#fc_model = tf.keras.Sequential()\n",
        "\n",
        "\n",
        "# your code start from here for step 2\n",
        "\n",
        "student = keras.Sequential(\n",
        "    [\n",
        "        keras.Input(shape=(28, 28, 1)),\n",
        "        layers.Flatten(),\n",
        "        layers.Dense(784, activation=\"relu\"),\n",
        "        layers.Dense(784, activation=\"relu\"),\n",
        "        layers.Dense(10)\n",
        "\n",
        "    ],\n",
        "    name=\"student\",\n",
        ")\n",
        "\n",
        "\n"
      ],
      "metadata": {
        "id": "zINgDkA7P7BP"
      },
      "execution_count": 46,
      "outputs": []
    },
    {
      "cell_type": "markdown",
      "source": [
        "# Teacher loss function"
      ],
      "metadata": {
        "id": "8JWGucyrQGav"
      }
    },
    {
      "cell_type": "code",
      "source": [
        "\n",
        "def compute_teacher_loss(images, labels,temperature,alpha):\n",
        "  \"\"\"Compute class knowledge distillation teacher loss for given images\n",
        "     and labels.\n",
        "\n",
        "  Args:\n",
        "    images: Tensor representing a batch of images.\n",
        "    labels: Tensor representing a batch of labels.\n",
        "\n",
        "  Returns:\n",
        "    Scalar loss Tensor.\n",
        "  \"\"\"\n",
        "  class_logits = teacher(images, training=True)\n",
        "\n",
        "  # Compute cross-entropy loss for classes.\n",
        "\n",
        "  # your code start from here for step 3\n",
        "\n",
        "  cross_entropy_loss_value = tf.reduce_mean(tf.nn.softmax_cross_entropy_with_logits(labels,class_logits))\n",
        "\n",
        "  return cross_entropy_loss_value"
      ],
      "metadata": {
        "id": "DhzBP6ZLQJ57"
      },
      "execution_count": 5,
      "outputs": []
    },
    {
      "cell_type": "markdown",
      "source": [
        "# Student loss function"
      ],
      "metadata": {
        "id": "JS8xkuH0QbOS"
      }
    },
    {
      "cell_type": "code",
      "source": [
        "# Hyperparameters for distillation (need to be tuned).\n",
        "# ALPHA = 0.5 # task balance between cross-entropy and distillation loss\n",
        "# DISTILLATION_TEMPERATURE = 4. #temperature hyperparameter\n",
        "\n",
        "def distillation_loss(teacher_logits: tf.Tensor, student_logits: tf.Tensor,\n",
        "                      temperature: Union[float, tf.Tensor]):\n",
        "  \"\"\"Compute distillation loss.\n",
        "\n",
        "  This function computes cross entropy between softened logits and softened\n",
        "  targets. The resulting loss is scaled by the squared temperature so that\n",
        "  the gradient magnitude remains approximately constant as the temperature is\n",
        "  changed. For reference, see Hinton et al., 2014, \"Distilling the knowledge in\n",
        "  a neural network.\"\n",
        "\n",
        "  Args:\n",
        "    teacher_logits: A Tensor of logits provided by the teacher.\n",
        "    student_logits: A Tensor of logits provided by the student, of the same\n",
        "      shape as `teacher_logits`.\n",
        "    temperature: Temperature to use for distillation.\n",
        "\n",
        "  Returns:\n",
        "    A scalar Tensor containing the distillation loss.\n",
        "  \"\"\"\n",
        " # your code start from here for step 3\n",
        "  soft_targets = teacher_logits / temperature\n",
        "  soft_targets =tf.nn.softmax(soft_targets)\n",
        "  return tf.reduce_mean(\n",
        "      tf.nn.softmax_cross_entropy_with_logits(\n",
        "          soft_targets, student_logits / temperature))*temperature**2\n",
        "  #* temperature ** 2\n",
        "\n",
        "def compute_student_loss(images, labels,temperature,alpha):\n",
        "  \"\"\"Compute class knowledge distillation student loss for given images\n",
        "     and labels.\n",
        "\n",
        "  Args:\n",
        "    images: Tensor representing a batch of images.\n",
        "    labels: Tensor representing a batch of labels.\n",
        "\n",
        "  Returns:\n",
        "    Scalar loss Tensor.\n",
        "  \"\"\"\n",
        "  student_class_logits = student(images, training=True)\n",
        "\n",
        "  # Compute class distillation loss between student class logits and\n",
        "  # softened teacher class targets probabilities.\n",
        "\n",
        "  # your code start from here for step 3\n",
        "\n",
        "  teacher_class_logits = teacher(images, training=False)\n",
        "  distillation_loss_value =distillation_loss(teacher_class_logits,student_class_logits,temperature)\n",
        "\n",
        "  # Compute cross-entropy loss with hard targets.\n",
        "\n",
        "  # your code start from here for step 3\n",
        "\n",
        " \n",
        "  cross_entropy_loss_value = tf.reduce_mean(tf.nn.softmax_cross_entropy_with_logits(labels, student_class_logits))\n",
        "\n",
        "  total_loss =alpha*cross_entropy_loss_value + (1-alpha)*distillation_loss_value\n",
        "\n",
        "  return total_loss"
      ],
      "metadata": {
        "id": "lDKia4gPQMIr"
      },
      "execution_count": 6,
      "outputs": []
    },
    {
      "cell_type": "markdown",
      "source": [
        "# Train and evaluation"
      ],
      "metadata": {
        "id": "RJ1uyvurQ3w4"
      }
    },
    {
      "cell_type": "markdown",
      "source": [
        "### TRAINING and EVALUATE FUNCTION"
      ],
      "metadata": {
        "id": "5m5J7yJe_dK1"
      }
    },
    {
      "cell_type": "code",
      "source": [
        "# your code start from here for step 5 \n",
        "\n",
        "@tf.function\n",
        "def compute_num_correct(model, images, labels):\n",
        "  \"\"\"Compute number of correctly classified images in a batch.\n",
        "\n",
        "  Args:\n",
        "    model: Instance of tf.keras.Model.\n",
        "    images: Tensor representing a batch of images.\n",
        "    labels: Tensor representing a batch of labels.\n",
        "\n",
        "  Returns:\n",
        "    Number of correctly classified images.\n",
        "  \"\"\"\n",
        "  class_logits = model(images, training=False)\n",
        "  return tf.reduce_sum(\n",
        "      tf.cast(tf.math.equal(tf.argmax(class_logits, -1), tf.argmax(labels, -1)),\n",
        "              tf.float32)), tf.argmax(class_logits, -1), tf.argmax(labels, -1)\n",
        "              \n",
        "def train_and_evaluate(model, compute_loss_fn,temperature,learning_rate,alpha):\n",
        "  \"\"\"Perform training and evaluation for a given model.\n",
        "\n",
        "  Args:\n",
        "    model: Instance of tf.keras.Model.\n",
        "    compute_loss_fn: A function that computes the training loss given the\n",
        "      images, and labels.\n",
        "  \"\"\"\n",
        " \n",
        "  # your code start from here for step 4\n",
        "  optimizer = tf.keras.optimizers.Adam(learning_rate=learning_rate)\n",
        "\n",
        "  for epoch in range(1, NUM_EPOCHS + 1):\n",
        "    # Run training.\n",
        "    print('Epoch {}: '.format(epoch), end='')\n",
        "    for images, labels in mnist_train:\n",
        "      with tf.GradientTape() as tape:\n",
        "         # your code start from here for step 4\n",
        "          \n",
        "          loss_value = compute_loss_fn(images,labels,temperature,alpha)\n",
        "\n",
        "      grads = tape.gradient(loss_value, model.trainable_variables)\n",
        "      # grads = [gradient*(1) for gradient in grads]\n",
        "      optimizer.apply_gradients(zip(grads, model.trainable_variables))\n",
        "\n",
        "      \n",
        "    # Run evaluation.\n",
        "    num_correct = 0\n",
        "    num_total = builder.info.splits['test'].num_examples\n",
        "    for images, labels in mnist_test:\n",
        "    #   # your code start from here for step 4\n",
        "\n",
        "      num_correct += compute_num_correct(model,images,labels)[0]\n",
        "      \n",
        "    print(\"Class_accuracy: \" + '{:.2f}%'.format(\n",
        "        num_correct / num_total * 100))\n"
      ],
      "metadata": {
        "id": "-AGHbyABRPz3"
      },
      "execution_count": 7,
      "outputs": []
    },
    {
      "cell_type": "markdown",
      "source": [
        "## **Training models**"
      ],
      "metadata": {
        "id": "hIoAlClYgWsf"
      }
    },
    {
      "cell_type": "code",
      "source": [
        "temp=4\n",
        "learning_rate=0.001\n",
        "alpha=0.5\n",
        "print(\"Teacher training\")\n",
        "train_and_evaluate(teacher, compute_teacher_loss,temp,learning_rate,alpha)"
      ],
      "metadata": {
        "colab": {
          "base_uri": "https://localhost:8080/"
        },
        "id": "67za9g4RjQo8",
        "outputId": "306b783a-ca2e-46ca-9e80-14c53814a57b"
      },
      "execution_count": 8,
      "outputs": [
        {
          "output_type": "stream",
          "name": "stdout",
          "text": [
            "Teacher training\n",
            "Epoch 1: Class_accuracy: 98.06%\n",
            "Epoch 2: Class_accuracy: 98.50%\n",
            "Epoch 3: Class_accuracy: 98.82%\n",
            "Epoch 4: Class_accuracy: 98.95%\n",
            "Epoch 5: Class_accuracy: 99.02%\n",
            "Epoch 6: Class_accuracy: 99.07%\n",
            "Epoch 7: Class_accuracy: 99.12%\n",
            "Epoch 8: Class_accuracy: 99.24%\n",
            "Epoch 9: Class_accuracy: 99.24%\n",
            "Epoch 10: Class_accuracy: 99.13%\n",
            "Epoch 11: Class_accuracy: 99.19%\n",
            "Epoch 12: Class_accuracy: 99.22%\n"
          ]
        }
      ]
    },
    {
      "cell_type": "code",
      "source": [
        "teacher.save(\"teacher_model.h5\")\n",
        "teacher.save_weights(\"teacher_model_weight\")"
      ],
      "metadata": {
        "colab": {
          "base_uri": "https://localhost:8080/"
        },
        "id": "xSuGLuFX4B9Y",
        "outputId": "a6d6f19f-b437-4976-a07d-7697be62588a"
      },
      "execution_count": 34,
      "outputs": [
        {
          "output_type": "stream",
          "name": "stdout",
          "text": [
            "WARNING:tensorflow:Compiled the loaded model, but the compiled metrics have yet to be built. `model.compile_metrics` will be empty until you train or evaluate the model.\n"
          ]
        },
        {
          "output_type": "stream",
          "name": "stderr",
          "text": [
            "WARNING:tensorflow:Compiled the loaded model, but the compiled metrics have yet to be built. `model.compile_metrics` will be empty until you train or evaluate the model.\n"
          ]
        }
      ]
    },
    {
      "cell_type": "code",
      "source": [
        "learning_rate=0.001\n",
        "alpha=0.5\n",
        "print(\"Student distill training\")\n",
        "train_and_evaluate(student, compute_student_loss,temp,learning_rate,alpha)"
      ],
      "metadata": {
        "id": "s585vOOHr0pX",
        "colab": {
          "base_uri": "https://localhost:8080/"
        },
        "outputId": "3615a456-6e52-427b-ee1c-5c1a1384a128"
      },
      "execution_count": 10,
      "outputs": [
        {
          "output_type": "stream",
          "name": "stdout",
          "text": [
            "Student distill training\n",
            "Epoch 1: Class_accuracy: 96.86%\n",
            "Epoch 2: Class_accuracy: 97.82%\n",
            "Epoch 3: Class_accuracy: 98.15%\n",
            "Epoch 4: Class_accuracy: 98.46%\n",
            "Epoch 5: Class_accuracy: 98.50%\n",
            "Epoch 6: Class_accuracy: 98.63%\n",
            "Epoch 7: Class_accuracy: 98.73%\n",
            "Epoch 8: Class_accuracy: 98.73%\n",
            "Epoch 9: Class_accuracy: 98.85%\n",
            "Epoch 10: Class_accuracy: 98.84%\n",
            "Epoch 11: Class_accuracy: 98.89%\n",
            "Epoch 12: Class_accuracy: 98.85%\n"
          ]
        }
      ]
    },
    {
      "cell_type": "code",
      "source": [
        "student.save('student_kd_temp4.h5')\n",
        "student.save_weights('student_kd_temp4_weight')"
      ],
      "metadata": {
        "colab": {
          "base_uri": "https://localhost:8080/"
        },
        "id": "FtfNLbnkWAsr",
        "outputId": "445e51d4-3baf-4c83-d8eb-b90f837dfe79"
      },
      "execution_count": 36,
      "outputs": [
        {
          "output_type": "stream",
          "name": "stdout",
          "text": [
            "WARNING:tensorflow:Compiled the loaded model, but the compiled metrics have yet to be built. `model.compile_metrics` will be empty until you train or evaluate the model.\n"
          ]
        },
        {
          "output_type": "stream",
          "name": "stderr",
          "text": [
            "WARNING:tensorflow:Compiled the loaded model, but the compiled metrics have yet to be built. `model.compile_metrics` will be empty until you train or evaluate the model.\n"
          ]
        }
      ]
    },
    {
      "cell_type": "markdown",
      "source": [
        "# Test accuracy vs. tempreture curve"
      ],
      "metadata": {
        "id": "sj1N38fnRTNB"
      }
    },
    {
      "cell_type": "code",
      "source": [
        "# your code start from here for step 6\n"
      ],
      "metadata": {
        "id": "gX4dbazrRWIz"
      },
      "execution_count": null,
      "outputs": []
    },
    {
      "cell_type": "markdown",
      "source": [
        "# Train student from scratch"
      ],
      "metadata": {
        "id": "WNrH_1emRbGA"
      }
    },
    {
      "cell_type": "code",
      "source": [
        "# Build fully connected student.\n",
        "# fc_model_no_distillation = tf.keras.Sequential()\n",
        "student_no_distil = tf.keras.Sequential(\n",
        "    [\n",
        "        keras.Input(shape=(28, 28, 1)),\n",
        "        layers.Flatten(),\n",
        "        layers.Dense(784, activation=\"relu\"),\n",
        "        layers.Dense(784, activation=\"relu\"),\n",
        "        layers.Dense(10)\n",
        "\n",
        "    ],\n",
        "    name=\"student_no_distil\",\n",
        ")"
      ],
      "metadata": {
        "id": "F_YBaZKNwRAf"
      },
      "execution_count": 12,
      "outputs": []
    },
    {
      "cell_type": "code",
      "source": [
        "student_no_distil.summary()"
      ],
      "metadata": {
        "id": "rpFBJ_bCwSDP",
        "colab": {
          "base_uri": "https://localhost:8080/"
        },
        "outputId": "ee22e61b-8c12-4b37-dac9-c7d3c5a3ce3b"
      },
      "execution_count": 13,
      "outputs": [
        {
          "output_type": "stream",
          "name": "stdout",
          "text": [
            "Model: \"student_no_distil\"\n",
            "_________________________________________________________________\n",
            " Layer (type)                Output Shape              Param #   \n",
            "=================================================================\n",
            " flatten_2 (Flatten)         (None, 784)               0         \n",
            "                                                                 \n",
            " dense_5 (Dense)             (None, 784)               615440    \n",
            "                                                                 \n",
            " dense_6 (Dense)             (None, 784)               615440    \n",
            "                                                                 \n",
            " dense_7 (Dense)             (None, 10)                7850      \n",
            "                                                                 \n",
            "=================================================================\n",
            "Total params: 1,238,730\n",
            "Trainable params: 1,238,730\n",
            "Non-trainable params: 0\n",
            "_________________________________________________________________\n"
          ]
        }
      ]
    },
    {
      "cell_type": "code",
      "source": [
        "\n",
        "# your code start from here for step 7\n",
        "def compute_plain_cross_entropy_loss(images, labels, temperature,alpha):\n",
        "  \"\"\"Compute plain loss for given images and labels.\n",
        "\n",
        "  For fair comparison and convenience, this function also performs a\n",
        "  LogSumExp over classes, but does not perform class distillation.\n",
        "\n",
        "  Args:\n",
        "    images: Tensor representing a batch of images.\n",
        "    labels: Tensor representing a batch of labels.\n",
        "\n",
        "  Returns:\n",
        "    Scalar loss Tensor.\n",
        "  \"\"\"\n",
        "  # your code start from here for step 7\n",
        "  \n",
        "  student_class_logits = student_no_distil(images, training=True)\n",
        "  # cross_entropy_loss =tf.reduce_mean(tf.nn.softmax_cross_entropy_with_logits(labels, student_class_logits))*temperature**2\n",
        "  cross_entropy_loss =tf.reduce_mean(tf.nn.softmax_cross_entropy_with_logits(labels, student_class_logits/temperature))*temperature**2\n",
        "\n",
        "  return cross_entropy_loss\n",
        "\n",
        "\n"
      ],
      "metadata": {
        "id": "HjospsxIRbQ6"
      },
      "execution_count": 14,
      "outputs": []
    },
    {
      "cell_type": "markdown",
      "source": [
        "## TRAIN **STUDENT_NO_DISTILL** FROM SCRATCH"
      ],
      "metadata": {
        "id": "aK09q42HPEh1"
      }
    },
    {
      "cell_type": "code",
      "source": [
        "learning_rate=0.001\n",
        "alpha=0.5\n",
        "temp=4\n",
        "print(\"Student without distill training\")\n",
        "train_and_evaluate(student_no_distil, compute_plain_cross_entropy_loss,temp,learning_rate,alpha)"
      ],
      "metadata": {
        "colab": {
          "base_uri": "https://localhost:8080/"
        },
        "id": "C9NePu2QPDW-",
        "outputId": "98cd2e4e-9ebf-4caa-cb8a-0a7d0da7cb7e"
      },
      "execution_count": 15,
      "outputs": [
        {
          "output_type": "stream",
          "name": "stdout",
          "text": [
            "Student without distill training\n",
            "Epoch 1: Class_accuracy: 95.44%\n",
            "Epoch 2: Class_accuracy: 96.80%\n",
            "Epoch 3: Class_accuracy: 97.29%\n",
            "Epoch 4: Class_accuracy: 97.68%\n",
            "Epoch 5: Class_accuracy: 98.02%\n",
            "Epoch 6: Class_accuracy: 97.95%\n",
            "Epoch 7: Class_accuracy: 98.06%\n",
            "Epoch 8: Class_accuracy: 98.10%\n",
            "Epoch 9: Class_accuracy: 98.24%\n",
            "Epoch 10: Class_accuracy: 97.93%\n",
            "Epoch 11: Class_accuracy: 97.92%\n",
            "Epoch 12: Class_accuracy: 97.88%\n"
          ]
        }
      ]
    },
    {
      "cell_type": "code",
      "source": [
        "student_no_distil.save('student_wo_kd_temp4.h5')\n",
        "student_no_distil.save_weights('student_wo_kd_temp4_weight')"
      ],
      "metadata": {
        "colab": {
          "base_uri": "https://localhost:8080/"
        },
        "id": "GkGB0VNh4OA7",
        "outputId": "830de0a2-ac06-4822-df7c-c020fba2e817"
      },
      "execution_count": 37,
      "outputs": [
        {
          "output_type": "stream",
          "name": "stdout",
          "text": [
            "WARNING:tensorflow:Compiled the loaded model, but the compiled metrics have yet to be built. `model.compile_metrics` will be empty until you train or evaluate the model.\n"
          ]
        },
        {
          "output_type": "stream",
          "name": "stderr",
          "text": [
            "WARNING:tensorflow:Compiled the loaded model, but the compiled metrics have yet to be built. `model.compile_metrics` will be empty until you train or evaluate the model.\n"
          ]
        }
      ]
    },
    {
      "cell_type": "code",
      "source": [
        "#train_and_evaluate(student, compute_plain_cross_entropy_loss)"
      ],
      "metadata": {
        "id": "wNPtS9BmQsRY"
      },
      "execution_count": null,
      "outputs": []
    },
    {
      "cell_type": "markdown",
      "source": [
        "# Comparing the teacher and student model (number of of parameters and FLOPs) "
      ],
      "metadata": {
        "id": "yq3JTpQ4RuhR"
      }
    },
    {
      "cell_type": "code",
      "source": [
        "!pip install keras-flops"
      ],
      "metadata": {
        "id": "PCJ-uPVZboAH"
      },
      "execution_count": null,
      "outputs": []
    },
    {
      "cell_type": "markdown",
      "source": [
        "### LOAD Teacher model and weights during it's training"
      ],
      "metadata": {
        "id": "waKpXmCfdud3"
      }
    },
    {
      "cell_type": "code",
      "source": [
        "#accuracy Class_accuracy: 99.22%\n",
        "teacher_load=load_model('./teacher_model.h5')\n",
        "teacher_load.load_weights('./teacher_model_weight')"
      ],
      "metadata": {
        "colab": {
          "base_uri": "https://localhost:8080/"
        },
        "id": "R2V6XvclcMSt",
        "outputId": "b122fe59-1a36-49e7-c6aa-50598006f9a7"
      },
      "execution_count": 56,
      "outputs": [
        {
          "output_type": "stream",
          "name": "stdout",
          "text": [
            "WARNING:tensorflow:No training configuration found in the save file, so the model was *not* compiled. Compile it manually.\n"
          ]
        },
        {
          "output_type": "stream",
          "name": "stderr",
          "text": [
            "WARNING:tensorflow:No training configuration found in the save file, so the model was *not* compiled. Compile it manually.\n"
          ]
        },
        {
          "output_type": "execute_result",
          "data": {
            "text/plain": [
              "<tensorflow.python.training.tracking.util.CheckpointLoadStatus at 0x7f44016ea050>"
            ]
          },
          "metadata": {},
          "execution_count": 56
        }
      ]
    },
    {
      "cell_type": "markdown",
      "source": [
        "### Teacher model FLOPS"
      ],
      "metadata": {
        "id": "Yd925BxZg6UE"
      }
    },
    {
      "cell_type": "code",
      "source": [
        "# your code start from here for step 8\n",
        "# Calculae FLOPS\n",
        "####  Referred : https://pypi.org/project/keras-flops/ \n",
        "from keras_flops import get_flops\n",
        "flops = get_flops(teacher_load, batch_size=1)\n",
        "print(f\"FLOPS: {flops / 10 ** 9:.03} G\")"
      ],
      "metadata": {
        "id": "4V8GB2yRRuxF",
        "colab": {
          "base_uri": "https://localhost:8080/"
        },
        "outputId": "2adadcb7-42e5-47c6-cd4f-93c55b84d6ae"
      },
      "execution_count": 54,
      "outputs": [
        {
          "output_type": "stream",
          "name": "stdout",
          "text": [
            "FLOPS: 0.0328 G\n"
          ]
        }
      ]
    },
    {
      "cell_type": "markdown",
      "source": [
        "### Student model FLOPS"
      ],
      "metadata": {
        "id": "j_t8WuL0g_7t"
      }
    },
    {
      "cell_type": "code",
      "source": [
        "# accuracy Class_accuracy: 98.85%\n",
        "student_kd_load=load_model('./student_kd_temp4.h5')\n",
        "student_kd_load.load_weights('./student_kd_temp4_weight')"
      ],
      "metadata": {
        "colab": {
          "base_uri": "https://localhost:8080/"
        },
        "id": "GfXnIvEgd4GQ",
        "outputId": "ea5fc4d9-ec7e-40b3-a40a-ed37f9db156f"
      },
      "execution_count": 55,
      "outputs": [
        {
          "output_type": "stream",
          "name": "stdout",
          "text": [
            "WARNING:tensorflow:No training configuration found in the save file, so the model was *not* compiled. Compile it manually.\n"
          ]
        },
        {
          "output_type": "stream",
          "name": "stderr",
          "text": [
            "WARNING:tensorflow:No training configuration found in the save file, so the model was *not* compiled. Compile it manually.\n"
          ]
        },
        {
          "output_type": "execute_result",
          "data": {
            "text/plain": [
              "<tensorflow.python.training.tracking.util.CheckpointLoadStatus at 0x7f440172b210>"
            ]
          },
          "metadata": {},
          "execution_count": 55
        }
      ]
    },
    {
      "cell_type": "code",
      "source": [
        "flops = get_flops(student_kd_load, batch_size=1)\n",
        "print(f\"FLOPS: {flops / 10 ** 9:.03} G\")"
      ],
      "metadata": {
        "colab": {
          "base_uri": "https://localhost:8080/"
        },
        "id": "GuuqvPm1d9kn",
        "outputId": "b93dc01c-37e7-4eef-b505-d1004e9dfd17"
      },
      "execution_count": 52,
      "outputs": [
        {
          "output_type": "stream",
          "name": "stdout",
          "text": [
            "FLOPS: 0.00248 G\n"
          ]
        }
      ]
    },
    {
      "cell_type": "markdown",
      "source": [
        "### Student without KD model FLOPS"
      ],
      "metadata": {
        "id": "gECAbLtnhC5a"
      }
    },
    {
      "cell_type": "code",
      "source": [
        "# Accuracy Class_accuracy: 97.88%\n",
        "student_wo_kd_load=load_model('./student_wo_kd_temp4.h5')\n",
        "student_wo_kd_load.load_weights('./student_wo_kd_temp4_weight')"
      ],
      "metadata": {
        "colab": {
          "base_uri": "https://localhost:8080/"
        },
        "id": "kCvgGK1MeXA_",
        "outputId": "5d75f658-1b66-47d2-c10d-05db8b8fafb6"
      },
      "execution_count": 31,
      "outputs": [
        {
          "output_type": "stream",
          "name": "stdout",
          "text": [
            "WARNING:tensorflow:No training configuration found in the save file, so the model was *not* compiled. Compile it manually.\n"
          ]
        },
        {
          "output_type": "stream",
          "name": "stderr",
          "text": [
            "WARNING:tensorflow:No training configuration found in the save file, so the model was *not* compiled. Compile it manually.\n"
          ]
        },
        {
          "output_type": "execute_result",
          "data": {
            "text/plain": [
              "<tensorflow.python.training.tracking.util.CheckpointLoadStatus at 0x7f4401315b90>"
            ]
          },
          "metadata": {},
          "execution_count": 31
        }
      ]
    },
    {
      "cell_type": "code",
      "source": [
        "flops = get_flops(student_wo_kd_load, batch_size=1)\n",
        "print(f\"FLOPS: {flops / 10 ** 9:.03} G\")"
      ],
      "metadata": {
        "colab": {
          "base_uri": "https://localhost:8080/"
        },
        "id": "5ZKW2-xbehNh",
        "outputId": "6e1b23b1-fc71-4d7f-c3cf-261f8f657b53"
      },
      "execution_count": 53,
      "outputs": [
        {
          "output_type": "stream",
          "name": "stdout",
          "text": [
            "FLOPS: 0.00248 G\n"
          ]
        }
      ]
    },
    {
      "cell_type": "markdown",
      "source": [
        "# XAI method to explain models"
      ],
      "metadata": {
        "id": "8b5yNhJfRu-7"
      }
    },
    {
      "cell_type": "markdown",
      "source": [
        "## PLOT DATASET"
      ],
      "metadata": {
        "id": "niAdq3G3hH5-"
      }
    },
    {
      "cell_type": "code",
      "source": [
        "import matplotlib.pyplot as plt"
      ],
      "metadata": {
        "id": "AEpEt9QNvuQI"
      },
      "execution_count": 33,
      "outputs": []
    },
    {
      "cell_type": "code",
      "source": [
        "mnist_xai = tfds.load('mnist', split='train')"
      ],
      "metadata": {
        "id": "vp2FbkiKOsrf"
      },
      "execution_count": 34,
      "outputs": []
    },
    {
      "cell_type": "code",
      "source": [
        "# test_teach_model=load_model('./teacher_model.h5')"
      ],
      "metadata": {
        "id": "akcjNfXF4-g-"
      },
      "execution_count": 35,
      "outputs": []
    },
    {
      "cell_type": "code",
      "source": [
        "\n",
        "mnist_xai_procesd = mnist_xai.map(preprocess).batch(BATCH_SIZE)\n",
        "# mnist_xai =mnist_xai.batch(BATCH_SIZE, drop_remainder=True)\n",
        "# mnist_xai_procesd"
      ],
      "metadata": {
        "id": "31lg8uXot2jr"
      },
      "execution_count": 36,
      "outputs": []
    },
    {
      "cell_type": "code",
      "source": [
        "mnist_xai_1,=mnist_xai_procesd.take(1)"
      ],
      "metadata": {
        "id": "sRK5DDuHJw39"
      },
      "execution_count": 37,
      "outputs": []
    },
    {
      "cell_type": "code",
      "source": [
        "x, y = mnist_xai_1"
      ],
      "metadata": {
        "id": "pJsg3BuHKWvJ"
      },
      "execution_count": 38,
      "outputs": []
    },
    {
      "cell_type": "code",
      "source": [
        "mnist_xai\n"
      ],
      "metadata": {
        "colab": {
          "base_uri": "https://localhost:8080/"
        },
        "id": "jUcGUKBjNOq2",
        "outputId": "02aa1aa8-2612-4eb9-853e-85c450e973ea"
      },
      "execution_count": 39,
      "outputs": [
        {
          "output_type": "execute_result",
          "data": {
            "text/plain": [
              "<PrefetchDataset element_spec={'image': TensorSpec(shape=(28, 28, 1), dtype=tf.uint8, name=None), 'label': TensorSpec(shape=(), dtype=tf.int64, name=None)}>"
            ]
          },
          "metadata": {},
          "execution_count": 39
        }
      ]
    },
    {
      "cell_type": "code",
      "source": [
        "mnist_xai_procesd\n"
      ],
      "metadata": {
        "colab": {
          "base_uri": "https://localhost:8080/"
        },
        "id": "zSudutfzYil0",
        "outputId": "f7c6b152-a861-4deb-c96a-c0c62668b6d2"
      },
      "execution_count": 40,
      "outputs": [
        {
          "output_type": "execute_result",
          "data": {
            "text/plain": [
              "<BatchDataset element_spec=(TensorSpec(shape=(None, 28, 28, 1), dtype=tf.float32, name=None), TensorSpec(shape=(None, 10), dtype=tf.float32, name=None))>"
            ]
          },
          "metadata": {},
          "execution_count": 40
        }
      ]
    },
    {
      "cell_type": "code",
      "source": [
        "mnist_xai_1"
      ],
      "metadata": {
        "id": "9lp8G2yiYm0c"
      },
      "execution_count": null,
      "outputs": []
    },
    {
      "cell_type": "code",
      "source": [
        "x[0].shape"
      ],
      "metadata": {
        "colab": {
          "base_uri": "https://localhost:8080/"
        },
        "id": "H3m9y1WKM5-f",
        "outputId": "94dc48ea-b993-4b5d-df0b-17bd482ca1ca"
      },
      "execution_count": 42,
      "outputs": [
        {
          "output_type": "execute_result",
          "data": {
            "text/plain": [
              "TensorShape([28, 28, 1])"
            ]
          },
          "metadata": {},
          "execution_count": 42
        }
      ]
    },
    {
      "cell_type": "code",
      "source": [
        "plt.imshow(tf.squeeze(x[0])) # squeeze removes dimension of size 1 like (28,28,1) -> (28,28)"
      ],
      "metadata": {
        "colab": {
          "base_uri": "https://localhost:8080/",
          "height": 283
        },
        "id": "Et9-ES9sQAQ3",
        "outputId": "d047cd48-3047-4fd5-f489-5ae6249dcc75"
      },
      "execution_count": 43,
      "outputs": [
        {
          "output_type": "execute_result",
          "data": {
            "text/plain": [
              "<matplotlib.image.AxesImage at 0x7f440189a190>"
            ]
          },
          "metadata": {},
          "execution_count": 43
        },
        {
          "output_type": "display_data",
          "data": {
            "text/plain": [
              "<Figure size 432x288 with 1 Axes>"
            ],
            "image/png": "[encoded data removed]"
          },
          "metadata": {
            "needs_background": "light"
          }
        }
      ]
    },
    {
      "cell_type": "markdown",
      "source": [
        "## GET PREDICTION from TEACHER model for particular INPUT"
      ],
      "metadata": {
        "id": "7fQvzdBQV2ww"
      }
    },
    {
      "cell_type": "code",
      "source": [
        "pred=teacher_load(tf.expand_dims(x[0], axis=0)) # expand dimension to add a dimension like (1,28,28,1) as Hidden layers in model expecting such iamge dimension"
      ],
      "metadata": {
        "id": "fhO9wu8yQFNU"
      },
      "execution_count": 25,
      "outputs": []
    },
    {
      "cell_type": "code",
      "source": [
        "tf.nn.softmax(pred)"
      ],
      "metadata": {
        "colab": {
          "base_uri": "https://localhost:8080/"
        },
        "id": "vEQnlf_aUT4_",
        "outputId": "e8966151-988e-4e86-8e0d-bf8f5d6e10ee"
      },
      "execution_count": 26,
      "outputs": [
        {
          "output_type": "execute_result",
          "data": {
            "text/plain": [
              "<tf.Tensor: shape=(1, 10), dtype=float32, numpy=\n",
              "array([[1.0030103e-10, 2.5686788e-06, 8.4403569e-09, 2.7899341e-10,\n",
              "        9.9999535e-01, 4.5524056e-09, 2.2485495e-10, 2.3152882e-07,\n",
              "        1.9484116e-07, 1.6142744e-06]], dtype=float32)>"
            ]
          },
          "metadata": {},
          "execution_count": 26
        }
      ]
    },
    {
      "cell_type": "markdown",
      "source": [
        "## GET PREDICTION from STUDENT with KD model for particular INPUT"
      ],
      "metadata": {
        "id": "c2OG21iBZ1R0"
      }
    },
    {
      "cell_type": "code",
      "source": [
        "pred_stud=student_kd_load(tf.expand_dims(x[0], axis=0))\n",
        "tf.nn.softmax(pred_stud)"
      ],
      "metadata": {
        "colab": {
          "base_uri": "https://localhost:8080/"
        },
        "id": "89cLCaMFZbsQ",
        "outputId": "5dda42e9-d604-4bb4-8e75-72d337c70567"
      },
      "execution_count": 44,
      "outputs": [
        {
          "output_type": "execute_result",
          "data": {
            "text/plain": [
              "<tf.Tensor: shape=(1, 10), dtype=float32, numpy=\n",
              "array([[5.9634790e-11, 8.6870961e-07, 9.4947306e-10, 3.3333386e-10,\n",
              "        9.9999237e-01, 3.5921215e-09, 3.0077296e-10, 1.2576783e-07,\n",
              "        6.2445923e-07, 6.0414723e-06]], dtype=float32)>"
            ]
          },
          "metadata": {},
          "execution_count": 44
        }
      ]
    },
    {
      "cell_type": "markdown",
      "source": [
        "## GET PREDICTION from STUDENT without KD model for particular INPUT"
      ],
      "metadata": {
        "id": "I41hNSPzZ7GI"
      }
    },
    {
      "cell_type": "code",
      "source": [
        "pred_stud_no_kd=student_wo_kd_load(tf.expand_dims(x[0], axis=0))\n",
        "tf.nn.softmax(pred_stud_no_kd)"
      ],
      "metadata": {
        "colab": {
          "base_uri": "https://localhost:8080/"
        },
        "id": "6kVnD06rZqBc",
        "outputId": "cd0cc386-b758-4b69-e423-38aa05e68a11"
      },
      "execution_count": 45,
      "outputs": [
        {
          "output_type": "execute_result",
          "data": {
            "text/plain": [
              "<tf.Tensor: shape=(1, 10), dtype=float32, numpy=\n",
              "array([[0.0000000e+00, 9.4916045e-16, 0.0000000e+00, 0.0000000e+00,\n",
              "        1.0000000e+00, 0.0000000e+00, 0.0000000e+00, 4.3558785e-24,\n",
              "        5.1301953e-29, 1.2446888e-26]], dtype=float32)>"
            ]
          },
          "metadata": {},
          "execution_count": 45
        }
      ]
    },
    {
      "cell_type": "markdown",
      "source": [
        "## **GRAD CAM function**"
      ],
      "metadata": {
        "id": "GNuwQUa8hQEE"
      }
    },
    {
      "cell_type": "code",
      "source": [
        "# your code start from here for step 9\n",
        "import numpy as np\n",
        "import keras.backend as K\n",
        "from scipy.ndimage.interpolation import zoom\n",
        "def grad_cam(input_model, image, layer_name):\n",
        "    cls = np.argmax(input_model.predict(image))\n",
        "    def normalize(x):\n",
        "        \"\"\"Utility function to normalize a tensor by its L2 norm\"\"\"\n",
        "        return (x + 1e-10) / (K.sqrt(K.mean(K.square(x))) + 1e-10)\n",
        "    \"\"\"GradCAM method for visualizing input saliency.\"\"\"\n",
        "    #y_c = input_model.output\n",
        "    y_c = tf.nn.softmax(input_model.output)\n",
        "    conv_output = input_model.get_layer(layer_name).output\n",
        "    feedforward1 = keras.models.Model([input_model.input], [conv_output, y_c])\n",
        "    with tf.GradientTape() as tape:\n",
        "        ff_results=feedforward1([image])\n",
        "        all_fmap_masks, predictions = ff_results[0], ff_results[-1]\n",
        "        loss = predictions[:, cls]\n",
        "    grads_val = tape.gradient(loss, all_fmap_masks)\n",
        "    if len(image.shape)==3:\n",
        "        axis=(0, 1)\n",
        "    elif len(image.shape)==4:\n",
        "        axis=(0, 1, 2)\n",
        "    weights = np.mean(grads_val, axis=axis)\n",
        "    cam = np.dot(all_fmap_masks[0], weights)\n",
        "    #print (cam)\n",
        "    H,W= image.shape[1:3]\n",
        "    cam = np.maximum(cam, 0)\n",
        "    #cam = resize(cam, (H, W))\n",
        "    cam = zoom(cam,H/cam.shape[0])\n",
        "    #cam = np.maximum(cam, 0)\n",
        "    cam = cam / cam.max()\n",
        "    return cam"
      ],
      "metadata": {
        "id": "yFgp5kA5RvID"
      },
      "execution_count": 135,
      "outputs": []
    },
    {
      "cell_type": "code",
      "source": [
        "xx=tf.nn.softmax(teacher_load.output)"
      ],
      "metadata": {
        "id": "I9AyoBvGsM7o"
      },
      "execution_count": 104,
      "outputs": []
    },
    {
      "cell_type": "code",
      "source": [
        "xx"
      ],
      "metadata": {
        "colab": {
          "base_uri": "https://localhost:8080/"
        },
        "id": "ouDRwde8sXt3",
        "outputId": "c3727d9e-1af3-4471-933f-5f238c068486"
      },
      "execution_count": 105,
      "outputs": [
        {
          "output_type": "execute_result",
          "data": {
            "text/plain": [
              "<KerasTensor: shape=(None, 10) dtype=float32 (created by layer 'tf.nn.softmax')>"
            ]
          },
          "metadata": {},
          "execution_count": 105
        }
      ]
    },
    {
      "cell_type": "code",
      "source": [
        "teacher.summary()"
      ],
      "metadata": {
        "colab": {
          "base_uri": "https://localhost:8080/"
        },
        "id": "yPVeNN0ZbIMg",
        "outputId": "a52decf4-a1b2-464f-9cbb-97e9640de91d"
      },
      "execution_count": 107,
      "outputs": [
        {
          "output_type": "stream",
          "name": "stdout",
          "text": [
            "Model: \"teacher\"\n",
            "_________________________________________________________________\n",
            " Layer (type)                Output Shape              Param #   \n",
            "=================================================================\n",
            " conv2d_2 (Conv2D)           (None, 28, 28, 32)        320       \n",
            "                                                                 \n",
            " re_lu_2 (ReLU)              (None, 28, 28, 32)        0         \n",
            "                                                                 \n",
            " max_pooling2d_2 (MaxPooling  (None, 28, 28, 32)       0         \n",
            " 2D)                                                             \n",
            "                                                                 \n",
            " conv2d_3 (Conv2D)           (None, 28, 28, 64)        18496     \n",
            "                                                                 \n",
            " re_lu_3 (ReLU)              (None, 28, 28, 64)        0         \n",
            "                                                                 \n",
            " max_pooling2d_3 (MaxPooling  (None, 14, 14, 64)       0         \n",
            " 2D)                                                             \n",
            "                                                                 \n",
            " flatten_2 (Flatten)         (None, 12544)             0         \n",
            "                                                                 \n",
            " dropout_2 (Dropout)         (None, 12544)             0         \n",
            "                                                                 \n",
            " dense_5 (Dense)             (None, 128)               1605760   \n",
            "                                                                 \n",
            " dropout_3 (Dropout)         (None, 128)               0         \n",
            "                                                                 \n",
            " dense_6 (Dense)             (None, 10)                1290      \n",
            "                                                                 \n",
            "=================================================================\n",
            "Total params: 1,625,866\n",
            "Trainable params: 1,625,866\n",
            "Non-trainable params: 0\n",
            "_________________________________________________________________\n"
          ]
        }
      ]
    },
    {
      "cell_type": "code",
      "source": [
        "map_GradCAM = []"
      ],
      "metadata": {
        "id": "EfoIZWXho0AW"
      },
      "execution_count": 141,
      "outputs": []
    },
    {
      "cell_type": "code",
      "source": [
        "map_GradCAM.append(grad_cam(teacher_load,tf.expand_dims(x[4], axis=0) , 'max_pooling2d_1'))\n",
        "map_GradCAM = np.array(map_GradCAM)\n",
        "map_GradCAM -= map_GradCAM.min()\n",
        "map_GradCAM /= map_GradCAM.max()+10e-30"
      ],
      "metadata": {
        "id": "Yq0poxUvoEJD"
      },
      "execution_count": 142,
      "outputs": []
    },
    {
      "cell_type": "code",
      "source": [
        "map_GradCAM.shape"
      ],
      "metadata": {
        "colab": {
          "base_uri": "https://localhost:8080/"
        },
        "id": "7CohuflGpwcb",
        "outputId": "5fd1459e-945f-46e2-e236-77d4bbc88412"
      },
      "execution_count": 120,
      "outputs": [
        {
          "output_type": "execute_result",
          "data": {
            "text/plain": [
              "(1, 28, 28)"
            ]
          },
          "metadata": {},
          "execution_count": 120
        }
      ]
    },
    {
      "cell_type": "code",
      "source": [
        "plt.imshow(tf.squeeze(x[4])) #cmap=plt.get_cmap('gray')"
      ],
      "metadata": {
        "colab": {
          "base_uri": "https://localhost:8080/",
          "height": 283
        },
        "id": "QnCZMKVCpUOZ",
        "outputId": "9c34ad7a-d937-4945-9647-64321e129dcb"
      },
      "execution_count": 140,
      "outputs": [
        {
          "output_type": "execute_result",
          "data": {
            "text/plain": [
              "<matplotlib.image.AxesImage at 0x7f4400052e10>"
            ]
          },
          "metadata": {},
          "execution_count": 140
        },
        {
          "output_type": "display_data",
          "data": {
            "text/plain": [
              "<Figure size 432x288 with 1 Axes>"
            ],
            "image/png": "[encoded data removed]"
          },
          "metadata": {
            "needs_background": "light"
          }
        }
      ]
    },
    {
      "cell_type": "code",
      "source": [
        "plt.imshow(tf.squeeze(map_GradCAM))"
      ],
      "metadata": {
        "colab": {
          "base_uri": "https://localhost:8080/",
          "height": 283
        },
        "id": "9yjcvkmKplt2",
        "outputId": "857bd7cf-f994-4a01-ad8f-1c16421366b2"
      },
      "execution_count": 143,
      "outputs": [
        {
          "output_type": "execute_result",
          "data": {
            "text/plain": [
              "<matplotlib.image.AxesImage at 0x7f4400360590>"
            ]
          },
          "metadata": {},
          "execution_count": 143
        },
        {
          "output_type": "display_data",
          "data": {
            "text/plain": [
              "<Figure size 432x288 with 1 Axes>"
            ],
            "image/png": "[encoded data removed]"
          },
          "metadata": {
            "needs_background": "light"
          }
        }
      ]
    },
    {
      "cell_type": "code",
      "source": [
        "pred_xai_teacher=teacher_load(tf.expand_dims(x[4], axis=0),training=False)\n",
        "tf.nn.softmax(pred_xai_teacher)"
      ],
      "metadata": {
        "colab": {
          "base_uri": "https://localhost:8080/"
        },
        "id": "gM_mRjkPtWYg",
        "outputId": "390c4c9e-1eea-418b-d9f1-62b84cc395c6"
      },
      "execution_count": 144,
      "outputs": [
        {
          "output_type": "execute_result",
          "data": {
            "text/plain": [
              "<tf.Tensor: shape=(1, 10), dtype=float32, numpy=\n",
              "array([[6.8508817e-11, 9.0662998e-12, 3.3017295e-07, 4.3686661e-05,\n",
              "        3.4996051e-09, 8.4864320e-07, 8.9487411e-11, 5.7198718e-10,\n",
              "        9.9854541e-01, 1.4097407e-03]], dtype=float32)>"
            ]
          },
          "metadata": {},
          "execution_count": 144
        }
      ]
    },
    {
      "cell_type": "markdown",
      "source": [
        "# APPLY NEW MNIST on TEACHER MODEL"
      ],
      "metadata": {
        "id": "fbJhYlYJDCoj"
      }
    },
    {
      "cell_type": "markdown",
      "source": [
        "# Implementing the state-of-the-art KD algorithm"
      ],
      "metadata": {
        "id": "KjwJ5oziRvRn"
      }
    },
    {
      "cell_type": "code",
      "source": [
        "# your code start from here for step 13\n"
      ],
      "metadata": {
        "id": "q10lybAFRvZt"
      },
      "execution_count": null,
      "outputs": []
    }
  ]
}